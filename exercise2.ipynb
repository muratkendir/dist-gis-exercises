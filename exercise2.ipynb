{
 "cells": [
  {
   "cell_type": "markdown",
   "id": "fe3ce17c",
   "metadata": {},
   "source": [
    "#  Making Requests and Filtering Data in Python"
   ]
  },
  {
   "cell_type": "markdown",
   "id": "9a3a25c2",
   "metadata": {},
   "source": [
    "- In the previous exercise we explored the BayernAtlas website and experienced the data services and interactions behind the web interface by using Web Developer Tool.\n",
    "- In this exercise, you will learn how to access similar data sources (web services) and manage the data using some simple Python codes.\n",
    "- However, before starting this exercise you need to know more about the datasets and how to access it."
   ]
  },
  {
   "cell_type": "markdown",
   "id": "00d0be22",
   "metadata": {},
   "source": [
    "## Step 1) Visit [BayernAtlas](https://geoportal.bayern.de/bayernatlas) website"
   ]
  },
  {
   "cell_type": "markdown",
   "id": "3580c38f",
   "metadata": {},
   "source": [
    "- [ ] Open the \"web developer tool\" by pressing Ctrl+Shift+C (or Ctrl+Shift+I) or by finding the tool in the browser menu.\n",
    "- [ ] Select a background map at any specific location on the map.\n",
    "- [ ] Check the URL of a raster image taken as a base map from the BayernAtlas website.\n",
    "- [ ] Copy the URL and try requesting this image by pasting the URL into the address bar.\n",
    "  - [ ] or you can test the URL using the \"curl\" program at the command prompt (CMD / Eingabeaufforderung).\n",
    "![BayernAtlas Basemap Request Sample](images/exr2/bayernatlas_wmts_image.png)"
   ]
  },
  {
   "cell_type": "markdown",
   "id": "a726df31",
   "metadata": {},
   "source": [
    "## Step 2) Make a request with Python and \"Requests\" library"
   ]
  },
  {
   "cell_type": "markdown",
   "id": "bf79144e",
   "metadata": {},
   "source": [
    "- [ ] Start a text editor (Notepad, Notepad++, SublimeText) or an IDE (Idle, Spyder, PyCharm)\n",
    "- [ ] Write the following code in the editor and save it as a file with .PY extension.\n",
    "  - Tip: Enable file extensions in Windows Explorer to view all file extensions.\n",
    "    - [how to enable file extensions (in english)](https://fileinfo.com/help/windows_10_show_file_extensions)\n",
    "    - [how to enable file extensions (in german)](https://www.giga.de/tipp/windows-10-und-11-dateiendungen-anzeigen-so-gehts/#windows_10_dateiendungen_einblenden)\n",
    "- [ ] Open command prompt (Eingabeaufforderung) and navigate to the same folder as your python file. Execute the file by typing ```python MY_PYTHON_CODE.py``` (or type in ```python3 MY_PYTHON_CODE.py``` in Linux systems)\n",
    "  - [ ] Try running python within **interactive** mode by typing ```python --interactive MY_PYTHON_CODE.py```."
   ]
  },
  {
   "cell_type": "code",
   "execution_count": 4,
   "id": "d7767cce",
   "metadata": {},
   "outputs": [
    {
     "name": "stdout",
     "output_type": "stream",
     "text": [
      "<Response [200]>\n"
     ]
    }
   ],
   "source": [
    "#CHECKPOINT 1\n",
    "\n",
    "# Import the native \"requests\" library to send a request to the web source.\n",
    "import requests\n",
    "\n",
    "# Replace the URL in the follwoing code with your selected URL\n",
    "mydata = requests.get(\"https://intergeo33.bayernwolke.de/betty/c_hist/13/4197/4598\")\n",
    "\n",
    "#Check what the \"mydata\" object.\n",
    "print(mydata)"
   ]
  },
  {
   "cell_type": "markdown",
   "id": "e90eb263-bc4f-4c22-97f3-124d00263b75",
   "metadata": {},
   "source": [
    "|  |  |\n",
    "|---|---|\n",
    "| **Variable Name** | mydata |\n",
    "| **Data Type** | requests.models.Response |"
   ]
  },
  {
   "cell_type": "markdown",
   "id": "ea8e1434",
   "metadata": {},
   "source": [
    "### 2a) What is happened?\n",
    "\n",
    "- ```import requests``` imported the library named \"requests\". This library is a simple HTTP library supports all the methods available in the HTTP protocol such as GET, POST, DELETE etc.\n",
    "- ```mydata =``` defines a variable and assigns it to the following object.\n",
    "- ```requests.get()``` calls a method in the requests library.\n",
    "\n",
    "> When a class (e.g. requests) contains functions (e.g. get) defined for the class itself, these functions are called \"methods\". \n",
    "\n",
    "- ```print(mydata)``` represents the content of the returned object."
   ]
  },
  {
   "cell_type": "markdown",
   "id": "b09f5dc4",
   "metadata": {},
   "source": [
    "### 2b) How to work with libraries?\n",
    "\n",
    "- [ ] Find and explore the documentation pages available on the Internet. [requests doc](https://requests.readthedocs.io/en/latest/user/quickstart/)\n",
    "  - Tip: You can use package repositories to find links to documentation pages. [Python Package Installer site](https://pypi.org/project/requests/)\n",
    "- [ ] Use the help() function to read the summarized documentation about the requests library. Type (```help(requests)```) and run the code."
   ]
  },
  {
   "cell_type": "markdown",
   "id": "350a5609",
   "metadata": {},
   "source": [
    "### 2c) How to expose the existing methods in a library?\n",
    "\n",
    "- [ ] In Python, everything is considered an object and each object can be examined by predefined functions such as type, dir, help etc. These predefined functions are called  \"Built-ins\" and can be listed by typing ```dir(__builtins__)```\n",
    "- [ ] Since the requests class is also considered an object you can follow the same procedure to expose existing methods for this class. Type ```dir(requests)```\n",
    "- [ ] Note that standard HTTP methods (get, post, put, delete etc.) area available in the list."
   ]
  },
  {
   "cell_type": "markdown",
   "id": "e427f3d0",
   "metadata": {},
   "source": [
    "### 2d) What we got by the request?\n",
    "\n",
    "- [ ] If you need to learn more about the data you received with the request, use the following functions:\n",
    "  - [ ] ```help(mydata)```\n",
    "  - [ ] ```type(mydata)```\n",
    "  - [ ] ```dir(mydata)```\n",
    "  - Note that if you are using an IDE to code you may have some useful tools to represent the information of variables. Check Spyder or PyCharm or Visual Studio Code IDE's.\n",
    "- [ ] You can also examine the hierarchical structure of the \"requests\" class imported with the library.\n",
    "  - [ ] Try to find requests.models.Response with \"dir\" function:\n",
    "    - [ ] dir(requests)\n",
    "    - [ ] dir(requests.models)\n",
    "    - [ ] dir(requests.models.Response)\n",
    "    - Note that the class names must be spelled exactly the same, because the python interpreter (the interactive compiler running at the backgorund) is **case-sensitive**. (e.g. ```dir(requests.models.response)``` would not work.)\n",
    "- [ ] If you followed the commands you might notice that the variable \"mydata\" is an instance object of the class \"requests.models.Response\". You can check it with the function ```isinstance(my_object, (class_name))```.\n",
    "  "
   ]
  },
  {
   "cell_type": "code",
   "execution_count": 32,
   "id": "9ccd16f8",
   "metadata": {},
   "outputs": [
    {
     "name": "stdout",
     "output_type": "stream",
     "text": [
      "True\n"
     ]
    }
   ],
   "source": [
    "print( isinstance(mydata, (requests.models.Response)))"
   ]
  },
  {
   "cell_type": "markdown",
   "id": "733e291f",
   "metadata": {},
   "source": [
    "## Step 3) How to view the content of the response?"
   ]
  },
  {
   "cell_type": "markdown",
   "id": "1ddcf827",
   "metadata": {},
   "source": [
    "- [ ] If you type ```dir(mydata)``` again, you can see all available methods to reveal the content of the object. \n",
    "    - [ ] Try to reveal the content by typing ```print( mydata.content )```\n",
    "    - [ ] or by typing ```print( mydata.text )```\n",
    "    - Note that because the file is an image file in binary format, the content is displayed as strings that are not human readable.\n",
    "- TIP: You can follow different tactics to view an image file in python. A standard library (native library) called \"webbrowser\" can call a minimal browser and display the image inside the browser. Another method would be import the \"Image\" class from the \"PIL\" library. To import this class, you can add ```from PIL import Image``` at the beginning of your code block. Since \"PIL\" is not a native python library, you may need to install it on your environment using (```pip install Pillow```)\n",
    "- [ ] For now we will just save the image file in the same folder using the following code:"
   ]
  },
  {
   "cell_type": "code",
   "execution_count": 7,
   "id": "1416af5f",
   "metadata": {},
   "outputs": [
    {
     "name": "stdout",
     "output_type": "stream",
     "text": [
      "File might be saved, check the folder: responses/exr2\n"
     ]
    }
   ],
   "source": [
    "with open(\"responses/exr2/my_requested_image.jpg\", \"wb\") as my_image_file:\n",
    "        my_image_file.write(mydata.content)"
   ]
  },
  {
   "cell_type": "markdown",
   "id": "185f7105",
   "metadata": {},
   "source": [
    "- [ ] \"open\" is another built-in function in pyhton. It needs the filename as the first parameter and the file mode as the second parameter. If you want to learn more about the \"file mode\", visit this page: [Real Python](https://realpython.com/read-write-files-python/) or type ```help(open)``` in the python interpreter. \n",
    "\n",
    "TIP: The reason for using \"open\" function via \"with\" is that the file should be closed after the manipulation. In the past, developers were often used the \"close\" function after every file manipulation. There is no need to use this file condition test when using \"with\" phrase."
   ]
  },
  {
   "cell_type": "code",
   "execution_count": 2,
   "id": "9ed97cdc",
   "metadata": {},
   "outputs": [
    {
     "name": "stdout",
     "output_type": "stream",
     "text": [
      "File might be saved, check the folder: responses/exr2\n"
     ]
    }
   ],
   "source": [
    "#CHECKPOINT 2\n",
    "\n",
    "import requests\n",
    "\n",
    "# Replace the URL in the follwing code with your selected URL\n",
    "mydata = requests.get(\"https://intergeo33.bayernwolke.de/betty/c_hist/13/4197/4598\")\n",
    "\n",
    "with open(\"responses/exr2/my_requested_image.jpg\", \"wb\") as my_image_file:\n",
    "    my_image_file.write(mydata.content)\n",
    "    print(\"File might be saved, check the folder: responses/exr2\")"
   ]
  },
  {
   "cell_type": "markdown",
   "id": "9e55b7bd-3c89-42c9-b8e2-234682998bae",
   "metadata": {},
   "source": [
    "|  |  |  |\n",
    "|---|---| --- |\n",
    "| **Variable Name** | mydata | mydata.content\n",
    "| **Variable Type** | requests.models.Response | bytes (binary)"
   ]
  },
  {
   "cell_type": "markdown",
   "id": "1f70dc9d-7edd-41a1-9e9b-0c44ce04d7d5",
   "metadata": {},
   "source": [
    "TIP: You may notice that the last line (```my_image_file.write(mydata.content)```) does not contain any parentheses or curly braces to highlight the inner code block. This is because parentheses and curly brackets are not used in the python programming language to do that. You need to use indentation to create a hierarchical programming style (e.g. conditional statements, functions, loops, etc.). Indentation usually consists of 4 space characters, but it can also be customized (e.g. You can use 3 spaces or TAB chacracter). Also note that a column (:) character is needed at the end of the last line before the indented lines.\n",
    "\n",
    "An example comparison between C and Python programming languages shows how indentation interpreted in python:\n",
    "![PythonvsC](images/exr2/py_vs_c_identation.png)"
   ]
  },
  {
   "cell_type": "markdown",
   "id": "ef8f5ae3-087a-4ad8-9a4d-898ad6b40b09",
   "metadata": {},
   "source": [
    "### 3b (optional) Open Images with Pillow"
   ]
  },
  {
   "cell_type": "code",
   "execution_count": 4,
   "id": "4b3d80cf-5944-4bab-b125-62e12db873f2",
   "metadata": {},
   "outputs": [],
   "source": [
    "from PIL import Image\n",
    "\n",
    "requested_image = Image.open(\"responses/exr2/my_requested_image.jpg\")\n",
    "\n",
    "requested_image.show()"
   ]
  },
  {
   "cell_type": "markdown",
   "id": "2f87340a-0078-40f9-a542-93fe69326f48",
   "metadata": {},
   "source": [
    "### 3c (optional) Open Images with Web Browser"
   ]
  },
  {
   "cell_type": "code",
   "execution_count": 6,
   "id": "d8516fc0-57fb-4715-82aa-edfe53d2528e",
   "metadata": {},
   "outputs": [
    {
     "data": {
      "text/plain": [
       "True"
      ]
     },
     "execution_count": 6,
     "metadata": {},
     "output_type": "execute_result"
    }
   ],
   "source": [
    "import webbrowser\n",
    "\n",
    "webbrowser.open_new(\"responses/exr2/my_requested_image.jpg\")"
   ]
  },
  {
   "cell_type": "markdown",
   "id": "e2ef2cf5-97ba-4510-815a-352ef6d08ffe",
   "metadata": {},
   "source": [
    "## Step 4) What about JSON / XML / HTML based files?\n",
    "\n",
    "- [ ] Let's find another web service that offers JSON or GML based data files and follow similar instructions to save this data on our local machine or python environment. Visit following web page:\n",
    "    - [Basic geospatial data of the official surveying system in North Rhine-Westphalia](https://www.ldproxy.nrw.de/kataster) (Geobasisdaten des amtlichen Vermessungswesens in Nordrhein-Westfalen\n",
    ")\n",
    "- [ ] Select one of the \"collection\"s (Landparcel/Flurstück, Building/Gebaeude or Administrative Unit/Verwaltungseinheit). \n",
    "- [ ] Select one of the features in the list and click on the JSON link at top right side of the page. If the data looks like too complex, try finding and installing a JSON viewer/parser add-on/extension for your browser.\n",
    "    - TIP: It is recommended to search for \"JSON Lite\" in Firefox, \"JSON-Handle\" or \"JSON Viewer Pro\" in Chrome browser.\n",
    "- [ ] Check also the GML file on the same page (Top-right). You can also find some useful add-ons/extensions to visualize XML based files in a \"more human-readable way\", often called  \"pretty-print\" style.\n",
    "    - TIP: It is recommended to search for \"Pretty XML\" in Firefox, \"XML Plus\" in Chrome browser.\n",
    "    - TIP: If the browser cannot open the GML/XML file in a new tab, then you can save the file on your local machine and open it by using web browser ( Right Click --> Open with ).\n",
    "    \n",
    "Here you will see different visualizations of JSON or XML files within these extensions:\n",
    "\n",
    "![JSON or XML Visualizations](images/exr2/browser_addons.png)"
   ]
  },
  {
   "cell_type": "markdown",
   "id": "cccf474d-a6d3-4ac3-b0dd-1ce2054de562",
   "metadata": {},
   "source": [
    "## Step 5) How to request JSON / XML / HTML based files from the web services?\n",
    "\n",
    "- [ ] Remove the last two lines from your code block or convert them into comment by adding hashtag (#) to the beginning of lines. (Keyboard Shortcut: Ctrl + / )\n",
    "- [ ] Copy and paste the requested URL in previous step (4) into your code block.\n",
    "- [ ] Add the lines ```myjson = mydata.json()``` and ```print(myjson)``` just after the requested URL."
   ]
  },
  {
   "cell_type": "code",
   "execution_count": 29,
   "id": "b57c550b-d889-4777-8e10-05810865e3e3",
   "metadata": {},
   "outputs": [],
   "source": [
    "import requests\n",
    "\n",
    "# Replace the URL with your own URL\n",
    "mydata = requests.get(\"https://www.ldproxy.nrw.de/kataster/collections/gebaeudebauwerk/items/DENW42AL1000NmHjBL?f=json\")\n",
    "\n",
    "myjson = mydata.json()\n",
    "\n",
    "#print(myjson)"
   ]
  },
  {
   "cell_type": "markdown",
   "id": "526a740d-ec22-4b6c-be38-e6bf682d43c4",
   "metadata": {},
   "source": [
    "|  |  |  |\n",
    "|---|---|---|\n",
    "| **Variable Name** | mydata | mydata.json()\n",
    "| **Variable Type** | requests.models.Response | dict(Python Dictionary)"
   ]
  },
  {
   "cell_type": "markdown",
   "id": "08943ffd-1826-4c77-b474-1981881fcb21",
   "metadata": {},
   "source": [
    "Here you have As you may notice, it was not actually converted into a JSON object, but is now a \"JSON serializable Python object\". In general terms it has been converted into a \"python dictionary\" object. JSON stands for Java Script Object Notation and is designed to provide a more human-readable alternative to XML. That is, it is a natural data exchange format designed for JavaScript, but not for Python. Python uses predefined data types such as tuples, lists and the most JSON-like format \"dictionary\" to handle the same data internally.converted the response object to a JSON by using a method of requests.get ([check documentation](https://requests.readthedocs.io/en/latest/api/)) , but ...\n",
    "\n",
    "- [ ] Is it really JSON?\n",
    "    - Type ```type(myjson)```\n",
    "- [ ] What are available methods or attributes for this instance object?\n",
    "    - Type ```dir(myjson)```\n",
    "- [ ] How can we use these available methods with this instance?\n",
    "    - Type ```help(myjson)```\n",
    "    \n",
    "As you may notice, it was not actually converted into a JSON object, but is now a **\"JSON serializable Python object\"**. In general terms it has been converted into a **\"python dictionary\"** object. JSON stands for Java Script Object Notation and is designed to provide a more human-readable alternative to XML. That is, it is a natural data exchange format designed for JavaScript, but not for Python. Python uses predefined data types such as tuples, lists and the most JSON-like format \"dictionary\" to handle the same data internally.\n",
    "\n",
    "- [ ] If you try to save the python dictionary object to a file, you will notice an error.\n",
    "```with open(\"my_request.json\", \"w\") as my_json_request:```\n",
    "\n",
    "```        my_json_request.write(myjson)```\n",
    "\n",
    "- [ ] However, you can change the \"json()\" method with \"text\" method and save the file as received like in the example below.\n"
   ]
  },
  {
   "cell_type": "code",
   "execution_count": 33,
   "id": "247d44d7-6f12-47a3-8b97-bcfe8848ddd9",
   "metadata": {},
   "outputs": [],
   "source": [
    "import requests\n",
    "\n",
    "# Replace the URL with your own URL\n",
    "mydata = requests.get(\"https://www.ldproxy.nrw.de/kataster/collections/gebaeudebauwerk/items/DENW42AL1000NmHjBL?f=json\")\n",
    "\n",
    "text_file = mydata.text\n",
    "\n",
    "with open(\"my_request.json\", \"w\") as my_req:\n",
    "         my_req.write(text_file)\n",
    "\n",
    "#print(text_file)"
   ]
  },
  {
   "cell_type": "markdown",
   "id": "5d0cd235-81c8-4e61-93c0-46a0ff2d040b",
   "metadata": {},
   "source": [
    "|  |  |  |\n",
    "|---|---| --- |\n",
    "| **Variable Name** | mydata | mydata.text\n",
    "| **Variable Type** | requests.models.Response | str (String)"
   ]
  },
  {
   "cell_type": "markdown",
   "id": "534e58ec-9bef-4db1-a3f9-b6b51e6a3c92",
   "metadata": {},
   "source": [
    "When this method is applied, the \"text_file\" is just assumed to be a correct json file and is saved with the file extension \".json\". So, it is currently no different from a normal text file. By importing the \"json\" library, we will get more functionality within our data, such as filtering, sorting, re-indenting, etc.\n",
    "\n",
    "- [ ] To do this, you need to import the library called \"json\". Add the line at the beginning of code block: ```import json```\n",
    "\n",
    "- [ ] Then use ```json.dumps``` to convert the dictionary to a string. "
   ]
  },
  {
   "cell_type": "code",
   "execution_count": 63,
   "id": "1b15be82-8acb-490c-93c3-52fed3a1f7d5",
   "metadata": {},
   "outputs": [
    {
     "data": {
      "text/plain": [
       "str"
      ]
     },
     "execution_count": 63,
     "metadata": {},
     "output_type": "execute_result"
    }
   ],
   "source": [
    "import json\n",
    "import requests\n",
    "\n",
    "# Replace the URL with your own URL\n",
    "mydata = requests.get(\"https://www.ldproxy.nrw.de/kataster/collections/gebaeudebauwerk/items/DENW42AL1000NmHjBL?f=json\")\n",
    "\n",
    "myjson = mydata.json()\n",
    "\n",
    "json_file = json.dumps(myjson)\n",
    "\n",
    "type(json_file)"
   ]
  },
  {
   "cell_type": "markdown",
   "id": "6e44a0ee-b01a-47a3-a457-bb51aad66156",
   "metadata": {},
   "source": [
    "|  |  |  |  |\n",
    "|---|---|---|---|\n",
    "| **Variable Name** | mydata | mydata.json() | json_file\n",
    "| **Variable Type** | requests.models.Response | dict | str"
   ]
  },
  {
   "cell_type": "markdown",
   "id": "4dbfbee2-4d08-4a4a-a5f9-56bc95b24165",
   "metadata": {},
   "source": [
    "- [ ] Now, you can copy the JSON file to our local machine by using \"with\" statement."
   ]
  },
  {
   "cell_type": "code",
   "execution_count": 20,
   "id": "b214507b-0b66-4e3f-82b5-253e3bf64572",
   "metadata": {},
   "outputs": [],
   "source": [
    "import json\n",
    "import requests\n",
    "\n",
    "# Replace the URL with your own URL\n",
    "mydata = requests.get(\"https://www.ldproxy.nrw.de/kataster/collections/gebaeudebauwerk/items/DENW42AL1000NmHjBL?f=json\")\n",
    "\n",
    "myjson = mydata.json()\n",
    "\n",
    "json_file = json.dumps(myjson)\n",
    "\n",
    "with open(\"my_request.json\", \"w\") as my_json_req:\n",
    "        my_json_req.write(json_file)\n",
    "\n",
    "#print(json_file)"
   ]
  },
  {
   "cell_type": "markdown",
   "id": "956b9434-439c-4559-9ef8-d00e96208808",
   "metadata": {},
   "source": [
    "- [ ] Try using some of the available parameters of \"json.dumps\" method. (for exp. \"indent\")"
   ]
  },
  {
   "cell_type": "code",
   "execution_count": 16,
   "id": "c3774e80-63b3-45f5-ba49-ae5577a7a156",
   "metadata": {},
   "outputs": [],
   "source": [
    "import json\n",
    "import requests\n",
    "\n",
    "# Replace the URL with your own URL\n",
    "mydata = requests.get(\"https://www.ldproxy.nrw.de/kataster/collections/gebaeudebauwerk/items/DENW42AL1000NmHjBL?f=json\")\n",
    "\n",
    "myjson = mydata.json()\n",
    "\n",
    "json_file = json.dumps(myjson, indent=4)\n",
    "\n",
    "with open(\"my_request.json\", \"w\") as my_json_req:\n",
    "        my_json_req.write(json_file)\n",
    "\n",
    "#print(json_file)"
   ]
  },
  {
   "cell_type": "markdown",
   "id": "9d807070-f778-48b7-928e-817f0ccb3ace",
   "metadata": {},
   "source": [
    "- [ ] Both JSON files or Python dictionaries can be filtered by defining keys. ('geometry' in the sample below)"
   ]
  },
  {
   "cell_type": "code",
   "execution_count": 96,
   "id": "cf7d43b9-7257-4a02-9238-ccb2a5ad5e0b",
   "metadata": {},
   "outputs": [],
   "source": [
    "import json\n",
    "import requests\n",
    "\n",
    "# Replace the URL with your own URL\n",
    "mydata = requests.get(\"https://www.ldproxy.nrw.de/kataster/collections/gebaeudebauwerk/items/DENW42AL1000NmHjBL?f=json\")\n",
    "\n",
    "myjson = mydata.json()\n",
    "\n",
    "my_geometry = myjson['geometry']\n",
    "\n",
    "json_file = json.dumps(my_geometry, indent=4)\n",
    "\n",
    "with open(\"my_request.json\", \"w\") as my_json_req:\n",
    "        my_json_req.write(json_file)\n",
    "\n",
    "#print(json_file)"
   ]
  },
  {
   "cell_type": "markdown",
   "id": "35f3d239-a343-4650-943e-e4963ebf0694",
   "metadata": {},
   "source": [
    "- [ ] Another possibility to save the desired JSON file is to export it by reading the data in binary format using the \"w\" to \"b\" parameter in the open function. Note that you don't need to import the \"json\" library as there is nothing to do with the object."
   ]
  },
  {
   "cell_type": "code",
   "execution_count": 67,
   "id": "570bfa03-84ea-4677-aac2-c365f82c86d0",
   "metadata": {},
   "outputs": [
    {
     "data": {
      "text/plain": [
       "bytes"
      ]
     },
     "execution_count": 67,
     "metadata": {},
     "output_type": "execute_result"
    }
   ],
   "source": [
    "import requests\n",
    "\n",
    "# Replace the URL with your own URL\n",
    "mydata = requests.get(\"https://www.ldproxy.nrw.de/kataster/collections/gebaeudebauwerk/items/DENW42AL1000NmHjBL?f=json\")\n",
    "\n",
    "my_content = mydata.content\n",
    "\n",
    "with open(\"my_request.json\", \"wb\") as my_json_req:\n",
    "        my_json_req.write(my_content)\n",
    "\n",
    "type(my_content)"
   ]
  },
  {
   "cell_type": "markdown",
   "id": "2a4d1cec-f5c6-4c0f-8ab0-dc8e36fb1d77",
   "metadata": {},
   "source": [
    "|  |  |  |\n",
    "|---|---|---|\n",
    "| **Variable Name** | mydata | mydata.content\n",
    "| **Variable Type** | requests.models.Response | bytes"
   ]
  },
  {
   "cell_type": "markdown",
   "id": "b8a2a0db-1438-4a93-95d5-7425e55ba4d7",
   "metadata": {},
   "source": [
    "## Step 6) Read a JSON file and display in python interpreter\n",
    "\n",
    "- [ ] You can read and modify saved files by using the \"load\" or \"loads\" method of the \"json\" library. To do this, you need to use \"open\" function with the \"r\" mode, which stands for \"read\"."
   ]
  },
  {
   "cell_type": "code",
   "execution_count": 86,
   "id": "0166fe48-f0d1-4120-8be4-9213c5447ca6",
   "metadata": {},
   "outputs": [],
   "source": [
    "import json\n",
    "import requests\n",
    "\n",
    "with open(\"my_request.json\", \"r\") as my_json_req:\n",
    "        json_file = my_json_req.read()\n",
    "\n",
    "my_object = json.loads(json_file)\n",
    "\n",
    "my_subset = my_object['geometry']\n",
    "\n",
    "#print(my_subset)"
   ]
  },
  {
   "cell_type": "markdown",
   "id": "f58cba87-a582-4353-8f3f-7963c78e454d",
   "metadata": {},
   "source": [
    "|  |  |  |  |  |\n",
    "|---|---|---|---|---|\n",
    "| **Variable Name** | mydata | my_object | my_subset\n",
    "| **Variable Type** | requests.models.Response | dict | dict"
   ]
  },
  {
   "cell_type": "markdown",
   "id": "48db8a5c-ee13-42f7-a88d-d937be17501d",
   "metadata": {},
   "source": [
    "- TIP: If you are confused with the dump and load methods, take a look at the image below which explains how to convert json data into python dictionaries or vice a versa.\n",
    "![json load and dump methods](images/exr2/json_load_dump.png)\n",
    ">image taken from: [https://zhuanlan.zhihu.com/p/509282317](https://zhuanlan.zhihu.com/p/509282317)"
   ]
  },
  {
   "cell_type": "markdown",
   "id": "3a24f523-fab1-42a7-aad1-235125e7e658",
   "metadata": {},
   "source": [
    "## Step 7) Convert the JSON request into a program that saves only properties to a file\n",
    "\n",
    "Suppose we want to save only the attributes of a desired JSON to a text file without all other attributes.\n",
    "\n",
    "We can do this easily with loop conditions.\n",
    "\n",
    "- [ ] Dictionaries, lists, tuples and sets are iterable data types in Python. So we don't need to do more, because the \"myjson\" variable is already a python dictionary. Let's change the filtering key with \"properties\"."
   ]
  },
  {
   "cell_type": "code",
   "execution_count": 106,
   "id": "29281260-ff46-42e9-a539-c348a75cf697",
   "metadata": {},
   "outputs": [
    {
     "data": {
      "text/plain": [
       "dict"
      ]
     },
     "execution_count": 106,
     "metadata": {},
     "output_type": "execute_result"
    }
   ],
   "source": [
    "import json\n",
    "import requests\n",
    "\n",
    "# Replace the URL with your own URL\n",
    "mydata = requests.get(\"https://www.ldproxy.nrw.de/kataster/collections/gebaeudebauwerk/items/DENW42AL1000NmHjBL?f=json\")\n",
    "\n",
    "myjson = mydata.json()\n",
    "\n",
    "mysubset = myjson['properties']\n",
    "\n",
    "type(mysubset)"
   ]
  },
  {
   "cell_type": "markdown",
   "id": "9569be4b-8f75-4d6f-a923-b8a858cfe8fa",
   "metadata": {},
   "source": [
    "- [ ] Since our data is still in the form of a dictionary, we can easily iterate the \"key-value\" pairs in a \"for\" condition like the one below:"
   ]
  },
  {
   "cell_type": "code",
   "execution_count": 107,
   "id": "941221ca-5491-4807-9d79-567f89910ed8",
   "metadata": {},
   "outputs": [
    {
     "name": "stdout",
     "output_type": "stream",
     "text": [
      "aktualit\n",
      "gebnutzbez\n",
      "funktion\n"
     ]
    }
   ],
   "source": [
    "import json\n",
    "import requests\n",
    "\n",
    "# Replace the URL with your own URL\n",
    "mydata = requests.get(\"https://www.ldproxy.nrw.de/kataster/collections/gebaeudebauwerk/items/DENW42AL1000NmHjBL?f=json\")\n",
    "\n",
    "myjson = mydata.json()\n",
    "\n",
    "mysubset = myjson['properties']\n",
    "\n",
    "for prop in mysubset:\n",
    "    print(prop)"
   ]
  },
  {
   "cell_type": "markdown",
   "id": "c9278c39-4071-4053-9236-82e8e4d6e374",
   "metadata": {},
   "source": [
    "- [ ] Now you can use the \"for\" condition inside the \"open\" function to save the properties as a list with automatically generated line numbers.\n",
    "- TIP: ```i=0``` and ```i=i+1``` automatically produces an integer and is casted as string to combine (concatenate) with other strings. Type casting is possible in python with built-in functions such as str(), int(), float(), bool(). "
   ]
  },
  {
   "cell_type": "code",
   "execution_count": 102,
   "id": "4c79d1b8-9b75-41c8-b7b7-181764fe978d",
   "metadata": {},
   "outputs": [],
   "source": [
    "import json\n",
    "import requests\n",
    "\n",
    "# Replace the URL with your own URL\n",
    "mydata = requests.get(\"https://www.ldproxy.nrw.de/kataster/collections/gebaeudebauwerk/items/DENW42AL1000NmHjBL?f=json\")\n",
    "\n",
    "myjson = mydata.json()\n",
    "\n",
    "mysubset = myjson['properties']\n",
    "\n",
    "with open(\"my_request.txt\", \"w\") as my_req:\n",
    "        i=0\n",
    "        for prop in mysubset:\n",
    "            i=i+1\n",
    "            myformat = str(i) + ' : ' + prop + '\\n' \n",
    "            my_req.write(myformat)            "
   ]
  },
  {
   "cell_type": "markdown",
   "id": "b8007aa8-d008-4f12-8b05-0de1ade612c6",
   "metadata": {},
   "source": [
    "## Step 8) Convert your code block into a function and let users define their own URL requests\n",
    "\n",
    "- [ ] You have already entered the URL you want in the code by manually changing the URL part. Now let's make the program more interactive to allow users to define their own URL on each different request. You need to define a function that listens for a user parameter and uses the same parameter in the computations. To do this, you need to use **\"def\"** which stands for \"definition\". Move the lines used to transform the data into the function definition using indentation."
   ]
  },
  {
   "cell_type": "markdown",
   "id": "9e9bd520-c97f-4854-93d2-cc047a44c131",
   "metadata": {},
   "source": [
    "- TIP: In Python programming, you can define multiple variables with the same name. Any variable defined inside a function will only be within the scope of that function. That is, if you declare a variable inside a function, it can only be accessed inside the function. This behavior is called \"local scope\" (see the \"mysubset\" variable in the code block below).\n",
    "- TIP: Defining a function is not enough to run it. If they are defined, you must call the function with mandatory parameters (\"custom_url\" in the example below.)"
   ]
  },
  {
   "cell_type": "code",
   "execution_count": 100,
   "id": "c5a50507-b2ba-40fb-be0b-a8363bf3733c",
   "metadata": {},
   "outputs": [],
   "source": [
    "import json\n",
    "import requests\n",
    "\n",
    "def get_building_properties(custom_url):\n",
    "    mydata = requests.get(custom_url)\n",
    "    myjson = mydata.json()\n",
    "    mysubset = myjson['properties']\n",
    "    return mysubset\n",
    "\n",
    "mysubset = get_building_properties(\"https://www.ldproxy.nrw.de/kataster/collections/gebaeudebauwerk/items/DENW42AL1000NmHjBL?f=json\")\n",
    "\n",
    "with open(\"my_request.txt\", \"w\") as my_req:\n",
    "        i=0\n",
    "        for prop in mysubset:\n",
    "            i=i+1\n",
    "            myformat = str(i) + ' : ' + prop + '\\n' \n",
    "            my_req.write(myformat)\n",
    "#print (mysubset)"
   ]
  },
  {
   "cell_type": "markdown",
   "id": "2d753a8d-7e94-4fca-b237-30c60ea7f48b",
   "metadata": {},
   "source": [
    "|  |  |  |  |  |  |  |\n",
    "|---|---|---|---|---|---|---|\n",
    "| **Variable Name** | mydata | myjson | mysubset (local) | mysubset (global) | my_req\n",
    "| **Variable Type** | requests.models.Response | dict | dict | dict | _io.TextIOWrapper"
   ]
  },
  {
   "cell_type": "markdown",
   "id": "af77a9dd-7cce-4c50-af87-74f091df2aa8",
   "metadata": {},
   "source": [
    "- [ ] We can also turn the code block that saves the file into a function, so that users can more easily determine the file name."
   ]
  },
  {
   "cell_type": "code",
   "execution_count": 93,
   "id": "7e056851-e786-4e82-8fe6-e17c835b7dfe",
   "metadata": {},
   "outputs": [],
   "source": [
    "import json\n",
    "import requests\n",
    "\n",
    "def get_building_properties(custom_url):\n",
    "    mydata = requests.get(custom_url)\n",
    "    myjson = mydata.json()\n",
    "    mysubset = myjson['properties']\n",
    "    return mysubset\n",
    "\n",
    "def save_property_as_list(my_file_name, my_object):\n",
    "    with open(my_file_name, \"w\") as my_req:\n",
    "        i=0\n",
    "        for prop in my_object:\n",
    "            i=i+1\n",
    "            myformat = str(i) + ' : ' + prop + '\\n' \n",
    "            my_req.write(myformat)\n",
    "\n",
    "building_properties = get_building_properties(\"https://www.ldproxy.nrw.de/kataster/collections/gebaeudebauwerk/items/DENW42AL1000NmHjBL?f=json\")\n",
    "\n",
    "save_property_as_list(\"my_request.txt\", building_properties)"
   ]
  },
  {
   "cell_type": "markdown",
   "id": "bdfd0658-3223-449a-a397-86ca300719d8",
   "metadata": {},
   "source": [
    "- [ ] You can apply the \"input\" function to turn the code into an interactive program."
   ]
  },
  {
   "cell_type": "code",
   "execution_count": 95,
   "id": "c0423521-44e6-49ed-b461-2c15844d0a8b",
   "metadata": {},
   "outputs": [
    {
     "name": "stdin",
     "output_type": "stream",
     "text": [
      "Enter the requested URL serves JSON :  https://www.ldproxy.nrw.de/kataster/collections/gebaeudebauwerk/items/DENW42AL1000NmHjBL?f=json\n",
      "Specify a file name with extension :  my_request2.txt\n"
     ]
    },
    {
     "name": "stdout",
     "output_type": "stream",
     "text": [
      "{'aktualit': '2014-03-26Z', 'gebnutzbez': 'Gebäude', 'funktion': 'Kapelle'}\n"
     ]
    }
   ],
   "source": [
    "import json\n",
    "import requests\n",
    "\n",
    "def get_building_properties(custom_url):\n",
    "    mydata = requests.get(custom_url)\n",
    "    myjson = mydata.json()\n",
    "    mysubset = myjson['properties']\n",
    "    return mysubset\n",
    "\n",
    "def save_property_as_list(my_file_name, my_object):\n",
    "    with open(my_file_name, \"w\") as my_req:\n",
    "        i=0\n",
    "        for prop in my_object:\n",
    "            i=i+1\n",
    "            myformat = str(i) + ' : ' + prop + '\\n' \n",
    "            my_req.write(myformat)\n",
    "        # print(my_object)\n",
    "\n",
    "requested_url = input(\"Enter the requested URL serves JSON : \")\n",
    "building_properties = get_building_properties(requested_url)\n",
    "\n",
    "custom_file_name = input(\"Specify a file name with extension : \")\n",
    "save_property_as_list(custom_file_name, building_properties)\n",
    "\n",
    "# https://www.ldproxy.nrw.de/kataster/collections/gebaeudebauwerk/items/DENW42AL1000NmHjBL?f=json\n",
    "# my_request2.txt"
   ]
  }
 ],
 "metadata": {
  "kernelspec": {
   "display_name": "Python 3 (ipykernel)",
   "language": "python",
   "name": "python3"
  },
  "language_info": {
   "codemirror_mode": {
    "name": "ipython",
    "version": 3
   },
   "file_extension": ".py",
   "mimetype": "text/x-python",
   "name": "python",
   "nbconvert_exporter": "python",
   "pygments_lexer": "ipython3",
   "version": "3.12.3"
  }
 },
 "nbformat": 4,
 "nbformat_minor": 5
}
