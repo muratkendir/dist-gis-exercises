{
 "cells": [
  {
   "cell_type": "markdown",
   "id": "1148c2d8-22c1-4c50-8def-611e69daf64c",
   "metadata": {
    "editable": true,
    "slideshow": {
     "slide_type": ""
    },
    "tags": []
   },
   "source": [
    "# Exercise - Distributed Systems & System Arcihtectures"
   ]
  },
  {
   "cell_type": "markdown",
   "id": "6c8f2883-26f8-4379-96d8-eb59aa713f41",
   "metadata": {},
   "source": [
    "<img align=\"right\" width=100 height=190 src=\"../images/TUM_Logo_blau_rgb_p.png\"/>\n",
    "\n",
    "<blockquote>\n",
    "Munich Technical University / Chair of Geoinformatics <br> \n",
    "Murat Kendir*, Jicang Zhu, Prof. Thomas Kolbe <br> \n",
    "murat.kendir@tum.de\n",
    "</blockquote>\n",
    "\n",
    "<div align=\"right\" style=\"font-size:0.5em;\">v. WiSe 2025-2026</div>"
   ]
  },
  {
   "cell_type": "markdown",
   "id": "8e1b2f02-c47d-48cb-9e29-0c42e16bc0a5",
   "metadata": {},
   "source": [
    "## Table of Contents\n",
    "\n",
    "- [0. Aim of the Exercise](#0-aim-of-the-exercise)\n",
    "   - [0.1 General Preparation](#01-general-preparation)\n",
    "   - [0.2 Cheatsheets](#02-cheatsheets)\n",
    "- [1. Technical Diagrams and UML](#1-technical-diagrams-and-uml)\n",
    "  - [1.1. How to draw a Sequence Diagram using PlantUML](#11-how-to-draw-a-sequence-diagram-using-plantuml)\n",
    "    - [1.1.1. Sample PlantUML Code](#111-sample-plantuml-code)\n",
    "  - [1.2. How to draw a sequence Diagram using Draw.io? - Optional](#12-how-to-draw-a-sequence-diagram-using-drawio-optional)\n",
    "- [2. Thin-Client & Fat-Client Architectures in the Web Applications](#2-thin-client-fat-client-architectures-in-the-web-applications)\n",
    "  - [2.1. Preparation for the Next Discussion about Tiers - Web Developer Tool / Developer Tool](#21-preparation-for-the-next-discussion-about-tiers-web-developer-tool-developer-tool)\n",
    "  - [2.2. Discussion about the Tiers in Layered Architectures](#22-discussion-about-the-tiers-in-layered-architectures)\n",
    "    - [2.2.1. Seismic Monitor - IRIS](#221-seismic-monitor-iris)\n",
    "    - [2.2.2. Geoportal Bayern](#222-geoportal-bayern)\n",
    "    - [2.2.3. TURF JS - Advanced geospatial analysis for browsers](#223-turf-js-advanced-geospatial-analysis-for-browsers)\n",
    "- [3. Creating a Sequence Diagram using a Sample Request – Response Example](#3-creating-a-sequence-diagram-using-a-sample-request-response-example)\n",
    "  - [3.1. Review the requests and responses before and after creating a route for mountain bikes in the BayernAtlas web app](#31-review-the-requests-and-responses-before-and-after-creating-a-route-for-mountain-bikes-in-the-bayernatlas-web-app)\n",
    "  - [3.2. Create the Sequence Diagram by considering the previously interactions](#32-create-the-sequence-diagram-by-considering-the-previously-interactions)\n",
    "  - [3.3. Request the UML Sequence Diagram from an AI Chatbot](#33-request-the-uml-sequence-diagram-from-an-ai-chatbot)\n"
   ]
  },
  {
   "cell_type": "code",
   "execution_count": 1,
   "id": "8363ce46-cb55-4620-92fe-d0e533b1560a",
   "metadata": {},
   "outputs": [],
   "source": [
    "import iplantuml"
   ]
  },
  {
   "cell_type": "markdown",
   "id": "57d8833a-089d-47ff-b75c-65aef87f56ab",
   "metadata": {
    "jp-MarkdownHeadingCollapsed": true
   },
   "source": [
    "## 0. Aim of the Exercise\n",
    "\n",
    "This exercise primarily focuses on creating UML Sequence Diagrams and understanding the importance of technically diagramming interactions between distributed systems. You will practice using diagramming tools and encounter spatial web applications to understand the mechanisms working in the background. In general, you will need to complete the following tasks:\n",
    "\n",
    "- Select a specific interaction on any of the given websites and try to understand the interactions between the user interface and the back-end applications/services using **developer tools** of the browsers. (Chapter 2)\n",
    "- Try to visualize the selected interaction using **PlantUML** or (alternatively) **Draw.io**, following UML Sequence Diagram rules. (Chapter 3)\n",
    "\n",
    "You can refer to the following resources when needed:\n",
    "\n",
    "### 0.1 General Preparation\n",
    "\n",
    "- [ ] Check the General Principles of the UML Sequence Diagrams (on Moodle, 1. Week, \"01-System Architectures\" presentation, \"UML Sequence Diagrams\" section)\n",
    "- [ ] <a href=\"https://guides.visual-paradigm.com/creating-sequence-diagrams-in-uml-a-comprehensive-tutorial/\" target=\"_blank\">Visual Paradigm - UML Tutorial</a>\n",
    "- [ ] <a href=\"https://firefox-source-docs.mozilla.org/devtools-user/\" target=\"_blank\">Firefox DevTools User Docs</a>\n",
    "\n",
    "### 0.2 Cheatsheets\n",
    "\n",
    "- [ ] <a href=\"https://pdf.plantuml.net/1.2020.22/PlantUML_Language_Reference_Guide_en.pdf\" target=\"_blank\">PlantUML Language Reference Guide</a>\n",
    "- [ ] <a href=\"https://youtu.be/2CC0fugc_2o?si=5tYM7X7NVzBOE-FH\" target=\"_blank\">Understand Browser Dev Tools Network Tab - Video Tutorial</a>"
   ]
  },
  {
   "cell_type": "markdown",
   "id": "c420c7e9-f914-4d8a-8665-677b5acf1e2b",
   "metadata": {},
   "source": [
    "## 1. Technical Diagrams and UML\n",
    "\n",
    "<blockquote>\n",
    "Technical diagrams are a visually rich way of expressing the procedures, workflows, plans, data models or scenarios in various domains. A Unified Modeling Language (UML) diagram is a standardized visual representation used to model and design software systems. It provides a blueprint of the system’s structure and behavior, helping developers, analysts, and stakeholders understand, communicate, and document software architecture and processes.\n",
    "</blockquote>\n",
    "\n",
    "In the following table you will find some UML and non-UML diagram types. \n",
    "\n",
    "Please note that we only focus on two type of the UML diagrams (**Sequence Diagram & State Machine Diagram**) in the Distributed GIS & Cloud Computing course.\n",
    "\n",
    " **UML Diagram Types** | **Non\\-UML Diagram Types** \n",
    ":---:|:---:\n",
    " **Sequence** | JSON Data \n",
    " Usecase | Wireframe graphical interface \n",
    " Class | Archimate \n",
    " Activity | Specification and Description Language \\(SDL\\) \n",
    " Component | Ditaa \n",
    " **State \\(Machine\\)** | Gantt \n",
    " Object | MindMap \n",
    " Deployment | Work Breakdown Structure \n",
    " Timing | Mathematic with AsciiMath or JLaTeXMath notation \n",
    " Communication | Concrete Resource Diagrams \\(AWS/Azure\\) \n",
    " Profile | Context\\-Container\\-Component\\-Code \\(C4\\) \n",
    " Package | Entity\\-Relationship \\(ER\\) \n",
    " "
   ]
  },
  {
   "cell_type": "markdown",
   "id": "5b4a0ecf-4a16-4096-9fa4-6da7246bce3b",
   "metadata": {},
   "source": [
    "### 1.1. How to draw a Sequence Diagram using PlantUML\n",
    "\n",
    "PlantUML is an open-source tool that lets you create UML and many other technical diagrams from plain-text source code instead of dragging shapes on a canvas.\n",
    "\n",
    "There are also alternatives to text-based diagramming tools such as PlantUML, including Mermaid, ZenUML, etc.\n",
    "\n",
    "In this exercise, we will focus on using PlantUML, but you can also use different diagramming tools to visualize your diagrams according to your own purposes.\n",
    "\n",
    "There are multiple ways of rendering PlantUML diagrams:\n",
    "\n",
    "- [ ] [plantuml.com](https://plantuml.com/) provides an online plantuml server which is free to use. (Recommended Method)\n",
    "  - Just type the plantmul codes into the textbox and press submit button.\n",
    "- [ ] In the text editor SublimeText, there is a plugin called \"PlantUMLDiagrams\". (Optional)\n",
    "  - To install this plugin, press ++ctrl+shift+p++ buttons and type \"Install Package\".\n",
    "  - After the list of the plugins appear, search for \"PlantUMLDiagrams\" and press on it.\n",
    "  - After the plugin installation finished, press again ++ctrl+shift+p++ buttons and search for \"Generate Diagrams for Active View\"\n",
    "  - NOTE: You have to have a \"PlantUML file\" with the correct notation and file extension (.puml or .pu)\n",
    "- [ ] In the code editor **Visual Studio Code**, there is a very popular extension called \\\"**PlantUML**\\\".\n",
    "  - To install this extension, press ++ctrl+shift+x++ to open the Extensions view.\n",
    "  - After the Extensions sidebar appears, search for \\\"PlantUML\\\" in the search box.\n",
    "  - Find the official extension (usually the first one, by Jebbs) from the list and click the blue \\\"Install\\\" button.\n",
    "  - After the extension has finished installing, open your file that contains PlantUML code.\n",
    "  - To generate a preview of your diagram, press the shortcut keys ++alt+d++ .\n",
    "  - (Optional) Alternatively, you can press ++ctrl+shift+p++ to open the Command Palette, then search for \\\"PlantUML: Preview Current Diagram\\\" and press Enter.\n",
    "- [ ] In Jupyter Lab (You can run it via Anaconda), there is an interactive PlantUML library called \"iplantuml\" (Optional)\n",
    "  - Type \"pip install iplantuml\" in the running jupyter notebook.\n",
    "  - Create an empty code cell and enter \"import iplantuml\"\n",
    "  - Create an additional code cell and start to typing your plantuml text starting with \"%%plantuml\".\n",
    "  - After running both of the cells, you can visualize the plantuml diagram\n"
   ]
  },
  {
   "cell_type": "markdown",
   "id": "f3929a6b-e30b-4db9-8c77-d20d81418df8",
   "metadata": {},
   "source": [
    "#### 1.1.1. Sample PlantUML Code\n",
    "\n",
    "You can use the following code as an example to test the tools described in the previous section."
   ]
  },
  {
   "cell_type": "code",
   "execution_count": 2,
   "id": "07c9041a-09b2-4032-aba6-d48442532c5e",
   "metadata": {
    "scrolled": true
   },
   "outputs": [
    {
     "name": "stdout",
     "output_type": "stream",
     "text": [
      "Writing output for /home/murat/gitpot/dist-gis-exercises/docs/notebooks/550589d4-9c76-4585-bb28-b01cceb48aed.uml to 550589d4-9c76-4585-bb28-b01cceb48aed.svg\n"
     ]
    },
    {
     "data": {
      "image/svg+xml": [
       "<svg xmlns=\"http://www.w3.org/2000/svg\" xmlns:xlink=\"http://www.w3.org/1999/xlink\" contentStyleType=\"text/css\" data-diagram-type=\"SEQUENCE\" height=\"298px\" preserveAspectRatio=\"none\" style=\"width:297px;height:298px;background:#FFFFFF;\" version=\"1.1\" viewBox=\"0 0 297 298\" width=\"297px\" zoomAndPan=\"magnify\"><defs/><g><g><title>Bob</title><rect fill=\"#FFFFFF\" height=\"29.1328\" style=\"stroke:#181818;stroke-width:1;\" width=\"10\" x=\"266.3867\" y=\"112.4297\"/></g><g><title>Bob</title><rect fill=\"#FFFFFF\" height=\"29.1328\" style=\"stroke:#181818;stroke-width:1;\" width=\"10\" x=\"266.3867\" y=\"170.6953\"/></g><g><title>Alice</title><rect fill=\"#000000\" fill-opacity=\"0.00000\" height=\"136.5313\" width=\"8\" x=\"20.8335\" y=\"81.2969\"/><line style=\"stroke:#181818;stroke-width:0.5;stroke-dasharray:5,5;\" x1=\"24\" x2=\"24\" y1=\"81.2969\" y2=\"217.8281\"/></g><g><title>Bob</title><rect fill=\"#000000\" fill-opacity=\"0.00000\" height=\"136.5313\" width=\"8\" x=\"267.3867\" y=\"81.2969\"/><line style=\"stroke:#181818;stroke-width:0.5;stroke-dasharray:5,5;\" x1=\"270.8584\" x2=\"270.8584\" y1=\"81.2969\" y2=\"217.8281\"/></g><g class=\"participant participant-head\" data-participant=\"Alice\"><text fill=\"#000000\" font-family=\"sans-serif\" font-size=\"14\" lengthAdjust=\"spacing\" textLength=\"33.667\" x=\"5\" y=\"77.9951\">Alice</text><ellipse cx=\"24.8335\" cy=\"13.5\" fill=\"#E2E2F0\" rx=\"8\" ry=\"8\" style=\"stroke:#181818;stroke-width:0.5;\"/><path d=\"M24.8335,21.5 L24.8335,48.5 M11.8335,29.5 L37.8335,29.5 M24.8335,48.5 L11.8335,63.5 M24.8335,48.5 L37.8335,63.5\" fill=\"none\" style=\"stroke:#181818;stroke-width:0.5;\"/></g><g class=\"participant participant-tail\" data-participant=\"Alice\"><text fill=\"#000000\" font-family=\"sans-serif\" font-size=\"14\" lengthAdjust=\"spacing\" textLength=\"33.667\" x=\"5\" y=\"229.8232\">Alice</text><ellipse cx=\"24.8335\" cy=\"241.625\" fill=\"#E2E2F0\" rx=\"8\" ry=\"8\" style=\"stroke:#181818;stroke-width:0.5;\"/><path d=\"M24.8335,249.625 L24.8335,276.625 M11.8335,257.625 L37.8335,257.625 M24.8335,276.625 L11.8335,291.625 M24.8335,276.625 L37.8335,291.625\" fill=\"none\" style=\"stroke:#181818;stroke-width:0.5;\"/></g><g class=\"participant participant-head\" data-participant=\"Bob\"><rect fill=\"#E2E2F0\" height=\"30.2969\" rx=\"2.5\" ry=\"2.5\" style=\"stroke:#181818;stroke-width:0.5;\" width=\"41.0566\" x=\"250.8584\" y=\"50\"/><text fill=\"#000000\" font-family=\"sans-serif\" font-size=\"14\" lengthAdjust=\"spacing\" textLength=\"27.0566\" x=\"257.8584\" y=\"69.9951\">Bob</text></g><g class=\"participant participant-tail\" data-participant=\"Bob\"><rect fill=\"#E2E2F0\" height=\"30.2969\" rx=\"2.5\" ry=\"2.5\" style=\"stroke:#181818;stroke-width:0.5;\" width=\"41.0566\" x=\"250.8584\" y=\"216.8281\"/><text fill=\"#000000\" font-family=\"sans-serif\" font-size=\"14\" lengthAdjust=\"spacing\" textLength=\"27.0566\" x=\"257.8584\" y=\"236.8232\">Bob</text></g><g><title>Bob</title><rect fill=\"#FFFFFF\" height=\"29.1328\" style=\"stroke:#181818;stroke-width:1;\" width=\"10\" x=\"266.3867\" y=\"112.4297\"/></g><g><title>Bob</title><rect fill=\"#FFFFFF\" height=\"29.1328\" style=\"stroke:#181818;stroke-width:1;\" width=\"10\" x=\"266.3867\" y=\"170.6953\"/></g><g class=\"message\" data-participant-1=\"Alice\" data-participant-2=\"Bob\"><polygon fill=\"#181818\" points=\"254.3867,108.4297,264.3867,112.4297,254.3867,116.4297,258.3867,112.4297\" style=\"stroke:#181818;stroke-width:1;\"/><line style=\"stroke:#181818;stroke-width:1;\" x1=\"24.8335\" x2=\"260.3867\" y1=\"112.4297\" y2=\"112.4297\"/><text fill=\"#000000\" font-family=\"sans-serif\" font-size=\"13\" lengthAdjust=\"spacing\" textLength=\"152.9531\" x=\"31.8335\" y=\"107.3638\">Authentication Request</text></g><g class=\"message\" data-participant-1=\"Bob\" data-participant-2=\"Alice\"><polygon fill=\"#181818\" points=\"35.8335,137.5625,25.8335,141.5625,35.8335,145.5625,31.8335,141.5625\" style=\"stroke:#181818;stroke-width:1;\"/><line style=\"stroke:#181818;stroke-width:1;\" x1=\"29.8335\" x2=\"270.3867\" y1=\"141.5625\" y2=\"141.5625\"/><text fill=\"#000000\" font-family=\"sans-serif\" font-size=\"13\" lengthAdjust=\"spacing\" textLength=\"162.5825\" x=\"41.8335\" y=\"136.4966\">Authentication Response</text></g><g class=\"message\" data-participant-1=\"Alice\" data-participant-2=\"Bob\"><polygon fill=\"#181818\" points=\"254.3867,166.6953,264.3867,170.6953,254.3867,174.6953,258.3867,170.6953\" style=\"stroke:#181818;stroke-width:1;\"/><line style=\"stroke:#181818;stroke-width:1;\" x1=\"24.8335\" x2=\"260.3867\" y1=\"170.6953\" y2=\"170.6953\"/><text fill=\"#000000\" font-family=\"sans-serif\" font-size=\"13\" lengthAdjust=\"spacing\" textLength=\"207.9238\" x=\"31.8335\" y=\"165.6294\">Another authentication Request</text></g><g class=\"message\" data-participant-1=\"Bob\" data-participant-2=\"Alice\"><polygon fill=\"#181818\" points=\"35.8335,195.8281,25.8335,199.8281,35.8335,203.8281,31.8335,199.8281\" style=\"stroke:#181818;stroke-width:1;\"/><line style=\"stroke:#181818;stroke-width:1;\" x1=\"29.8335\" x2=\"270.3867\" y1=\"199.8281\" y2=\"199.8281\"/><text fill=\"#000000\" font-family=\"sans-serif\" font-size=\"13\" lengthAdjust=\"spacing\" textLength=\"217.5532\" x=\"41.8335\" y=\"194.7622\">Another authentication Response</text></g><!--SRC=[IqmkoIzISCp9J4xb0fCAkdOAJlb9LWgEfIKPgNabcSc99PdvUGf1gOMbgSKbN8x99PbbYIMf84LSG0nI3zQ8HKTnGNvUSIgNIseYiYOqQ_BoWRgA51A9i0wYqqQNW4wirW80]--></g></svg>"
      ],
      "text/plain": [
       "<IPython.core.display.SVG object>"
      ]
     },
     "execution_count": 2,
     "metadata": {},
     "output_type": "execute_result"
    }
   ],
   "source": [
    "%%plantuml\n",
    "\n",
    "@startuml\n",
    "actor Alice\n",
    "Alice -> Bob: Authentication Request\n",
    "Activate Bob\n",
    "Bob -> Alice: Authentication Response\n",
    "Deactivate Bob\n",
    "Alice -> Bob: Another authentication Request\n",
    "Activate Bob\n",
    "Alice <- Bob: Another authentication Response\n",
    "Deactivate Bob\n",
    "@enduml"
   ]
  },
  {
   "cell_type": "markdown",
   "id": "45449973-7910-4e89-b033-f4747ec978f2",
   "metadata": {},
   "source": [
    "### 1.2. How to draw a sequence Diagram using Draw.io? - Optional\n",
    "\n",
    "You can create UML diagram on [Diagrams Net](https://app.diagrams.net/)\n",
    "\n",
    "- [ ] Choose the location where you want to save your diagram. We suggest saving it in your local device, thus you don’t need to log in or register an account.\n",
    "You can start drawing by creating a blank diagram.\n",
    "\n",
    "<figure style=\"width:%100;text-align: center;\">\n",
    "  <img src=\"../images/exr1/diagrams_choose_type.png\" alt=\"Draw.io - Choose Type\" style=\"border:3px solid darkgray\">\n",
    "  <figcaption>Draw.io - Choose Type</figcaption>\n",
    "</figure> \n",
    "\n",
    "- [ ] As you start drawing, a panel will appear on the left side, where you can select UML shapes. Find those relevant shapes and use them to create your sequence diagram. You can refer to the lecture slides and see which shapes are relevant.\n",
    "\n",
    "<figure style=\"width:%100;text-align: center;\">\n",
    "  <img src=\"../images/exr1/diagrams_uml_shapes.png\" alt=\"Draw.io - UML Shapes Collection\" style=\"border:3px solid darkgray\">\n",
    "  <figcaption>Draw.io - UML Shapes Collection</figcaption>\n",
    "</figure> \n",
    "\n",
    "> Tip: In the application you can use the shapes named “Actor”, “Lifeline”, “Activation Bar”, “Self Call”, “Message” and “Return”. If you have forgotten the notations of the UML sequence diagram, check the slides 31-39  of the presentation “01 – System architectures”. \n"
   ]
  },
  {
   "cell_type": "markdown",
   "id": "da933365-8a89-4547-9e60-a6e6dc0e8041",
   "metadata": {},
   "source": [
    "## 2. Thin-Client & Fat-Client Architectures in the Web Applications\n",
    "\n",
    "In this step,  we will learn how to observe some interactions on different web sites using “web developer tools” (in Firefox) or “Developer Tools” (Chrome). We will discuss which interactions are based on a Fat-Client or Thin-Client architecture in relation to our observations (Relevant Presentation: 01 - System Architectures / page 17)."
   ]
  },
  {
   "cell_type": "markdown",
   "id": "260c5a6f-07ed-4b6a-82b5-3211bbe82efe",
   "metadata": {},
   "source": [
    "### 2.1. Preparation for the Next Discussion about Tiers - Web Developer Tool / Developer Tool\n",
    "\n",
    " - Open Firefox or Google Chrome web browser.\n",
    " - Simply navigate to the relevant page shown in the next topic ( [IRIS Seismic Monitor](https://ds.iris.edu/seismon/index.phtml) ) or go to a random web site.\n",
    " - Press Ctrl + Shift + C buttons together or Ctrl + Shift + I / Alternatively, you can navigate from menu:\n",
    " - For Firefox: Menu > More Tools > Web Developer Tool\n",
    " - For Chrome: Menu > More Tools > Developer Tool\n",
    " - Navigate to the Network tab and press reload button. / Alternatively, you can press F5 key for refreshing the page. (If you want to refresh the web page by clearing the cache, press Ctrl + F5)\n",
    " - Enable “Disable Cache” by checking the box.\n",
    " - Observe at a quick glance which files have been successfully downloaded and which have not. Download status is exposed as “status codes” in the first column of the Network tab. If you want to learn more about status codes, visit the page: [HTTP Status Codes](https://developer.mozilla.org/en-US/docs/Web/HTTP/Status) or search for “HTTP status codes”\n",
    " - Right-click on the column headers in the Network Pane and enable the Start Time, End Time, Response Time and Duration columns. All these temporal attributes will be visualized in the Timeline (called Waterfall in the Chrome browser) section in the Network Pane. (The same attributes are available in the Waterfall column in the Chrome browser. If you cannot see the Waterfall column, right-click on one of the column headers and enable it).\n",
    " - It is now possible to see loaded resources in ascending or descending time order. This is very useful for detecting the latest loaded resources on a web page.\n",
    " - Simply click on a row to view methods for these resources (GET/POST or DELETE) and header attributes (such as MIME types, and charset).\n",
    " - You can use the “Raw” switch to see raw data in the Response tab.\n",
    "\n",
    "On Chrome: Clear panel, filter requests by requested data type.\n",
    "\n",
    "<figure style=\"width:%100;text-align: center;\">\n",
    "  <img src=\"../images/exr1/chrome_filter_requests.png\" alt=\"Chrome Filter Requests\" style=\"border:3px solid darkgray\">\n",
    "  <figcaption>Chrome Filter Requests</figcaption>\n",
    "</figure>\n",
    "\n",
    "On Chrome: Read the request header and the corresponding response, check the detailed data type (MIME type and character encoding / charset).\n",
    "\n",
    "<figure style=\"width:%100;text-align: center;\">\n",
    "  <img src=\"../images/exr1/chrome_check_details.png\" alt=\"Chrome Check Details\" style=\"border:3px solid darkgray\">\n",
    "  <figcaption>Chrome Check Details</figcaption>\n",
    "</figure>\n",
    "\n",
    "On Chrome: You can sort requests by clicking on the column names and it is also possible to sort by start time, end time, response time, etc. These are not displayed directly as separate columns, but you can find them in the “Timeline”/“Waterfall”.\n",
    "\n",
    "<figure style=\"width:%100;text-align: center;\">\n",
    "  <img src=\"../images/exr1/chrome_waterfall.png\" alt=\"Chrome Waterfall\" style=\"border:3px solid darkgray\">\n",
    "  <figcaption>Chrome Waterfall</figcaption>\n",
    "</figure>\n",
    "\n",
    "On Firefox: Clear panel, filter requests by type of requested data\n",
    "\n",
    "<figure style=\"width:%100;text-align: center;\">\n",
    "  <img src=\"../images/exr1/firefox_data_type.png\" alt=\"Firefox Data Type\" style=\"border:3px solid darkgray\">\n",
    "  <figcaption>Firefox Data Type</figcaption>\n",
    "</figure>\n",
    "\n",
    "On Firefox: By clicking on a row, you can also view the details of a request and corresponding response. Also it’s possible to sort requests by start time, end time, etc. in Firefox.\n",
    "\n",
    "<figure style=\"width:%100;text-align: center;\">\n",
    "  <img src=\"../images/exr1/firefox_timings.png\" alt=\"Firefox Timings\" style=\"border:3px solid darkgray\">\n",
    "  <figcaption>Firefox Data Type</figcaption>\n",
    "</figure>\n"
   ]
  },
  {
   "cell_type": "markdown",
   "id": "2354b950-7187-4d86-b976-1dd3dc7659ba",
   "metadata": {},
   "source": [
    "### 2.2. Discussion about the Tiers in Layered Architectures\n",
    "\n",
    "Examine the following web sites by using the “Web Developer Tools” / “Developer Tools” as described above and try to answer questions:\n",
    "- A) What kind of tiers might the web applications have? (Application-Interface, Application, Data)\n",
    "- B) Are the parts/files represented on the web app downloaded automatically or is the download triggered by an interaction?\n",
    "- C) Is the web site in Thin-Client Architecture or Fat-Client Architecture?\n"
   ]
  },
  {
   "cell_type": "markdown",
   "id": "03ec8b86-35de-4f7a-9129-f58215113056",
   "metadata": {},
   "source": [
    "#### 2.2.1. Seismic Monitor - IRIS\n",
    "\n",
    "[https://ds.iris.edu/seismon/index.phtml](https://ds.iris.edu/seismon/index.phtml)\n",
    "\n",
    "- 1) Do the HTML, CSS and image files represent the application interface?\n",
    " \n",
    "<figure style=\"width:%100;text-align: center;\">\n",
    "  <img src=\"../images/exr1/iris_dom_contents.png\" alt=\"IRIS Web Contents\" style=\"border:3px solid darkgray\">\n",
    "  <figcaption>IRIS - Web Content Types</figcaption>\n",
    "</figure>\n",
    "\n",
    "- 2)  After clicking on a point on the map, the World Seismic Map changed. Thus, the click event triggered the app to download another data from the server.\n",
    "\n",
    "<figure style=\"width:%100;text-align: center;\">\n",
    "  <img src=\"../images/exr1/iris_interaction.png\" alt=\"IRIS Interaction\" style=\"border:3px solid darkgray\">\n",
    "  <figcaption>IRIS - Interaction with the Map</figcaption>\n",
    "</figure>\n",
    "\n",
    "This website is a very old but working example of a web mapping application. It is a good example of a \"thin client\" architecture as data is always downloaded from the server by requests.\n"
   ]
  },
  {
   "cell_type": "markdown",
   "id": "66813e37-6edf-4870-874e-03fe38375553",
   "metadata": {},
   "source": [
    "#### 2.2.2. Geoportal Bayern\n",
    "\n",
    "[https://geoportal.bayern.de/bayernatlas](https://geoportal.bayern.de/bayernatlas)\n",
    "\n",
    "In the home page, select the base map to be loaded on the screen.\n",
    "\n",
    "<figure style=\"width:%100;text-align: center;\">\n",
    "  <img src=\"../images/exr1/bayernatlas_basemap.png\" alt=\"BayernAtlas Basemap\" style=\"border:3px solid darkgray\">\n",
    "  <figcaption>BayernAtlas - Basemap Selection</figcaption>\n",
    "</figure>\n",
    "\n",
    "To load bike paths (Radwege), a cycling map, activate the Hiking and cycling trails layers (Home page:Themen> Sport- und Freizeit > Wander- und Radwege> Radwege). Once activated, you will see a green network on the map.\n",
    "\n",
    "<figure style=\"width:%100;text-align: center;\">\n",
    "  <img src=\"../images/exr1/bayernatlas_overlay.png\" alt=\"BayernAtlas Overlay\" style=\"border:3px solid darkgray\">\n",
    "  <figcaption>BayernAtlas - Overlay</figcaption>\n",
    "</figure>\n",
    "\n",
    "This individual biking trail net is retrieved from the server and is displayed as a transparent image. Let’s assume you need this image for another purpose, while you don’t see any button that allows you to directly download it. In this case, Web Developer Tool might be helpful.\n",
    "Open Web Developer Tool, refresh the page, you will see a list of requests with image data. In order not to spend time on previewing each image, you can filter requests by “Name”. In our case, we search for “radwege” data, therefore we type “radwege” in Filter textbox.\n",
    "\n",
    "<figure style=\"width:%100;text-align: center;\">\n",
    "  <img src=\"../images/exr1/bayernatlas_radwege.png\" alt=\"bayernatlas_radwege\" style=\"border:3px solid darkgray\">\n",
    "  <figcaption>Bayernatlas - Radwege (Biking Trails)</figcaption>\n",
    "</figure>\n",
    "\n",
    "Double-click on the relevant row and you will see a png file on a separate web page and you can easily save this bike path image.\n",
    "\n",
    "<figure style=\"width:%100;text-align: center;\">\n",
    "  <img src=\"../images/exr1/bayernatlas_radwege_response.png\" alt=\"bayernatlas_radwege response\" style=\"border:3px solid darkgray\">\n",
    "  <figcaption>Bayernatlas - Radwege (Biking Trails) response</figcaption>\n",
    "</figure>\n"
   ]
  },
  {
   "cell_type": "markdown",
   "id": "aeb23063-599e-41a8-aae8-3cf7e3cc840c",
   "metadata": {},
   "source": [
    "#### 2.2.3. TURF JS - Advanced geospatial analysis for browsers\n",
    "\n",
    "[https://turfjs.org/](https://turfjs.org/)\n",
    "\n",
    "TurfJS is a JavaScript library that supports dealing with geospatial datasets in browsers and manipulating them using some spatial functions. It usually loads JS packages into the browser in compressed or linearized format like the other JS libraries.\n",
    "\n",
    "> Tip: You can use [prettier.io](https://prettier.io/) web application to see these files in a “pretty printed” format.\n",
    "\n",
    "<figure style=\"width:%100;text-align: center;\">\n",
    "  <img src=\"../images/exr1/turf_js_packages.png\" alt=\"turf_js_packages\" style=\"border:3px solid darkgray\">\n",
    "  <figcaption>TurfJS - Packages</figcaption>\n",
    "</figure>\n",
    "\n",
    "Clear the available requests in the network pane and try to select an operation on the main web page (For example select “Voronoi”).\n",
    "\n",
    "<figure style=\"width:%100;text-align: center;\">\n",
    "  <img src=\"../images/exr1/turf_voronoi.png\" alt=\"turf_js_voronoi\" style=\"border:3px solid darkgray\">\n",
    "  <figcaption>TurfJS - Voronoi algorithm</figcaption>\n",
    "</figure>\n",
    "\n",
    "Try to zoom in and zoom out on one of the map (input or output widget).\n",
    "\n",
    "<figure style=\"width:%100;text-align: center;\">\n",
    "  <img src=\"../images/exr1/turf_zoomin_out.png\" alt=\"turf_js_voronoi\" style=\"border:3px solid darkgray\">\n",
    "  <figcaption>TurfJS - Zoom In / Out</figcaption>\n",
    "</figure>\n"
   ]
  },
  {
   "cell_type": "markdown",
   "id": "f4c1bb36-19b3-4e2d-848d-d6bbce2fce54",
   "metadata": {},
   "source": [
    "## 3. Creating a Sequence Diagram using a Sample Request – Response Example\n",
    "\n",
    "In this step, you will observe an interaction that takes place in the BayernAtlas web app. This interaction is a simple routing / navigation application that provides a route for specified leisure activity.\n",
    "You will then create a sequence diagram taking into account this interaction and possible web services working in the background.\n",
    "\n",
    "> Note: Do not consider timings (start time, duration etc.) of the requests.\n"
   ]
  },
  {
   "cell_type": "markdown",
   "id": "bb84ea3b-e03d-428f-8709-7af6d5175977",
   "metadata": {},
   "source": [
    "### 3.1. Review the requests and responses before and after creating a route for mountain bikes in the BayernAtlas web app\n",
    "\n",
    "Choose a routing mode. Such as “hiking” (wandern)  as shown in the first icon. Select the start point and end point on the map, a route will be created and a profile showing the elevation along the route.\n",
    "\n",
    "<figure style=\"width:%100;text-align: center;\">\n",
    "  <img src=\"../images/exr1/bayernatlas_routing.png\" alt=\"bayernatlas_routing\" style=\"border:3px solid darkgray\">\n",
    "  <figcaption>Bayernatlas - Routing (Interaction)</figcaption>\n",
    "</figure>\n",
    "\n",
    "<figure style=\"width:%100;text-align: center;\">\n",
    "  <img src=\"../images/exr1/bayernatlas_mountain_bike.png\" alt=\"bayernatlas_mountain_bike\" style=\"border:3px solid darkgray\">\n",
    "  <figcaption>Bayernatlas - Mountain Bike (Interaction)</figcaption>\n",
    "</figure>\n",
    "\n",
    "The “route” and “profile” are created using data from the server. We can also download them as JSON files from the Web Developer Tool.\n",
    "\n",
    "<figure style=\"width:%100;text-align: center;\">\n",
    "  <img src=\"../images/exr1/bayernatlas_profile.png\" alt=\"bayernatlas_profile\" style=\"border:3px solid darkgray\">\n",
    "  <figcaption>Bayernatlas - Profile (Interaction)</figcaption>\n",
    "</figure>\n",
    "\n",
    "Clear the network pane before routing interaction and then observe the requests and responses triggered by this interaction.\n",
    "\n",
    "<figure style=\"width:%100;text-align: center;\">\n",
    "  <img src=\"../images/exr1/bayernatlas_clear_requests.png\" alt=\"bayernatlas_clear_requests\" style=\"border:3px solid darkgray\">\n",
    "  <figcaption>Bayernatlas - Clear Requests (Interaction)</figcaption>\n",
    "</figure>\n",
    "\n",
    "Check the “method” of the “profile” request and check both of the request and response tabs in the detailed information pane for this service. \n",
    "\n",
    "<figure style=\"width:%100;text-align: center;\">\n",
    "  <img src=\"../images/exr1/bayernatlas_profile_response.png\" alt=\"bayernatlas_profile_response\" style=\"border:3px solid darkgray\">\n",
    "  <figcaption>Bayernatlas - Profile Response (Interaction)</figcaption>\n",
    "</figure>\n",
    "\n",
    "Just as we did before, open Web Developer Tool, refresh webpage, and filter requests by “route” and “profile” respectively. \n",
    "By clicking the “route” cell, you can view formatted response JSON. \n",
    "Look into them respectively, figure out what information is stored in them.\n",
    "\n",
    "<figure style=\"width:%100;text-align: center;\">\n",
    "  <img src=\"../images/exr1/bayernatlas_route_json.png\" alt=\"bayernatlas_route_json\" style=\"border:3px solid darkgray\">\n",
    "  <figcaption>Bayernatlas - Route (JSON / Interaction)</figcaption>\n",
    "</figure>\n",
    "\n",
    "If you are familiar with creating files with file extensions as well as changing file extensions in Windows system, you can skip the following file saving experiment.\n",
    "Let’s assume we need these JSON data for another purposes. But unlike image files, which can be directly saved, this JSON data cannot be directly saved by right clicking on the panel. Therefore, we need to create a file with extension on local, copy the whole JSON data and paste it into the file you created. Make sure that the file you created has an extension “.json”, if you don’t see file extensions, check “File name extensions” in File Explore.\n",
    "\n",
    "<figure style=\"width:%100;text-align: center;\">\n",
    "  <img src=\"../images/exr1/windows_enable_extensions.png\" alt=\"windows_enable_extensions\" style=\"border:3px solid darkgray\">\n",
    "  <figcaption>Windows - Enable File Extensions</figcaption>\n",
    "</figure>\n",
    "\n",
    "In the end, you will get a “route.json” file and a “profile.json” file.\n",
    "\n",
    "### 3.2. Create the Sequence Diagram by considering the previously interactions\n",
    "\n",
    "- [ ] Reconsider the steps that you handled in the previous section and prepare a UML Sequence Diagram with PlantUML or Draw.io tools.\n",
    "\n",
    "### 3.3. Request the UML Sequence Diagram from an AI Chatbot\n",
    "\n",
    "- [ ] Describe the interaction with all of it's details to any AI Chatbot and request a PlantUML/Mermaid based UML Sequence Diagram.\n",
    "\n",
    "<blockquote>TIP: For the Mermaid based texts, you can use the <a href=\"https://mermaid.live\" target=\"_blank\">\"mermaid.live\"</a> online tool for rendering the diagram.</blockquote>\n",
    "\n",
    "- [ ] Compare the AI generated Sequence Diagram with yours.\n",
    "  - What are the differences?\n",
    "  - Which one seems much more correct?\n"
   ]
  }
 ],
 "metadata": {
  "author": [
   {
    "name": "Murat Kendir"
   },
   {
    "name": "Prof. Thomas Kolbe"
   }
  ],
  "kernelspec": {
   "display_name": "Python 3 (ipykernel)",
   "language": "python",
   "name": "python3"
  },
  "language_info": {
   "codemirror_mode": {
    "name": "ipython",
    "version": 3
   },
   "file_extension": ".py",
   "mimetype": "text/x-python",
   "name": "python",
   "nbconvert_exporter": "python",
   "pygments_lexer": "ipython3",
   "version": "3.12.3"
  },
  "title": "Exercise1 - Distributed Systems, Compter Networks and Internet"
 },
 "nbformat": 4,
 "nbformat_minor": 5
}
