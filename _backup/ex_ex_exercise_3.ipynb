{
 "cells": [
  {
   "cell_type": "markdown",
   "id": "53c68911-a0dd-4c69-b465-10bf7646b14d",
   "metadata": {},
   "source": [
    "<div style=\"float:left;width:100%;\"><div style=\"float:left;width:80%;color:#005293;font-family:Arial,Helvetica;font-size:0.8em;\">Munich Technical University</br> School of Engineering & Design</br>  Aerospace & Geodesy</br>   <b>Chair of Geoinformatics</b></div><div style=\"float:left;width:20%;\"><img src=\"images/tum_logo.svg\" width=100 height=63 align=\"right\"/></div></div>\n",
    "<div style=\"float:left;width=100%;\"><p style=\"font-size:0.7em;text-align:center;\">Distributed Geographic Information Systems and Cloud Computing</br>Winter Semester 2023/2024</p></div>"
   ]
  },
  {
   "cell_type": "markdown",
   "id": "bb0d307b-22c4-488d-95af-1dc76ed157a9",
   "metadata": {},
   "source": [
    "# Exercise 3 - Spatial Data Infrastructures (SDI)\n",
    "\n",
    "In this course you will learn how to search for a geospatial dataset using different levels (regional, city-scale etc.) of \"Spatial Data Infrastructures\" (SDIs). You will explore multiple SDI websites that provide some geospatial datasets in different formats or as different types of web services.\n",
    "You will then learn how to combine and represent these datasets in popular GIS platforms such as QGIS and ArcGIS Pro. Finally, you will create a small python application that connects and utilizes the selected geospatial data for a specific purpose."
   ]
  },
  {
   "cell_type": "markdown",
   "id": "5d032ca1-6a5f-4da4-96ca-a97d18ca6595",
   "metadata": {
    "tags": []
   },
   "source": [
    "## 1) Finding the datasets\n",
    "<figure style=\"float:right;width:282px;\"><img src=\"./images/hamburg_1962.jpg\" width=282 height=200/><figcaption>During the catastrophic flood of 1962, boats were used to rescue Hamburg residents from flooded buildings.<a href=\"https://www.bloomberg.com/news/features/2023-11-20/the-design-history-of-london-s-mansion-block-apartment-buildings\"> Source</a></figcaption></figure>\n",
    "Global Sea Level is rising at an increasing rate every year, causing floods to occur more frequently all over the world. This forces local (or regional) governments to take measures against future floods. Suppose you are responsible for preparing a disaster management application in Hamburg. This application will calculate the flood risk for a specific building and generate a report with information on the extent of the risk and the relevant land parcel number. For this purpose, you need to find the most suitable geographic data services using the <a href=\"https://inspire-geoportal.ec.europa.eu\">INSPIRE Geoportal</a>, <a href=\"https://geoportal.de\">geoportal.de</a> and <a href=\"https://transparenz.hamburg.de\">Hamburg TransparenzPortal</a>. Imagine that these datasets should contain the following data layers: \n",
    "<ul>\n",
    "    <li>Buildings footprints (DE: Gebeaude Grundstücke)</li>\n",
    "    <li>Land Parcels (DE: Flurstück)</li>\n",
    "    <li>Digital Elevation Model / DEM (DE: Höhenmodell / DHM)</li>\n",
    "    <li>Flood Risk Zones (DE: Hochwasserrisikos)</li>\n",
    "</ul>"
   ]
  },
  {
   "cell_type": "markdown",
   "id": "58d682fd-7f68-4021-9547-bf04d1b47ed5",
   "metadata": {
    "tags": []
   },
   "source": [
    "### 1.1) Building Footprints (Grundstück)\n",
    "\n",
    "Visit the web site [Hamburg TransparenzPortal](https://transparenz.hamburg.de) and search for the **building footprints** available for Hamburg city. Try to search with following possible words / tags:\n",
    "- Administrative Unit (Verwaltungseinheiten) \n",
    "- House Coordinates (Hauskoordinaten) \n",
    "- ALKIS \n",
    "- Land Parcel (Flurstück) \n",
    "- Building (Gebaeude)\n",
    "<img src=\"./images/grundstuecke_service.png\" width=100 height=100 align=\"right\"/>\n",
    "\n",
    "Explore possible answers to the following questions:\n",
    "- [ ] Which one is the correct data for your purpose?\n",
    "- [ ] What kind of data it is? Is it a web service or static file?\n",
    "- [ ] How current is the data you find?\n",
    "- [ ] Where is the metadata of the service or file?\n",
    "\n",
    "Note the name of the correct data service or file and continue to find other relevant datasets..."
   ]
  },
  {
   "cell_type": "markdown",
   "id": "12a0b095-2644-4327-8f4b-062ac41f052e",
   "metadata": {},
   "source": [
    "### 1.2) Land Parcels (Flurstuecke)\n",
    "\n",
    "Visit the web site [geoportal.de](https://geoportal.de) and search for the **land parcels** available for Hamburg city. \n",
    "> TIP: If you can not find the land parcels for the Hamburg city try adding \"HH\" to your keywords. \"HH\" is the city code for Hamburg used on license plates and it is possible to find relevant datasets using these codes. More information can be found on this [site](https://en.wikipedia.org/wiki/Vehicle_registration_plates_of_Germany).\n",
    "\n",
    "<img src=\"./images/flurstuecke_service.png\" width=100 height=100 align=\"right\"/>\n",
    "\n",
    "Find the metadata of the dataset and explore possible answers to the following questions:\n",
    "- [ ] What is the base coordinate system for land parcels according to the metadata?\n",
    "- [ ] Who or which organization is responsible for the dataset?\n",
    "\n",
    "Find the XML responses of WMS or WFS services to the \"GetCapabilities\" operation and explore possible answers to the following questions:\n",
    "- [ ] Is the service response from the same domain? (Check the URL)\n",
    "- [ ] Are multiple coordinate systems supported for publishing?\n",
    "- [ ] How many layers does a selected web service consists of?\n",
    "- [ ] Can the layers be used for querying?\n",
    "- [ ] What other possible operations can be requested besides \"GetCapabilities\"?\n",
    "\n",
    "Note the name of the correct data service and continue to find other relevant datasets..."
   ]
  },
  {
   "cell_type": "markdown",
   "id": "db25d391-ef03-4fc8-af38-9b7b0925cecb",
   "metadata": {
    "tags": []
   },
   "source": [
    "### 1.3) Digital Elevation Model / DEM (Höhenmodell)\n",
    "\n",
    "Visit the web site [INSPIRE Geoportal](https://inspire-geoportal.ec.europa.eu) and search for the **Digital Elevation Model** available for the Hamburg city.\n",
    "- Click to \"Browse INSPIRE Thematic Datasets\".\n",
    "- Click to \"INSPIRE Data Themes\"\n",
    "- Find the relevant theme on this page and select the country on the following web page.\n",
    "<img src=\"./images/hohemodell_service.png\" width=100 height=100 align=\"right\"/>\n",
    "\n",
    "Explore possible answers to the following questions:\n",
    "- [ ] Where is the service URL?\n",
    "- [ ] What kind of services are available in the theme? \n",
    "- [ ] Can TANDEM-X datasets be useful for our project? If not, why?\n",
    "- [ ] Is the selected dataset also available on **geoportal.de** ?\n",
    "- [ ] Is the selected dataset also available on **Hamburg Transparenzportal**?\n",
    "- [ ] Are all domain names in the service URLs the same?\n",
    "\n",
    "Note the name of the correct data service and continue to find other relevant datasets..."
   ]
  },
  {
   "cell_type": "markdown",
   "id": "ace3ce31-9fe9-4eb3-b625-fd3a7adca1cf",
   "metadata": {
    "tags": []
   },
   "source": [
    "### 1.4) Flood Risk Zones\n",
    "\n",
    "Visit the web site [INSPIRE Geoportal](https://inspire-geoportal.ec.europa.eu) again and search for the **flood risk zones** available for the Hamburg city.\n",
    "<img src=\"./images/flood_risk_service.png\" width=100 height=100 align=\"right\"/>\n",
    "\n",
    "- Click to \"Browse Priority Data Sets\".\n",
    "- Click to \"Environmental Domains\".\n",
    "- Click to \"Water\".\n",
    "- Select the country and search with following possible words / tags:\n",
    "  - Wasserrahmenrichtlinie\n",
    "  - Gewässer\n",
    "  - Hochwasserrisikos\n",
    "  - Fließgewässern\n",
    "  \n",
    "Note the name of the correct data service and go the next topic."
   ]
  },
  {
   "cell_type": "markdown",
   "id": "56865f79-7e39-4964-be95-9265b21683ee",
   "metadata": {},
   "source": [
    "## 2) Adding Services to GIS Software\n",
    "\n",
    "In this chapter, you will learn how to add web services or datasets to a GIS software. You probably don't know what \"web service\" actually means or how to use it correctly, but you don't need to have a deep understanding of web services right now. You may need to recognize the type of web service, but nothing more.\n",
    "\n",
    "### 2.1) Adding Services to QGIS\n",
    "<img src=\"./images/qgis_adding_xyz.png\" width=100 height=100 align=\"right\" style=\"margin:10px;\"/>\n",
    "\n",
    "- Start by adding a basemap with global coverage and simple styling. \"Carto Positron\" would be a good option for this purpose. (If you want to try other XYZ basemap services, visit [Klas Karlsson's github repository](https://github.com/klakar/QGIS_resources/blob/master/collections/Geosupportsystem/python/qgis_basemaps.py) or search online.\n",
    "  - [ ] Find XYZ Tiles in browser panel on the left side and right click to add a new connection.\n",
    "  - [ ] Copy and paste [https://cartodb-basemaps-a.global.ssl.fastly.net/light_all/{z}/{x}/{y}.png](https://cartodb-basemaps-a.global.ssl.fastly.net/light_all/{z}/{x}/{y}.png) link to the URL textbox and give any name as you want. Click Ok button.\n",
    "  - [ ] Find the city center of Hamburg on the map and zoom in until the canvas covers only some buildings. Alternatively, at the bottom of the QGIS window you can set the scale to 1:2000 or larger.\n",
    "> TIP: Sometimes you need to zoom in on your area of interest to avoid long loading times or just to make sure that the layer is visible in the area.\n",
    "\n",
    "<img src=\"./images/qgis_crs.png\" width=100 height=100 align=\"right\" style=\"margin:10px;\"/>\n",
    "\n",
    "- Check the coordinate system of the active map canvas (map widget in the software). If it is defined as OGC:CRS84, change it to EPSG:4326 Coordinate Reference System (CRS). You will notice some distortion on the map canvas, this is normal because EPSG:4326 (aka WGS84) is a geographic coordinate system, not a projected coordinate system. You may need to use this coordinate system from time to time because it is one of the most widely supported CRS by web services.\n",
    "- Check the type of web services you noted in section 1) and add them considering the type of web services.\n",
    "> TIP: There are multiple ways to check the type of web services. One could be to check the categories or filters available on the SDI website. The other method could be to check the metadata to find the type. Finally, if you segment the request URL, you might see a query parameter like \"service=WMS\" or \"service=WFS\".\n",
    "\n",
    "<img src=\"./images/qgis_wms.png\" width=100 height=100 align=\"right\" style=\"margin:10px;\"/>\n",
    "\n",
    "  - **Add WMS Service**\n",
    "  - [ ] Go to **Layer > Add Layer > Add WMS/WMTS Layer** in the menu bar.\n",
    "  - [ ] To create a new connection, click the New button and copy & paste the URL you noted in part 1). Click OK and then click the Connect button.\n",
    "  - [ ] Click to any available layer in the service, check the coordinate system and click to Add Button.\n",
    "  - **Add WFS Service**\n",
    "  > **IMPORTANT NOTE** Some servers provide Complex Data Features with WFS services, which makes it difficult to add these services to GIS software. So, if you notice such a WFS with complex data, avoid adding this service.\n",
    "  - [ ] Go to **Layer > Add Layer > Add WFS / OGC API - Features Layer** in the menu bar. To create a new connection, click the New button and copy and paste the URL you noted in part 1). Specify the \"Max. number of features\" as 200 or less. Click OK and then click the Connect button.\n",
    "  - [ ] Click to any available layer in the service, check the coordinate system and click to Add Button.\n",
    "  - [ ] Select only a few features from the screen or press Ctrl + F6 buttons. Take a glance on existing attributes and values for the features.\n",
    "  > Tip: Sometimes features can be presented as overlapping polygons in the same data service.\n",
    "If you are in doubt about overlapping polygons, simply change the symbology of the layer in the properties window to transparent fill to reveal the overlapping polygons.\n",
    "\n"
   ]
  }
 ],
 "metadata": {
  "kernelspec": {
   "display_name": "Python 3 (ipykernel)",
   "language": "python",
   "name": "python3"
  },
  "language_info": {
   "codemirror_mode": {
    "name": "ipython",
    "version": 3
   },
   "file_extension": ".py",
   "mimetype": "text/x-python",
   "name": "python",
   "nbconvert_exporter": "python",
   "pygments_lexer": "ipython3",
   "version": "3.12.3"
  }
 },
 "nbformat": 4,
 "nbformat_minor": 5
}
