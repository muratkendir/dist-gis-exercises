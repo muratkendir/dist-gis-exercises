{
 "cells": [
  {
   "cell_type": "markdown",
   "id": "2b541259-d703-43f2-b567-2bea86512695",
   "metadata": {
    "editable": true,
    "slideshow": {
     "slide_type": "slide"
    },
    "tags": []
   },
   "source": [
    "# Essentials of Web Mapping based on JavaScript Libraries\n",
    "\n",
    "<img align=\"right\" width=\"10%\" height=\"auto\" src=\"./images/TUM_Logo_blau_rgb_p.png\"/>\n",
    "\n",
    "> Munich Technical University || Chair of Geoinformatics\n",
    "\n",
    "> Murat Kendir, Prof. Thomas Kolbe || murat.kendir@tum.de\n",
    "\n",
    "- In this document we will discuss concepts related to web mapping based on JavaScript libraries.\n",
    "- Since all web mapping libraries used in this document are based on the JavaScript language, we will also partially discuss some basic concepts of JavaScript."
   ]
  },
  {
   "cell_type": "markdown",
   "id": "d76f4075-6905-4019-93b6-5ef4d4cc43f0",
   "metadata": {
    "editable": true,
    "slideshow": {
     "slide_type": "slide"
    },
    "tags": []
   },
   "source": [
    "## 1) How to combine different sources in HTML?\n",
    "\n",
    "- In an HTML document, you can combine different resources for use in the web interface.\n",
    "- Traditionally, files related to style, content and programs are stored in separate files and combined into one HTML file. One popular method of file separation is to use HTML (content), CSS (style) and Javascript (program) files.\n",
    "- It should be noted that separation is not always the best method. Sometimes developers prefer to use them in a single HTML file."
   ]
  },
  {
   "cell_type": "markdown",
   "id": "71c5bc84-1c50-4390-8a74-5b4347525dd9",
   "metadata": {
    "editable": true,
    "slideshow": {
     "slide_type": "subslide"
    },
    "tags": []
   },
   "source": [
    "### 1.a-b) Defining styles for HTML elements\n",
    "\n",
    "**[Demo 1a](raw_codes/essentials_of_web_map/demo1a.html)**\n",
    "```html\n",
    "<title>My Web Page</title>\n",
    "<div align=\"center\">\n",
    "    <h1>Welcome to my website!</h1>\n",
    "    <p align=\"right\">This is my first web page design.</p>\n",
    "    <p align=\"left\">I am still very excited to make this.</p>\n",
    "</div>\n",
    "```\n",
    "\n",
    "\n",
    "**[Demo 1b](raw_codes/essentials_of_web_map/demo1b.html)**\n",
    "```html\n",
    "<title>My Web Page</title>\n",
    "<style>\n",
    "    h1 {text-align:center;}\n",
    "    p {text-align:left;} \n",
    "</style>\n",
    "<div>\n",
    "    <h1>Welcome to my website!</h1>\n",
    "    <p>This is my first web page design.</p>\n",
    "    <p>I am still very excited to make this.</p>\n",
    "</div>\n",
    "```\n"
   ]
  },
  {
   "cell_type": "markdown",
   "id": "34d586e7-a678-4924-a0c8-7f8e2aaa6740",
   "metadata": {
    "editable": true,
    "slideshow": {
     "slide_type": "subslide"
    },
    "tags": []
   },
   "source": [
    "### 1.c) Referencing to HTML elements\n",
    "\n",
    "[Demo 1c](raw_codes/essentials_of_web_map/demo1c.html)\n",
    "```html\n",
    "<title>My Web Page</title>\n",
    "<style>\n",
    "    #title1 {text-align:center;}\n",
    "    #paragraph1 {text-align:left;} \n",
    "    .right {text-align:right;}\n",
    "</style>\n",
    "<div>\n",
    "    <h1 id=\"title1\">Welcome to my website!</h1>\n",
    "    <p class=\"right\">This is my first web page design.</p>\n",
    "    <p id=\"paragraph1\">I am still very excited to make this.</p>\n",
    "</div>\n",
    "```"
   ]
  },
  {
   "cell_type": "markdown",
   "id": "79ae336c-f0db-444f-9447-91af0cf99f46",
   "metadata": {
    "editable": true,
    "slideshow": {
     "slide_type": "subslide"
    },
    "tags": []
   },
   "source": [
    "### 1.d) Referencing to HTML elements\n",
    "\n",
    "[Demo 1d](raw_codes/essentials_of_web_map/demo1d.html)\n",
    "\n",
    "```html\n",
    "<title>My Web Page</title>\n",
    "<style>\n",
    "    #title1 {text-align:center;}\n",
    "    #paragraph1 {text-align:left;} \n",
    "    .right {text-align:right;}\n",
    "</style>\n",
    "<div>\n",
    "    <h1 id=\"title1\">Welcome to my website!</h1>\n",
    "    <p class=\"right\">This is my first web page design.</p>\n",
    "    <p id=\"paragraph1\">I am still very excited to make this.</p>\n",
    "    <p id=\"paragraph1\" class=\"right\">What an exciting moment.</p>\n",
    "</div>\n",
    "```"
   ]
  },
  {
   "cell_type": "markdown",
   "id": "d0891b5f-708f-4626-977a-cafbd20a70b6",
   "metadata": {
    "editable": true,
    "slideshow": {
     "slide_type": "subslide"
    },
    "tags": []
   },
   "source": [
    "### 1.e) Importing Styles from an external file\n",
    "\n",
    "[Demo 1e](raw_codes/essentials_of_web_map/demo1e.html)\n",
    "\n",
    "```html\n",
    "<title>My Web Page</title>\n",
    "\n",
    "<link rel=\"stylesheet\" href=\"my_style.css\">\n",
    "\n",
    "<div>\n",
    "    <h1 id=\"title1\">Welcome to my website!</h1>\n",
    "    <p class=\"right\">This is my first web page design.</p>\n",
    "    <p id=\"paragraph1\">I am still very excited to make this.</p>\n",
    "    <p id=\"paragraph1\" class=\"right\">What an exciting moment.</p>\n",
    "</div>\n",
    "```"
   ]
  },
  {
   "cell_type": "markdown",
   "id": "46f686d4-9a01-4de8-b4de-ed64356b8507",
   "metadata": {
    "editable": true,
    "slideshow": {
     "slide_type": "subslide"
    },
    "tags": []
   },
   "source": [
    "### 1.f) Importing Styles from an external file\n",
    "\n",
    "[Demo 1f](raw_codes/essentials_of_web_map/demo1f.html)\n",
    "\n",
    "```html\n",
    "<title>My Web Page</title>\n",
    "\n",
    "<link rel=\"stylesheet\" href=\"https://www.neredekaliyor.com/koordinat_paylasma/my_style.css\">\n",
    "\n",
    "<div>\n",
    "    <h1 id=\"title1\">Welcome to my website!</h1>\n",
    "    <p class=\"right\">This is my first web page design.</p>\n",
    "    <p id=\"paragraph1\">I am still very excited to make this.</p>\n",
    "    <p id=\"paragraph1\" class=\"right\">What an exciting moment.</p>\n",
    "</div>\n",
    "```"
   ]
  },
  {
   "cell_type": "markdown",
   "id": "512c6d8f-a7b2-4521-9854-1a910db0a592",
   "metadata": {
    "editable": true,
    "slideshow": {
     "slide_type": "slide"
    },
    "tags": []
   },
   "source": [
    "## 2.a) How to configure modern web sites using JavaScript libraries?\n",
    "\n",
    "- Similar to CSS implementations, JavaScript code can be applied to HTML files using internal or external sources.\n",
    "- Modern websites often combine multiple JavaScript libraries.\n",
    "\n",
    "An Example: **ThreeJS**\n",
    "\n",
    "- Not only for geospatial use cases, but also animations, 3D models etc.\n",
    "- is base library of various geospatial JavaScript libraries (e.g. [three-geo](https://w3reality.github.io/three-geo/), [three-globe](https://vasturiano.github.io/three-globe/))\n",
    "- Implemented into QGIS to use as 3D Visualizer\n",
    "  - accessible through **View > 3D Map Views**\n",
    "\n",
    "[Demo 2a](raw_codes/essentials_of_web_map/demo2a.html)"
   ]
  },
  {
   "cell_type": "markdown",
   "id": "6c297a16-3e50-4879-9a2d-4511ae4838c1",
   "metadata": {
    "editable": true,
    "slideshow": {
     "slide_type": "slide"
    },
    "tags": []
   },
   "source": [
    "## 3.a) Web Map with OpenLayers\n",
    "\n",
    "- OpenLayers is one of the most advanced 2D web map libraries.\n",
    "\n",
    "[Demo3a](raw_codes/essentials_of_web_map/demo3a.html)\n",
    "\n",
    "```html\n",
    "<html>\n",
    "  <head>\n",
    "    <script src=\"https://cdn.jsdelivr.net/npm/ol@v7.2.2/dist/ol.js\"></script>\n",
    "    <link rel=\"stylesheet\" href=\"https://cdn.jsdelivr.net/npm/ol@v7.2.2/ol.css\">\n",
    "    <title>Empty Map with defaults</title>\n",
    "    <link rel=\"stylesheet\" href=\"demo3a.css\"></link>\n",
    "  </head>\n",
    "  <body>\n",
    "    <div id=\"map\"></div>\n",
    "    <div class=\"box\"> Check the style of this box. </div>\n",
    "  <script type=\"text/javascript\" src=\"demo3a.js\"></script>\n",
    "  </body>\n",
    "</html>\n",
    "```"
   ]
  },
  {
   "cell_type": "markdown",
   "id": "a2e2a046-2b8d-4da9-8dbe-15e0377e5931",
   "metadata": {
    "editable": true,
    "slideshow": {
     "slide_type": "subslide"
    },
    "tags": []
   },
   "source": [
    "### 3.b) Understanding the JavaScript code\n",
    "\n",
    "```javascript\n",
    "var map = new ol.Map({\n",
    "    target: 'map',\n",
    "    layers: [\n",
    "      new ol.layer.Tile({\n",
    "        source: new ol.source.OSM()})\n",
    "    ],\n",
    "    view: new ol.View({\n",
    "      center: [1287392,6123424],\n",
    "      zoom: 10\n",
    "    })\n",
    "  });\n",
    "```\n",
    "\n",
    "- var map --> defines a custom variable\n",
    "- new ol.Map --> calls the **Map** class from the **ol** module.\n",
    "  - target: 'map' --> sets target HTML element as \"map\"\n",
    "  - layers: [] --> adds some layer to show in map object\n",
    "    - new ol.layer.Tile() --> adds a layer as a tiled map\n",
    "      - new ol.source.OSM() --> sets the source of the tile map as OSM\n",
    "  - view: new ol.View() --> sets view as a new **View** object."
   ]
  },
  {
   "cell_type": "markdown",
   "id": "e3eb5eaa-e30f-4d7c-bce4-8778dc21b2f5",
   "metadata": {
    "editable": true,
    "slideshow": {
     "slide_type": "subslide"
    },
    "tags": []
   },
   "source": [
    "### 3.c) Finding the elements of a JavaScript object\n",
    "\n",
    "- Type ```console.dir(map)``` in the (Web) Developer Tool of browser\n",
    "- After finding the target element, you can print the content with ```console.log(map.targetElement_)```\n",
    "- Search for the target, layers and view elements.\n",
    "\n",
    "![console_dir](images/essentials_of_web_map/console_dir_map.png)"
   ]
  },
  {
   "cell_type": "markdown",
   "id": "69025ad0-d7c3-4b2f-9679-3ab7c006a25b",
   "metadata": {
    "editable": true,
    "slideshow": {
     "slide_type": "subslide"
    },
    "tags": []
   },
   "source": [
    "### 3.c) Finding the elements of a JavaScript object\n",
    "\n",
    "- Try to find the specified map center coordinates ```console.dir(map)```\n",
    "- Check ```console.log(map.viewPropertyListenerKey_.target.values_)```\n",
    "\n",
    "![console_dir_view](images/essentials_of_web_map/console_dir_map_view_elem.png)"
   ]
  },
  {
   "cell_type": "markdown",
   "id": "57b8a3d9-b2bc-4f7d-8c5f-08819ed8dcfa",
   "metadata": {
    "editable": true,
    "slideshow": {
     "slide_type": "subslide"
    },
    "tags": []
   },
   "source": [
    "### 3.d) State Diagram for a HTML Parsing Process (HTML+CSS+OpenLayers)\n",
    "\n",
    "![sd_html_parsing_sample_for_openlayers](images/essentials_of_web_map/sd_html_parsing_sample_for_openlayers.drawio.svg)"
   ]
  },
  {
   "cell_type": "markdown",
   "id": "59b6ec90-ffa1-49b7-b284-dd19d39b0185",
   "metadata": {
    "editable": true,
    "slideshow": {
     "slide_type": "slide"
    },
    "tags": []
   },
   "source": [
    "## 4.a) In which Coordinate Reference System (CRS)?\n",
    "\n",
    "- Even if a custom CRS is not defined, the map has to be visualized based on a default CRS.\n",
    "- Check ```console.log(map.viewPropertyListenerKey_.target.projection_)```\n",
    "- Search with the EPSG code on [epsg.io](https://epsg.io) to learn more about it.\n",
    "\n",
    "![console_dir_view](images/essentials_of_web_map/console_dir_map_crs.png)"
   ]
  },
  {
   "cell_type": "markdown",
   "id": "5ed3fb81-c020-418e-a3c5-a7c3cb857215",
   "metadata": {
    "editable": true,
    "slideshow": {
     "slide_type": "subslide"
    },
    "tags": []
   },
   "source": [
    "### 4.b) How about the Zoom Level?\n",
    "\n",
    "- The zoom level is defined as 10 in the JavaScript code.\n",
    "- Many web map applications are using the zoom level as one of the main map constructor.\n",
    "  - e.g. [https://www.openstreetmap.org/#map=10/48.1038/11.6483](https://www.openstreetmap.org/#map=10/48.1038/11.6483)\n",
    "- To learn and test the zoom levels in the same CRS, you can use some plugins in QGIS:\n",
    "  - Set the CRS as **EPSG:3857 (Pseudo-Mercator)** in Map Properties\n",
    "  - Search for \"**Zoom Level**\" and/or \"**Layer Tiles Mapcanvas**\" in Plugins Manager\n",
    "\n",
    "![console_dir_view](images/essentials_of_web_map/ol_zoom_level.png)\n"
   ]
  },
  {
   "cell_type": "markdown",
   "id": "17247170-ba35-4d99-bf49-6f40c2b1cdc6",
   "metadata": {
    "editable": true,
    "slideshow": {
     "slide_type": "subslide"
    },
    "tags": []
   },
   "source": [
    "### 4.c) Get the current zoom level and write to an HTML element\n",
    "\n",
    "[Demo4c](raw_codes/essentials_of_web_map/demo4c.html)\n",
    "\n",
    "```javascript\n",
    "function onZoomEnd(evt) {\n",
    "  const map = evt.map;\n",
    "  var zoomInfo = 'Zoom level : \\n' + map.getView().getZoom(); ;\n",
    "  console.log(zoomInfo);\n",
    "  document.getElementById('topright_box').innerHTML = zoomInfo;\n",
    "}\n",
    "\n",
    "map.on('moveend', onZoomEnd);\n",
    "```\n"
   ]
  }
 ],
 "metadata": {
  "authors": [
   {
    "name": "Murat Kendir"
   },
   {
    "name": "Prof. Thomas Kolbe"
   }
  ],
  "kernelspec": {
   "display_name": "Python 3 (ipykernel)",
   "language": "python",
   "name": "python3"
  },
  "language_info": {
   "codemirror_mode": {
    "name": "ipython",
    "version": 3
   },
   "file_extension": ".py",
   "mimetype": "text/x-python",
   "name": "python",
   "nbconvert_exporter": "python",
   "pygments_lexer": "ipython3",
   "version": "3.12.3"
  },
  "title": "Spatial Data Infrastructures (SDI)",
  "toc": {
   "base_numbering": 4
  }
 },
 "nbformat": 4,
 "nbformat_minor": 5
}
