{
 "cells": [
  {
   "cell_type": "markdown",
   "id": "4e9b9d5a-1ea3-4342-89b0-ea9a1123d94e",
   "metadata": {},
   "source": [
    "# Preparation for Exercise 5"
   ]
  },
  {
   "cell_type": "markdown",
   "id": "da8e317f-8d0a-4c12-bcb2-0e558ebcdad2",
   "metadata": {
    "editable": true,
    "slideshow": {
     "slide_type": ""
    },
    "tags": []
   },
   "source": [
    "<img align=\"right\" width=100 height=190 src=\"./images/TUM_Logo_blau_rgb_p.png\"/>\n",
    "<blockquote>\n",
    "Munich Technical University || Chair of Geoinformatics </br></br>\n",
    "Murat Kendir, Prof. Thomas Kolbe || murat.kendir@tum.de\n",
    "</blockquote>"
   ]
  },
  {
   "cell_type": "markdown",
   "id": "b271f7be-10a9-410f-a98d-cf3477f374eb",
   "metadata": {},
   "source": [
    "## General Preparation:\n",
    "\n",
    "- [ ] Check the [All you need to know about Geoserver](https://www.youtube.com/watch?v=vL6kgJmOCxg) video (28 min)\n",
    "- [ ] Check the [What is Docker and How it works?](https://www.youtube.com/watch?v=rOTqprHv1YE) video (16 min)\n",
    "- [ ] Check the page [Docker 101](https://www.docker.com/101-tutorial/) and follow the instructions below one of the options (Docker Desktop / Play with Docker) (~38 min)."
   ]
  },
  {
   "cell_type": "markdown",
   "id": "2db6ba05-14e3-4676-80d0-226a30108c25",
   "metadata": {},
   "source": [
    "## Play-with-docker Exercise (Section 1)\n",
    "\n",
    "- [Docker CLI (Command Line Interface) Cheat Sheet](https://docs.docker.com/get-started/docker_cheatsheet.pdf)\n",
    "- [Sensorthings API - Tutorial Page by OGC](http://opengeospatial.github.io/e-learning/sta/text/main.html) (~8 min)\n",
    "- [Grafana Dashboard - Fundamentals](https://grafana.com/tutorials/grafana-fundamentals/) (~14 min)\n",
    "\n"
   ]
  },
  {
   "cell_type": "markdown",
   "id": "b94ae7e1-c0af-4cd8-ac36-07547a3ed07c",
   "metadata": {},
   "source": [
    "## Build the web app on the local computer with Docker Desktop and/or CLI commands (Section 2)\n",
    "\n",
    "- [ ] Check the [OGC E-Learning website by OGC](http://opengeospatial.github.io/e-learning/wmts/text/index.html) to get more information or refresh your knowledge about the WM(T)S standard. (~ 27 min)\n",
    "- [ ] Check the **Quickstart** section of the [Geoserver Tutorials](https://docs.geoserver.org/stable/en/user/tutorials/index.html) published in Geoserver Documentation page (~ 15 min)\n",
    "- [ ] [Frost Server documentation](https://fraunhoferiosb.github.io/FROST-Server/) (optional, >30 min)"
   ]
  }
 ],
 "metadata": {
  "kernelspec": {
   "display_name": "Python 3 (ipykernel)",
   "language": "python",
   "name": "python3"
  },
  "language_info": {
   "codemirror_mode": {
    "name": "ipython",
    "version": 3
   },
   "file_extension": ".py",
   "mimetype": "text/x-python",
   "name": "python",
   "nbconvert_exporter": "python",
   "pygments_lexer": "ipython3",
   "version": "3.12.3"
  },
  "title": "Preparation for Exercise 5 - Virtualization and Containers, Cloud Computing"
 },
 "nbformat": 4,
 "nbformat_minor": 5
}
