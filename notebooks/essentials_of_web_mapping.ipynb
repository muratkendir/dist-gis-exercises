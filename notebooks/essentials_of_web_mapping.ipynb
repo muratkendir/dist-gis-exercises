{
 "cells": [
  {
   "cell_type": "markdown",
   "id": "2b541259-d703-43f2-b567-2bea86512695",
   "metadata": {
    "slideshow": {
     "slide_type": "slide"
    },
    "tags": []
   },
   "source": [
    "# Essentials of Web Mapping based on JavaScript Libraries\n",
    "\n",
    "<img align=\"right\" width=\"10%\" height=\"auto\" src=\"./images/TUM_Logo_blau_rgb_p.png\"/>\n",
    "\n",
    "> Munich Technical University || Chair of Geoinformatics\n",
    "\n",
    "> Murat Kendir, Prof. Thomas Kolbe || murat.kendir@tum.de\n",
    "\n",
    "- In this document we will discuss concepts related to web mapping based on JavaScript libraries.\n",
    "- Since all web mapping libraries used in this document are based on the JavaScript language, we will also partially discuss some basic concepts of JavaScript."
   ]
  },
  {
   "cell_type": "markdown",
   "id": "d76f4075-6905-4019-93b6-5ef4d4cc43f0",
   "metadata": {
    "editable": true,
    "slideshow": {
     "slide_type": "slide"
    },
    "tags": []
   },
   "source": [
    "## 1) How to combine different sources in HTML?\n",
    "\n",
    "- In an HTML document, you can combine different resources for use in the web interface.\n",
    "- Traditionally, files related to style, content and programs are stored in separate files and combined into one HTML file. One popular method of file separation is to use HTML (content), CSS (style) and Javascript (program) files.\n",
    "- It should be noted that separation is not always the best method. Sometimes developers prefer to use them in a single HTML file."
   ]
  },
  {
   "cell_type": "markdown",
   "id": "71c5bc84-1c50-4390-8a74-5b4347525dd9",
   "metadata": {
    "editable": true,
    "slideshow": {
     "slide_type": "subslide"
    },
    "tags": []
   },
   "source": [
    "### 1.a-b) Defining styles for HTML elements\n",
    "\n",
    "**[Demo 1a](raw_codes/essentials_of_web_map/demo1a.html)**\n",
    "```html\n",
    "<title>My Web Page</title>\n",
    "<div align=\"center\">\n",
    "    <h1>Welcome to my website!</h1>\n",
    "    <p align=\"right\">This is my first web page design.</p>\n",
    "    <p align=\"left\">I am still very excited to make this.</p>\n",
    "</div>\n",
    "```\n",
    "\n",
    "\n",
    "**[Demo 1b](raw_codes/essentials_of_web_map/demo1b.html)**\n",
    "```html\n",
    "<title>My Web Page</title>\n",
    "<style>\n",
    "    h1 {text-align:center;}\n",
    "    p {text-align:left;} \n",
    "</style>\n",
    "<div>\n",
    "    <h1>Welcome to my website!</h1>\n",
    "    <p>This is my first web page design.</p>\n",
    "    <p>I am still very excited to make this.</p>\n",
    "</div>\n",
    "```\n"
   ]
  },
  {
   "cell_type": "markdown",
   "id": "34d586e7-a678-4924-a0c8-7f8e2aaa6740",
   "metadata": {
    "slideshow": {
     "slide_type": "subslide"
    },
    "tags": []
   },
   "source": [
    "### 1.c) Referencing to HTML elements\n",
    "\n",
    "[Demo 1c](raw_codes/essentials_of_web_map/demo1c.html)\n",
    "```html\n",
    "<title>My Web Page</title>\n",
    "<style>\n",
    "    #title1 {text-align:center;}\n",
    "    #paragraph1 {text-align:left;} \n",
    "    .right {text-align:right;}\n",
    "</style>\n",
    "<div>\n",
    "    <h1 id=\"title1\">Welcome to my website!</h1>\n",
    "    <p class=\"right\">This is my first web page design.</p>\n",
    "    <p id=\"paragraph1\">I am still very excited to make this.</p>\n",
    "</div>\n",
    "```"
   ]
  },
  {
   "cell_type": "markdown",
   "id": "79ae336c-f0db-444f-9447-91af0cf99f46",
   "metadata": {
    "slideshow": {
     "slide_type": "subslide"
    },
    "tags": []
   },
   "source": [
    "### 1.d) Referencing to HTML elements\n",
    "\n",
    "[Demo 1d](raw_codes/essentials_of_web_map/demo1d.html)\n",
    "\n",
    "```html\n",
    "<title>My Web Page</title>\n",
    "<style>\n",
    "    #title1 {text-align:center;}\n",
    "    #paragraph1 {text-align:left;} \n",
    "    .right {text-align:right;}\n",
    "</style>\n",
    "<div>\n",
    "    <h1 id=\"title1\">Welcome to my website!</h1>\n",
    "    <p class=\"right\">This is my first web page design.</p>\n",
    "    <p id=\"paragraph1\">I am still very excited to make this.</p>\n",
    "    <p id=\"paragraph1\" class=\"right\">What an exciting moment.</p>\n",
    "</div>\n",
    "```"
   ]
  },
  {
   "cell_type": "markdown",
   "id": "d0891b5f-708f-4626-977a-cafbd20a70b6",
   "metadata": {
    "slideshow": {
     "slide_type": "subslide"
    },
    "tags": []
   },
   "source": [
    "### 1.e) Importing Styles from an external file\n",
    "\n",
    "[Demo 1e](raw_codes/essentials_of_web_map/demo1e.html)\n",
    "\n",
    "```html\n",
    "<title>My Web Page</title>\n",
    "\n",
    "<link rel=\"stylesheet\" href=\"my_style.css\">\n",
    "\n",
    "<div>\n",
    "    <h1 id=\"title1\">Welcome to my website!</h1>\n",
    "    <p class=\"right\">This is my first web page design.</p>\n",
    "    <p id=\"paragraph1\">I am still very excited to make this.</p>\n",
    "    <p id=\"paragraph1\" class=\"right\">What an exciting moment.</p>\n",
    "</div>\n",
    "```"
   ]
  },
  {
   "cell_type": "markdown",
   "id": "46f686d4-9a01-4de8-b4de-ed64356b8507",
   "metadata": {
    "slideshow": {
     "slide_type": "subslide"
    },
    "tags": []
   },
   "source": [
    "### 1.f) Importing Styles from an external file\n",
    "\n",
    "[Demo 1f](raw_codes/essentials_of_web_map/demo1f.html)\n",
    "\n",
    "```html\n",
    "<title>My Web Page</title>\n",
    "\n",
    "<link rel=\"stylesheet\" href=\"https://www.neredekaliyor.com/koordinat_paylasma/my_style.css\">\n",
    "\n",
    "<div>\n",
    "    <h1 id=\"title1\">Welcome to my website!</h1>\n",
    "    <p class=\"right\">This is my first web page design.</p>\n",
    "    <p id=\"paragraph1\">I am still very excited to make this.</p>\n",
    "    <p id=\"paragraph1\" class=\"right\">What an exciting moment.</p>\n",
    "</div>\n",
    "```"
   ]
  },
  {
   "cell_type": "markdown",
   "id": "512c6d8f-a7b2-4521-9854-1a910db0a592",
   "metadata": {
    "slideshow": {
     "slide_type": "slide"
    },
    "tags": []
   },
   "source": [
    "## 2.a) How to configure modern web sites using JavaScript libraries?\n",
    "\n",
    "- Similar to CSS implementations, JavaScript code can be applied to HTML files using internal or external sources.\n",
    "- Modern websites often combine multiple JavaScript libraries.\n",
    "\n",
    "An Example: **ThreeJS**\n",
    "\n",
    "- Not only for geospatial use cases, but also animations, 3D models etc.\n",
    "- is base library of various geospatial JavaScript libraries (e.g. [three-geo](https://w3reality.github.io/three-geo/), [three-globe](https://vasturiano.github.io/three-globe/))\n",
    "- Implemented into QGIS to use as 3D Visualizer\n",
    "  - accessible through **View > 3D Map Views**\n",
    "\n",
    "[Demo 2a](raw_codes/essentials_of_web_map/demo2a.html)"
   ]
  },
  {
   "cell_type": "markdown",
   "id": "6c297a16-3e50-4879-9a2d-4511ae4838c1",
   "metadata": {
    "slideshow": {
     "slide_type": "slide"
    },
    "tags": []
   },
   "source": [
    "## 3.a) Web Map with OpenLayers\n",
    "\n",
    "- OpenLayers is one of the most advanced 2D web map libraries.\n",
    "\n",
    "[Demo3a](raw_codes/essentials_of_web_map/demo3a.html)\n",
    "\n",
    "```html\n",
    "<html>\n",
    "  <head>\n",
    "    <script src=\"https://cdn.jsdelivr.net/npm/ol@v7.2.2/dist/ol.js\"></script>\n",
    "    <link rel=\"stylesheet\" href=\"https://cdn.jsdelivr.net/npm/ol@v7.2.2/ol.css\">\n",
    "    <title>Empty Map with defaults</title>\n",
    "    <link rel=\"stylesheet\" href=\"demo3a.css\"></link>\n",
    "  </head>\n",
    "  <body>\n",
    "    <div id=\"map\"></div>\n",
    "    <div class=\"box\"> Check the style of this box. </div>\n",
    "  <script type=\"text/javascript\" src=\"demo3a.js\"></script>\n",
    "  </body>\n",
    "</html>\n",
    "```"
   ]
  },
  {
   "cell_type": "markdown",
   "id": "a2e2a046-2b8d-4da9-8dbe-15e0377e5931",
   "metadata": {
    "slideshow": {
     "slide_type": "subslide"
    },
    "tags": []
   },
   "source": [
    "### 3.b) Understanding the JavaScript code\n",
    "\n",
    "```javascript\n",
    "var map = new ol.Map({\n",
    "    target: 'map',\n",
    "    layers: [\n",
    "      new ol.layer.Tile({\n",
    "        source: new ol.source.OSM()})\n",
    "    ],\n",
    "    view: new ol.View({\n",
    "      center: [1287392,6123424],\n",
    "      zoom: 10\n",
    "    })\n",
    "  });\n",
    "```\n",
    "\n",
    "- var map --> defines a custom variable\n",
    "- new ol.Map --> calls the **Map** class from the **ol** module.\n",
    "  - target: 'map' --> sets target HTML element as \"map\"\n",
    "  - layers: [] --> adds some layer to show in map object\n",
    "    - new ol.layer.Tile() --> adds a layer as a tiled map\n",
    "      - new ol.source.OSM() --> sets the source of the tile map as OSM\n",
    "  - view: new ol.View() --> sets view as a new **View** object."
   ]
  },
  {
   "cell_type": "markdown",
   "id": "e3eb5eaa-e30f-4d7c-bce4-8778dc21b2f5",
   "metadata": {
    "slideshow": {
     "slide_type": "subslide"
    },
    "tags": []
   },
   "source": [
    "### 3.c) Finding the elements of a JavaScript object\n",
    "\n",
    "- Type ```console.dir(map)``` in the (Web) Developer Tool of browser\n",
    "- After finding the target element, you can print the content with ```console.log(map.targetElement_)```\n",
    "- Search for the target, layers and view elements.\n",
    "\n",
    "![console_dir](images/essentials_of_web_map/console_dir_map.png)"
   ]
  },
  {
   "cell_type": "markdown",
   "id": "69025ad0-d7c3-4b2f-9679-3ab7c006a25b",
   "metadata": {
    "slideshow": {
     "slide_type": "subslide"
    },
    "tags": []
   },
   "source": [
    "### 3.c) Finding the elements of a JavaScript object\n",
    "\n",
    "- Try to find the specified map center coordinates ```console.dir(map)```\n",
    "- Check ```console.log(map.viewPropertyListenerKey_.target.values_)```\n",
    "\n",
    "![console_dir_view](images/essentials_of_web_map/console_dir_map_view_elem.png)"
   ]
  },
  {
   "cell_type": "markdown",
   "id": "57b8a3d9-b2bc-4f7d-8c5f-08819ed8dcfa",
   "metadata": {
    "slideshow": {
     "slide_type": "subslide"
    },
    "tags": []
   },
   "source": [
    "### 3.d) State Diagram for a HTML Parsing Process (HTML+CSS+OpenLayers)\n",
    "\n",
    "![sd_html_parsing_sample_for_openlayers](images/essentials_of_web_map/sd_html_parsing_sample_for_openlayers.drawio.svg)"
   ]
  },
  {
   "cell_type": "markdown",
   "id": "59b6ec90-ffa1-49b7-b284-dd19d39b0185",
   "metadata": {
    "slideshow": {
     "slide_type": "slide"
    },
    "tags": []
   },
   "source": [
    "## 4.a) In which Coordinate Reference System (CRS)?\n",
    "\n",
    "- Even if a custom CRS is not defined, the map has to be visualized based on a default CRS.\n",
    "- Check ```console.log(map.viewPropertyListenerKey_.target.projection_)```\n",
    "- Search with the EPSG code on [epsg.io](https://epsg.io) to learn more about it.\n",
    "\n",
    "![console_dir_view](images/essentials_of_web_map/console_dir_map_crs.png)"
   ]
  },
  {
   "cell_type": "markdown",
   "id": "5ed3fb81-c020-418e-a3c5-a7c3cb857215",
   "metadata": {
    "slideshow": {
     "slide_type": "subslide"
    },
    "tags": []
   },
   "source": [
    "### 4.b) How about the Zoom Level?\n",
    "\n",
    "- The zoom level is defined as 10 in the JavaScript code.\n",
    "- Many web map applications are using the zoom level as one of the main map constructor.\n",
    "  - e.g. [https://www.openstreetmap.org/#map=10/48.1038/11.6483](https://www.openstreetmap.org/#map=10/48.1038/11.6483)\n",
    "- To learn and test the zoom levels in the same CRS, you can use some plugins in QGIS:\n",
    "  - Set the CRS as **EPSG:3857 (Pseudo-Mercator)** in Map Properties\n",
    "  - Search for \"**Zoom Level**\" and/or \"**Layer Tiles Mapcanvas**\" in Plugins Manager\n",
    "\n",
    "![console_dir_view](images/essentials_of_web_map/ol_zoom_level.png)\n"
   ]
  },
  {
   "cell_type": "markdown",
   "id": "17247170-ba35-4d99-bf49-6f40c2b1cdc6",
   "metadata": {
    "slideshow": {
     "slide_type": "subslide"
    },
    "tags": []
   },
   "source": [
    "### 4.c) Get the current zoom level and write to an HTML element\n",
    "\n",
    "[Demo4c](raw_codes/essentials_of_web_map/demo4c.html)\n",
    "\n",
    "```javascript\n",
    "function onZoomEnd(evt) {\n",
    "  const map = evt.map;\n",
    "  var zoomInfo = 'Zoom level : \\n' + map.getView().getZoom(); ;\n",
    "  console.log(zoomInfo);\n",
    "  document.getElementById('topright_box').innerHTML = zoomInfo;\n",
    "}\n",
    "\n",
    "map.on('moveend', onZoomEnd);\n",
    "```\n"
   ]
  },
  {
   "cell_type": "markdown",
   "id": "b4ec127d",
   "metadata": {
    "slideshow": {
     "slide_type": "slide"
    }
   },
   "source": [
    "## 5.a) How to add WMS service to the OpenLayers?\n",
    "\n",
    "Which one is a correct definition for a WMS service in OpenLayers?\n",
    "\n",
    "[Demo5a](raw_codes/essentials_of_web_map/demo5a.html)\n",
    "\n",
    "**A**\n",
    "```javascript\n",
    "new ol.layer.Image({\n",
    "        source: new ol.source.ImageWMS({\n",
    "          url: 'https://geoportal.muenchen.de/geoserver/gsm_wfs/awm_wertstoffhoefe_opendata/ows',\n",
    "          params: {'LAYERS': 'awm_wertstoffhoefe_opendata'},\n",
    "          }),\n",
    "```\n",
    "\n",
    "**B**\n",
    "```javascript\n",
    "new Image({\n",
    "        source: new ImageWMS({\n",
    "          url: 'https://geoportal.muenchen.de/geoserver/gsm_wfs/awm_wertstoffhoefe_opendata/ows',\n",
    "          params: {'LAYERS': 'awm_wertstoffhoefe_opendata'},\n",
    "          }),\n",
    "```"
   ]
  },
  {
   "cell_type": "markdown",
   "id": "b61f5f70",
   "metadata": {
    "slideshow": {
     "slide_type": "subslide"
    }
   },
   "source": [
    "### 5.b) How to detect the module hierarchy in a package?\n",
    "\n",
    "Method 1: Check the debugger tool in (Web) Developer Tool.\n",
    "\n",
    "Method 2: Check the documentation of the used library (e.g. [OpenLayers API Doc](https://openlayers.org/en/latest/apidoc/) ).\n",
    "\n",
    "![firefox_debugger](images/essentials_of_web_map/ol_imported_modules.png)"
   ]
  },
  {
   "cell_type": "markdown",
   "id": "4b2f364e",
   "metadata": {
    "slideshow": {
     "slide_type": "subslide"
    }
   },
   "source": [
    "### 5.c) How to get feature info?\n",
    "\n",
    "[Demo5c](raw_codes/essentials_of_web_map/demo5c.html)\n",
    "\n",
    "- Check the GetFeatureInfo operation's documentation: [OGC e-Learning](http://opengeospatial.github.io/e-learning/wms/text/operations.html#getfeatureinfo)\n",
    "\n",
    "- Check the following classes/methods in OpenLayers API Doc:\n",
    "  - [Search for \"on(type, listener)\" method](https://openlayers.org/en/latest/apidoc/module-ol_Map-Map.html)\n",
    "  - [Search for \"getFeatureInfoUrl\" method](https://openlayers.org/en/latest/apidoc/module-ol_source_ImageWMS-ImageWMS.html)\n",
    "\n",
    "```javascript\n",
    "map.on('singleclick', function (evt) {\n",
    "  //console.log(evt);\n",
    "  document.getElementById('topright_box').innerHTML = '';\n",
    "  const viewResolution = view.getResolution();\n",
    "  const url = wmsSource.getFeatureInfoUrl(\n",
    "    evt.coordinate,\n",
    "    viewResolution,\n",
    "    'EPSG:3857',\n",
    "    {'INFO_FORMAT': 'text/plain'},\n",
    "  );\n",
    "});\n",
    "```"
   ]
  },
  {
   "cell_type": "markdown",
   "id": "020090e6",
   "metadata": {
    "slideshow": {
     "slide_type": "subslide"
    }
   },
   "source": [
    "### 5.d) Display the feature information in a HTML element\n",
    "\n",
    "[Demo5c](raw_codes/essentials_of_web_map/demo5c.html)\n",
    "\n",
    "- If you are not familiar with some JavaScript functions or classes like 'let', 'const', 'Promise', check the documents for the 2015 JavaScript version (aka ECMAScript 6/ES6):\n",
    "  - https://www.w3schools.com/Js/js_es6.asp\n",
    "\n",
    "```javascript\n",
    "map.on('singleclick', function (evt) {\n",
    "  //console.log(evt);\n",
    "  document.getElementById('topright_box').innerHTML = '';\n",
    "  const viewResolution = view.getResolution();\n",
    "  const url = wmsSource.getFeatureInfoUrl(\n",
    "    evt.coordinate,\n",
    "    viewResolution,\n",
    "    'EPSG:3857',\n",
    "    {'INFO_FORMAT': 'text/plain'},\n",
    "  );\n",
    "  if (url) {\n",
    "    fetch(url)\n",
    "      .then((response) => response.text())\n",
    "      .then((html) => {\n",
    "        document.getElementById('topright_box').innerHTML = html;\n",
    "      });\n",
    "  }\n",
    "});\n",
    "```"
   ]
  },
  {
   "cell_type": "markdown",
   "id": "18d75e54",
   "metadata": {
    "slideshow": {
     "slide_type": "slide"
    }
   },
   "source": [
    "## 6.a) How to add WMTS layer to the OpenLayers?\n",
    "\n",
    "[USGS WMTS service (Capabilities)](https://mrdata.usgs.gov/mapcache/wmts?service=wmts&request=getCapabilities)\n",
    "\n",
    "- Which one is a correct definiiton for a WMTS connection?\n",
    "\n",
    "**A**\n",
    "```javascript\n",
    "const my_wmts = new ol.layer.Tile({\n",
    "                  opacity: 0.5,\n",
    "                  source: new ol.source.WMTS({\n",
    "                    url: 'https://mrdata.usgs.gov/mapcache/wmts',\n",
    "                    layer: 'sgmc2',\n",
    "                    width: '256px',\n",
    "                    height: '256px',\n",
    "                    format: 'image/png',\n",
    "                  }),\n",
    "                });\n",
    "```\n",
    "\n",
    "**B**\n",
    "```javascript\n",
    "const my_wmts = new ol.layer.Tile({\n",
    "                  opacity: 0.5,\n",
    "                  source: new ol.source.WMTS({\n",
    "                    url: 'https://mrdata.usgs.gov/mapcache/wmts',\n",
    "                    layer: 'sgmc2',\n",
    "                    matrixSet: 'GoogleMapsCompatible',\n",
    "                    format: 'image/png',\n",
    "                  }),\n",
    "                });\n",
    "```"
   ]
  },
  {
   "cell_type": "markdown",
   "id": "fae9e163",
   "metadata": {
    "slideshow": {
     "slide_type": "subslide"
    }
   },
   "source": [
    "### 6.b) What are the resolution and MatrixSet IDs?\n",
    "\n",
    "- Also check the EPSG:3857 (Pseudo-Mercator) extents : [EPSG.io](https://epsg.io/3857)\n",
    "\n",
    "[Demo6a](raw_codes/essentials_of_web_map/demo6a.html)\n",
    "\n",
    "```javascript\n",
    "const projection = ol.proj.get('EPSG:3857');\n",
    "const projectionExtent = projection.getExtent();\n",
    "console.log('Projection Extent : ', projectionExtent);\n",
    "const size = ol.extent.getWidth(projectionExtent) / 256;\n",
    "console.log('Size : ' , size);\n",
    "const resolutions = new Array(19);\n",
    "const matrixIds = new Array(19);\n",
    "for (let z = 0; z < 19; ++z) {\n",
    "  // generate resolutions and matrixIds arrays for this WMTS\n",
    "  resolutions[z] = size / Math.pow(2, z);\n",
    "  matrixIds[z] = z;\n",
    "}\n",
    "```"
   ]
  },
  {
   "cell_type": "markdown",
   "id": "59adef5e",
   "metadata": {
    "slideshow": {
     "slide_type": "subslide"
    }
   },
   "source": [
    "### 6.c) Implementing the resolution and MatrixSet IDs with openlayers WMTS request\n",
    "\n",
    "[Demo6a](raw_codes/essentials_of_web_map/demo6a.html)\n",
    "\n",
    "```javascript\n",
    "const my_wmts = new ol.layer.Tile({\n",
    "                  opacity: 0.5,\n",
    "                  source: new ol.source.WMTS({\n",
    "                    url: 'https://mrdata.usgs.gov/mapcache/wmts',\n",
    "                    layer: 'sgmc2',\n",
    "                    matrixSet: 'GoogleMapsCompatible',\n",
    "                    format: 'image/png',\n",
    "                    projection: projection,\n",
    "                    tileGrid: new ol.tilegrid.WMTS({\n",
    "                      origin: ol.extent.getTopLeft(projectionExtent),\n",
    "                      resolutions: resolutions,\n",
    "                      matrixIds: matrixIds,\n",
    "                    }),\n",
    "                    style: 'default',\n",
    "                    wrapX: false,\n",
    "                  }),\n",
    "                });\n",
    "```"
   ]
  },
  {
   "cell_type": "markdown",
   "id": "6e77e03d",
   "metadata": {
    "slideshow": {
     "slide_type": "slide"
    }
   },
   "source": [
    "## 7.a) 3D Mapping with Cesium\n",
    "\n",
    "- The existing base map options in CesiumJS need authorization (API token) to limit map requests (e.g. Bing Map)\n",
    "- However, OpenStreetMap offers a tile basemap that does not require any authorization and can be used in CesiumJS.\n",
    "\n",
    "```html\n",
    "<html lang=\"en\">\n",
    "  <head>\n",
    "    <title>Cesium Demo</title>\n",
    "    <script src=\"../cesium/Build/Cesium/Cesium.js\"></script>\n",
    "    <link href=\"../cesium/Build/Cesium/Widgets/widgets.css\" rel=\"stylesheet\">\n",
    "  </head>\n",
    "<body style=\"width:100%;height:100%;\">\n",
    "   <div id=\"cesiumContainer\"></div>\n",
    "  <script>\n",
    "    // Initialize the Cesium Viewer in the HTML element with the `cesiumContainer` ID.\n",
    "    const viewer = new Cesium.Viewer('cesiumContainer', {\n",
    "      //Use OpenStreetMaps\n",
    "      imageryProvider : new Cesium.OpenStreetMapImageryProvider({\n",
    "        url : 'https://a.tile.openstreetmap.org/'\n",
    "      }),\n",
    "    });      \n",
    "  </script>\n",
    " </div>\n",
    "</body>\n",
    "</html>\n",
    "```"
   ]
  },
  {
   "cell_type": "markdown",
   "id": "57831e8c",
   "metadata": {
    "slideshow": {
     "slide_type": "subslide"
    }
   },
   "source": [
    "### 7b) Converting local JS file references to cloud repository references\n",
    "\n",
    "[Cesium with online repositories](raw_codes/essentials_of_web_map/demo7b.html)\n",
    "\n",
    "- Usually online JS repositories provided in the documentation page of the library.\n",
    "  - However, you can also check some known JS repositories such as [cdnjs](https://cdnjs.com), [jsdelivery](https://www.jsdelivr.com) etc.\n",
    "  \n",
    "```html\n",
    "<html lang=\"en\">\n",
    "  <head>\n",
    "    <title>Cesium Demo</title>\n",
    "    <script src=\"https://cdnjs.cloudflare.com/ajax/libs/cesium/1.124.0/Cesium.js\"></script>\n",
    "    <link href=\"https://cdn.jsdelivr.net/npm/cesium@1.124.0/Build/Cesium/Widgets/widgets.min.css\" rel=\"stylesheet\">\n",
    "  </head>\n",
    "<body style=\"width:100%;height:100%;\">\n",
    "   <div id=\"cesiumContainer\"></div>\n",
    "  <script>\n",
    "    // Initialize the Cesium Viewer in the HTML element with the `cesiumContainer` ID.\n",
    "    const viewer = new Cesium.Viewer('cesiumContainer', {\n",
    "      //Use OpenStreetMaps\n",
    "      imageryProvider : new Cesium.OpenStreetMapImageryProvider({\n",
    "        url : 'https://a.tile.openstreetmap.org/'\n",
    "      }),\n",
    "    });  \n",
    "  </script>\n",
    " </div>\n",
    "</body>\n",
    "</html>\n",
    "```"
   ]
  },
  {
   "cell_type": "markdown",
   "id": "981091e2",
   "metadata": {
    "slideshow": {
     "slide_type": "subslide"
    }
   },
   "source": [
    "### 7.c) Camera Object\n",
    "\n",
    "- Unlike 2D maps, 3D map environments need a camera object so that a scene selected on the map can be presented to the end user.\n",
    "\n",
    "[Cesium with camera initialization](raw_codes/essentials_of_web_map/demo7c.html)\n",
    "\n",
    "```javascript\n",
    "// Fly the camera to San Francisco at the given longitude, latitude, and height.\n",
    "    viewer.camera.flyTo({\n",
    "      destination : Cesium.Cartesian3.fromDegrees(11.575,48.107, 4000),\n",
    "      orientation : {\n",
    "        heading : Cesium.Math.toRadians(0.0),\n",
    "        pitch : Cesium.Math.toRadians(-45.0),\n",
    "      }\n",
    "    });\n",
    "```"
   ]
  },
  {
   "cell_type": "markdown",
   "id": "a2c7ef41",
   "metadata": {
    "slideshow": {
     "slide_type": "subslide"
    }
   },
   "source": [
    "### 7.d) What is \"Cartesian3\"?\n",
    "\n",
    "![Geographic Coordinates](images/essentials_of_web_map/geo_coord.gif)\n",
    "![Cartesian 3D Coordinates](images/essentials_of_web_map/cartesian_coord.gif)\n",
    "- Images taken from [https://kartoweb.itc.nl/geometrics/Coordinate%20systems/coordsys.html](https://kartoweb.itc.nl/geometrics/Coordinate%20systems/coordsys.html)"
   ]
  },
  {
   "cell_type": "markdown",
   "id": "46325353",
   "metadata": {
    "slideshow": {
     "slide_type": "subslide"
    }
   },
   "source": [
    "### 7.e) How the basemaps are loaded into Cesium (Tiling Mechanism)\n",
    " \n",
    "- Visit the next demo page and try to give some tilt angle to the current view.\n",
    "- Unfold the Cesium Viewer Inspector and find the Terrain group at the bottom.\n",
    "- Enable the \"Show Tile Coordinates\" and the \"Suspend LOD Update\" options, then try zooming out.\n",
    "\n",
    "- This is the basic 2D tiling mechanism that used to overlay 2D maps and terrain files.\n",
    "\n",
    "[Cesium with viewer Inspector](raw_codes/essentials_of_web_map/demo7d.html)"
   ]
  },
  {
   "cell_type": "markdown",
   "id": "ea1a5259",
   "metadata": {
    "slideshow": {
     "slide_type": "subslide"
    }
   },
   "source": [
    "### 7.f) How to add WMS service to the Cesium\n",
    "\n",
    "- CesiumJS simply calculates the coverage area and tries to request for the WMS image by comparing with the current view area of the camera (frustum).\n",
    "\n",
    "- Check the Capabilities of a found WMS service: [München Bezirksteil](https://geoportal.muenchen.de/geoserver/gsm_wfs/vablock_bezirksteil_opendata/ows?service=WMS&version=1.3.0&request=GetCapabilities)\n",
    "\n",
    "[Cesium with WMS service](raw_codes/essentials_of_web_map/demo7f.html)\n",
    "\n",
    "```javascript\n",
    "// Add the main URL of WMS service\n",
    "const geourl = 'https://geoportal.muenchen.de/geoserver/gsm_wfs/vablock_bezirksteil_opendata/ows?';\n",
    "//Define the WMS service using available parameters\n",
    "const geoWmsLayer = new Cesium.WebMapServiceImageryProvider({\n",
    "      url : geourl,\n",
    "      parameters: {\n",
    "        service : 'WMS',\n",
    "        format : 'image/png',\n",
    "        transparent : true,\n",
    "        },\n",
    "      layers : 'vablock_bezirksteil_opendata',\n",
    "        EPSG: '4326'\n",
    "      });\n",
    "//Add to the list of imagery layers of the current viewer.\n",
    "viewer.imageryLayers.addImageryProvider(geoWmsLayer);\n",
    "```"
   ]
  },
  {
   "cell_type": "markdown",
   "id": "aa4b2f6f",
   "metadata": {
    "slideshow": {
     "slide_type": "subslide"
    }
   },
   "source": [
    "### 7.g) How to add default world terrain using Cesium Ion token\n",
    "\n",
    "[Cesium with Terrain](raw_codes/essentials_of_web_map/demo7g.html)\n",
    "\n",
    "- Create an account on Cesium Ion and generate a token specifically reserved for an application or limited in time.\n",
    "- Add to the beginning of your CesiumJS code.\n",
    "\n",
    "```javascript\n",
    "//Change the token here below\n",
    "Cesium.Ion.defaultAccessToken = \"xyzabcxyzabcxyzabcxyzabcxyzabcxyzabcxyzabcxyzabcxyzabcxyzabcxyzabcxyzabcxyzabc\";\n",
    "```\n",
    "\n",
    "- Go to Asset Manager in Cesium Ion web site and find the ID number ıf the world terrain.\n",
    "- Than add the terrain by using its ID number as below.\n",
    "\n",
    "```javascript\n",
    "viewer.scene.setTerrain(\n",
    "      new Cesium.Terrain(\n",
    "        Cesium.CesiumTerrainProvider.fromIonAssetId(1),\n",
    "        ),\n",
    "    );\n",
    "```\n"
   ]
  },
  {
   "cell_type": "markdown",
   "id": "294db799",
   "metadata": {
    "slideshow": {
     "slide_type": "slide"
    }
   },
   "source": [
    "## 8.a) Adding 3D Tiles\n",
    "\n",
    "[Cesium with 3D Tiles](raw_codes/essentials_of_web_map/demo8a.html)\n",
    "\n",
    "- Add the main JSON link of the 3DTiles to Cesium \n",
    "  - e.g. [BaseMap.de - LOD2 Buildings](https://basemap.de/beta/beta-lod2/)\n",
    "\n",
    "```javascript\n",
    "var tileset = viewer.scene.primitives.add(new Cesium.Cesium3DTileset({\n",
    "      url: 'https://web3d.basemap.de/cesium/buildings-fly/root.json'\n",
    "    }));\n",
    "```\n",
    "\n",
    "- You can add attribute specific styles\n",
    "\n",
    "```javascript\n",
    "var cityStyle = new Cesium.Cesium3DTileStyle({\n",
    "            color : {\n",
    "                conditions : [\n",
    "                   [\"${surface} === 'wall'\", \"color('#f2f2f2')\"],\n",
    "                   [\"${surface} === 'roof'\", \"color('#ff5c4d')\"],\n",
    "                   [\"${surface} === 'bridge'\", \"color('#999999')\"]\n",
    "                ]\n",
    "            },\n",
    "         });\n",
    "```"
   ]
  },
  {
   "cell_type": "markdown",
   "id": "21a86a7f",
   "metadata": {
    "slideshow": {
     "slide_type": "subslide"
    }
   },
   "source": [
    "### 8.b) Enable Cesium 3DTiles Inspector\n",
    "\n",
    "[Cesium with 3D Tiles and Inspector](raw_codes/essentials_of_web_map/demo8b.html)\n",
    "\n",
    "```javascript\n",
    "viewer.extend(Cesium.viewerCesium3DTilesInspectorMixin);\n",
    "```\n",
    "- Try to play with \"Dynamic Screen Space Error\" values\n",
    "- Check the \"Memory Usage\" and the \"Rendering Statistics\""
   ]
  }
 ],
 "metadata": {
  "authors": [
   {
    "name": "Murat Kendir"
   },
   {
    "name": "Prof. Thomas Kolbe"
   }
  ],
  "celltoolbar": "Slideshow",
  "kernelspec": {
   "display_name": "Python 3 (ipykernel)",
   "language": "python",
   "name": "python3"
  },
  "language_info": {
   "codemirror_mode": {
    "name": "ipython",
    "version": 3
   },
   "file_extension": ".py",
   "mimetype": "text/x-python",
   "name": "python",
   "nbconvert_exporter": "python",
   "pygments_lexer": "ipython3",
   "version": "3.12.3"
  },
  "title": "Spatial Data Infrastructures (SDI)",
  "toc": {
   "base_numbering": 4
  }
 },
 "nbformat": 4,
 "nbformat_minor": 5
}
