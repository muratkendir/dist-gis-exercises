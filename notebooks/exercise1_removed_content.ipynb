{
 "cells": [
  {
   "cell_type": "markdown",
   "id": "8127e8e8-f7de-4a88-8abe-accfe763cfff",
   "metadata": {},
   "source": [
    "## 3) Examining the Network & Internet Infrastructure\n",
    "\n",
    "In this step, we will learn how to diagnose some network connections using Command Prompt (Eingabeaufforderung), Powershell or some web tools."
   ]
  },
  {
   "cell_type": "markdown",
   "id": "7787e6d8-a874-47fd-9d5e-62b23c8bb84c",
   "metadata": {},
   "source": [
    "### 3.a) What is the current local IPv4 address for your machine? [ipconfig (Windows) / ifconfig (Linux) / ip address show (Linux) command]\n",
    "\n",
    "![windows_cmd_ip4](../images/exr1/windows_cmd_ip4.png)\n"
   ]
  },
  {
   "cell_type": "markdown",
   "id": "1953a6e3-55a6-4f1c-9fdd-7520c395a4b0",
   "metadata": {
    "jp-MarkdownHeadingCollapsed": true
   },
   "source": [
    "### 3.b) What is the current IPv6 address?\n",
    "\n",
    "![windows_cmd_ip6](../images/exr1/windows_cmd_ip6.png)\n"
   ]
  },
  {
   "cell_type": "markdown",
   "id": "9dd46932-a7df-476c-b6a8-d6264c401130",
   "metadata": {},
   "source": [
    "### 3.c) What is the current external IPV4 address of your local network/router?\n",
    "\n",
    "![windows_powershell_external_ip](../images/exr1/windows_powershell_external_ip.png)\n",
    "\n",
    "or visit the web page: [whatismyipaddress.com](www.whatismyipaddress.com)\n"
   ]
  },
  {
   "cell_type": "markdown",
   "id": "9d5bf4ae-efca-405b-bd68-6d548d314b54",
   "metadata": {
    "jp-MarkdownHeadingCollapsed": true
   },
   "source": [
    "### 3.d) What is the current IP-based geolocation?\n",
    "\n",
    "![geolocation](../images/exr1/geolocation.png)\n"
   ]
  },
  {
   "cell_type": "markdown",
   "id": "4e6954a7-c51c-42b9-86a8-88f9919e33a3",
   "metadata": {},
   "source": [
    "### 3.e) What is the IP address of a selected website? (command: nslookup)\n",
    "\n",
    "![nslookup](../images/exr1/nslookup.png)"
   ]
  },
  {
   "cell_type": "markdown",
   "id": "1cae25c6-509e-4474-8ec2-5047284ab7ea",
   "metadata": {},
   "source": [
    "### 3.f) What is happening after “Reverse Lookup” for the previous ip address? (nslookup -X)\n",
    "\n",
    "What is the TLD (Top Level Domain) authority for this IP address?\n",
    "\n",
    "![nslookup-x](../images/exr1/nslookup-x.png)\n"
   ]
  },
  {
   "cell_type": "markdown",
   "id": "d93ecbe7-15bd-4f13-a41c-6b9f04429a9b",
   "metadata": {},
   "source": [
    "### 3.g) Internal structure of a web server and it's relation with the ip address\n",
    "\n",
    "If you know the internal structure of a web server (web server configuration),you can still reach the web site using that IP address and the path you know.\n",
    "\n",
    "To experiment with this, try querying ( [neredekaliyor.com](neredekaliyor.com), [109.232.216.62](109.232.216.62)) using nslookup and visit the page [109.232.216.62/~neredek2](109.232.216.62/\\~neredek2) with your browser (Ip address might be changed, check it first with nslookup command).\n",
    "\n",
    "![neredekaliyor_internal_structure](../images/exr1/neredekaliyor_internal_structure.png)"
   ]
  },
  {
   "cell_type": "markdown",
   "id": "746528fd-5578-40b4-a697-20f91f5f72a8",
   "metadata": {},
   "source": [
    "### 3.h) Routing Domain or Subdomain (DNS)\n",
    "\n",
    "Visit the page [mxtoolbox.com](https://mxtoolbox.com) or [dnstools.ch](https://dnstools.ch) website to query DNS\n",
    "records for the selected domains.\n",
    "\n",
    "![network-tools_web](../images/exr1/network-tools_web.png)\n"
   ]
  },
  {
   "cell_type": "markdown",
   "id": "394cc5a2-45bc-40b3-9f10-e100436517d4",
   "metadata": {},
   "source": [
    "### 3.i) Checking DNS records with nslookup command\n",
    "\n",
    "Type “nslookup –type=MX” (or –type=A/CNAME/SOA/NS/TXT) for the selected domain to see results at the command prompt and compare results from network tool web applications.\n",
    "\n",
    "![dns_records_with_nslookup](../images/exr1/dns_records_with_nslookup.png)"
   ]
  },
  {
   "cell_type": "markdown",
   "id": "16667f54-698a-45e4-b8ec-7fd7b9539803",
   "metadata": {},
   "source": [
    "### 3.j) Using ping command for web sites from different regions\n",
    "\n",
    "Type “ping -n amazon.DOMAIN_SUFFIX” for different countries that may be near or far from the current country. (For Exp. COM / DE / AU / NZ / CN )\n",
    "\n",
    "![ping_australia](../images/exr1/ping_australia.png)\n"
   ]
  },
  {
   "cell_type": "markdown",
   "id": "b7bdae9c-94e9-4f86-9dae-c6ba5832bd0a",
   "metadata": {},
   "source": [
    "### 3.k) Use ping command for toher web sites\n",
    "\n",
    "Repeat the same tasks with different domain suffixes on the network-tool or dnstools web site.\n",
    "\n",
    "![ping_others](../images/exr1/ping_others.png)\n"
   ]
  },
  {
   "cell_type": "markdown",
   "id": "0500226e-4c33-4cd9-b55c-85cb987c9bf6",
   "metadata": {},
   "source": [
    "### 3.l) Using traceroute command\n",
    "\n",
    "Select the domain with the most delayed ping response and use “traceroute” command in web apps to query it. Check the records of the sites with the least and most delay.\n",
    "\n",
    "![using_traceroute](../images/exr1/using_traceroute.png)\n"
   ]
  },
  {
   "cell_type": "markdown",
   "id": "230e8636-925e-43a2-bef0-365b09cadcb6",
   "metadata": {},
   "source": [
    "## 4. Python Request Script for a Known Public Web Service (Optional Step)\n",
    "\n",
    "Sample python code to run and request a source from internet with a specified URL.\n"
   ]
  },
  {
   "cell_type": "markdown",
   "id": "a45c6562-a224-454b-b7d8-c3a10acf953d",
   "metadata": {},
   "source": [
    "### 4.1. Method 1 (Request Library):\n"
   ]
  },
  {
   "cell_type": "code",
   "execution_count": 2,
   "id": "23836d49-7f43-457b-85d7-d3afc7b4d812",
   "metadata": {},
   "outputs": [
    {
     "name": "stdout",
     "output_type": "stream",
     "text": [
      "Request has been made, check this path:  ../responses/exr1/myfile.png\n"
     ]
    }
   ],
   "source": [
    "import requests\n",
    "# Detailed Information about Requests here: https://pypi.org/project/requests\n",
    " \n",
    "def get_one_file(custom_url, custom_file_name):\n",
    "    \"\"\"This function requests a single source from a public service over internet.\"\"\"\n",
    "    req = requests.get(custom_url)\n",
    "    with open(custom_file_name, \"wb\") as my_file:\n",
    "        my_file.write(req.content)\n",
    " \n",
    "#Specify yhe URL here:\n",
    "my_service_url = \"https://geoservices.bayern.de/wms/v1/ogc_freizeitwege_oa.cgi?SERVICE=WMS&VERSION=1.1.1&REQUEST=GetMap&FORMAT=image%2Fpng&TRANSPARENT=true&LAYERS=by_fzw_radwege&LANG=de&SRS=EPSG%3A31468&STYLES=&WIDTH=2000&HEIGHT=819&BBOX=4464822%2C5336201%2C4468822%2C5337839\"\n",
    "#Specify the File Name here:\n",
    "my_file_name = \"myfile\"\n",
    "file_extension= \".png\"\n",
    "relative_path_of_file = \"../responses/exr1/\" + my_file_name + file_extension\n",
    "\n",
    "#Function executed here\n",
    "get_one_file(my_service_url, relative_path_of_file)\n",
    "print(\"Request has been made, check this path: \", relative_path_of_file)"
   ]
  },
  {
   "cell_type": "markdown",
   "id": "79055574-8633-49a4-a553-f5ae0d4e7abf",
   "metadata": {},
   "source": [
    "### 4.2. Method 2 (Using CURL) :\n"
   ]
  },
  {
   "cell_type": "code",
   "execution_count": 3,
   "id": "5088ead3-8805-4dfe-a994-62f2edf4cca8",
   "metadata": {
    "scrolled": true
   },
   "outputs": [
    {
     "name": "stdout",
     "output_type": "stream",
     "text": [
      "Request has been made, check this path : ../responses/exr1/myfile2.png\n"
     ]
    },
    {
     "name": "stderr",
     "output_type": "stream",
     "text": [
      "  % Total    % Received % Xferd  Average Speed   Time    Time     Time  Current\n",
      "                                 Dload  Upload   Total   Spent    Left  Speed\n",
      "100   196  100   196    0     0   3224      0 --:--:-- --:--:-- --:--:--  3266\n"
     ]
    }
   ],
   "source": [
    "import os\n",
    "# Detailed information about OS library is here: https://docs.python.org/3/library/os.html\n",
    "\n",
    "def get_one_file(custom_url, custom_file_name):\n",
    "    \"\"\"This function requests a single source from a public service over internet.\"\"\"\n",
    "    command='curl -X GET \"' + custom_url + '\" >' + custom_file_name\n",
    "    os.system(command)\n",
    " \n",
    "#Specify yhe URL here: \n",
    "my_service_url = \"https://geoservices.bayern.de/wms/v1/ogc_freizeitwege_oa.cgi?SERVICE=WMS&VERSION=1.1.1&REQUEST=GetMap&FORMAT=image%2Fpng&TRANSPARENT=true&LAYERS=by_fzw_radwege&LANG=de&SRS=EPSG%3A31468&STYLES=&WIDTH=2000&HEIGHT=819&BBOX=4464822%2C5336201%2C4468822%2C5337839\"\n",
    "#Specify the File Name here: \n",
    "my_file_name = \"myfile2\"\n",
    "file_extension= \".png\"\n",
    "relative_path_of_file = \"../responses/exr1/\" + my_file_name + file_extension\n",
    " \n",
    "get_one_file(my_service_url, relative_path_of_file)\n",
    "print(f\"Request has been made, check this path : {relative_path_of_file}\")"
   ]
  },
  {
   "cell_type": "markdown",
   "id": "a5958e3c-8463-4f9f-95b1-77c21761235c",
   "metadata": {
    "jp-MarkdownHeadingCollapsed": true
   },
   "source": [
    "## 1.1 Run PlantUML Server as a local instance using Docker?\n",
    "\n",
    "- [ ] Start Command Prompt / EingabeAufForderung (CMD) on Windows or the Terminal in MacOS/Linux computers.\n",
    "- [ ] Type \"docker ps\" (to list the containers).\n",
    "- [ ] Start a new docker container by typing:\n",
    "    ```bash\n",
    "    docker run --detach \\\n",
    "    --name puml_server \\\n",
    "    --publish 8080:8080 \\\n",
    "    plantuml/plantuml-server:tomcat\n",
    "    ```\n",
    "  - NOTE: You can also run it a single line command by removing the backslash characters.  \n",
    "  - Explanations of options and arguments:\n",
    "    - <mark>\\-d or \\-\\-detach</mark> : The container continues to run in the background.\n",
    "    - <mark>\\-p or \\-\\-publish</mark> : Forward (Publish) a port in the container to the host (Left side shows the port of the host machine and right side of the column shows the port of the container)\n",
    "    - <mark>\\-\\-name (no alias)</mark>: Assign a name to the container, to easily recognize containers.\n",
    "    - <mark>plantuml\\/plantuml:tomcat</mark> means \"publisher\\/image:anyTag\" : The last argument is the full name of the docker image. Usually, tags coming after column character and refer to the numbers. It refers to the server type in this image. \n",
    "- [ ] Check the available docker containers by typing <mark>docker ps</mark>\n",
    "- [ ] If the conatiners running visit the localhost web page by specifying the published port (8080). (<a href=\"localhost:8080\" target=\"_blank\">http://localhost:8080/</a>)"
   ]
  }
 ],
 "metadata": {
  "kernelspec": {
   "display_name": "Python 3 (ipykernel)",
   "language": "python",
   "name": "python3"
  },
  "language_info": {
   "codemirror_mode": {
    "name": "ipython",
    "version": 3
   },
   "file_extension": ".py",
   "mimetype": "text/x-python",
   "name": "python",
   "nbconvert_exporter": "python",
   "pygments_lexer": "ipython3",
   "version": "3.12.3"
  }
 },
 "nbformat": 4,
 "nbformat_minor": 5
}
