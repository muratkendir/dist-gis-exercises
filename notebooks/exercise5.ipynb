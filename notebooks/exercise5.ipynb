{
 "cells": [
  {
   "cell_type": "markdown",
   "id": "66cd29cd-be4c-4af8-8887-a4a90f9796a8",
   "metadata": {},
   "source": [
    "# Exercise 5 - Virtualization and Containers, Cloud Computing"
   ]
  },
  {
   "cell_type": "markdown",
   "id": "44a4e1fb-52ff-432f-8abc-f61b6b2f7cad",
   "metadata": {},
   "source": [
    "<img align=\"right\" width=100 height=190 src=\"./images/TUM_Logo_blau_rgb_p.png\"/>\n",
    "<blockquote>\n",
    "Munich Technical University || Chair of Geoinformatics </br></br>\n",
    "Murat Kendir, Prof. Thomas Kolbe || murat.kendir@tum.de\n",
    "</blockquote>"
   ]
  },
  {
   "cell_type": "markdown",
   "id": "c4536da9-5611-418b-9b95-6982120cb47f",
   "metadata": {
    "editable": true,
    "slideshow": {
     "slide_type": ""
    },
    "tags": []
   },
   "source": [
    "## Aim of Exercise\n",
    "This exercise mainly focuses on Cloud Computing technologies and integrating cloud systems with GIS applications. You will practice with these systems to become more familiar with them by:\n",
    "- Using virtualization to create a mini-infrastructure and run a GIS application\n",
    "- Creating and serving a Tiled Map Layer and interconnecting the service with application interfaces/clients\n",
    "- Setting up and publishing a dashboard interface representing a filtered dataset from a Sensorthings API service\n",
    "\n",
    ">Check the \"**exercise5_preparation**\" document (pdf / ipynb) to review some useful resources.\n",
    "\n",
    "Our goal is to provide a web interface to show a map containing sensors' online location data, use a custom tiled layer as a base map, and provide some graphical visualizations based on these sensors using virtualization technologies.\n",
    "The steps required to achieve this goal will be as follows:\n",
    "- Setting up a docker container to run and serve **Geoserver** as a base map provider.\n",
    "- Setting up a docker container to run and serve **Grafana Dashboard** as the interface of our application.\n",
    "- Connecting the Grafana Dashboard to an online data source (based on **Sensorthings API**), which provides some sensors available in Hamburg city\n",
    "- Setting up the Grafana Dashboard interface to publish the **Tiled Map Layer** as the base map and the sensors as points\n",
    "\n",
    "<div class=\"pagebreak\" style=\"page-break-after:always;\"> </div>"
   ]
  },
  {
   "cell_type": "markdown",
   "id": "59535fa8-d04b-4e8c-aefe-1baa050070ed",
   "metadata": {},
   "source": [
    "## 1 - Practice on Play-With-Docker web application\n",
    "\n",
    "In this section, you will create a web application on the play-with-docker website by avoiding diving into computational needs. This page lets you play with docker containers and images in a limited time (4 hours). So, you can test different docker images or container settings if they integrate seamlessly. In this section, you don't need to provide a predefined dataset to the applications running in docker as a container. Try to only practice with docker commands and settings."
   ]
  },
  {
   "cell_type": "markdown",
   "id": "4052e3b4-1386-48c0-83df-887ba60db1b2",
   "metadata": {},
   "source": [
    "### 1.1 Docker Usage (on Playground)\n",
    "\n",
    "Open the following website:\n",
    "[play-with-docker](https://labs.play-with-docker.com)\n",
    "- [ ] Click to <mark>login</mark> and select <mark>docker</mark>\n",
    "  - [ ] Register with your email account first if you do not have a docker hub account.\n",
    "    - [ ] If the popup is blocked, disable the popup blocker and try again.\n",
    "- [ ] Docker Playground will be launched and a session will be started which will be live for 4 hours.\n",
    "- [ ] Click to <mark>Add New Instance</mark>\n",
    "- [ ] An instance runtime will be started with a specific local ip address and ssh key.\n",
    "- [ ] List the running docker containers by typing <mark>docker ps</mark> in the terminal screen (e.g. command prompt of the instance).\n",
    "- [ ] If you want to check all (running and idle) available docker containers, type <mark>docker ps \\-\\- all</mark>\n",
    "- [ ] Check all available commands: <mark>docker \\-\\- help</mark>\n",
    "- [ ] If you want to check command-specific options and arguments, type <mark>docker any_command \\-\\- help</mark> (For exp. \"docker ps --help\")\n",
    "\n",
    "> TIP: The terminal screen and available commands here will have the same or similar commands as a Linux terminal screen (command line), because usually the examples run on a Linux system. To check which version of Linux is used as the base operating system, type <mark>uname -a</mark> in the terminal.\n",
    "\n",
    "![1100 play docker](../images/exr5/1100_play_docker.png)"
   ]
  },
  {
   "cell_type": "markdown",
   "id": "16b35d07-f793-4064-8631-f4e1b21042ed",
   "metadata": {},
   "source": [
    "### 1.2 Running the first Docker container in instance (used in 1-b)\n",
    "\n",
    "- [ ] There is no working docker containers yet.\n",
    "- [ ] Start a new docker container by typing:\n",
    "    ```bash\n",
    "    docker run -d -p 3000:3000 \\\n",
    "    --name=grafana \\\n",
    "    -e \"GF_INSTALL_PLUGINS=iosb-sensorthings-datasource\" \\\n",
    "    grafana/grafana:latest\n",
    "    ```\n",
    "  - Explanations of options and arguments:\n",
    "    -  <mark>\\-d or \\-\\-detach</mark> : The container continues to run in the background.\n",
    "    - <mark>\\-p or \\-\\-publish</mark> : Forward (Publish) a port in the container to the host (Left side shows the port of the host machine and right side of the column shows the port of the container)\n",
    "    - <mark>\\-e or \\-\\-env</mark> : Sets environment variables\n",
    "    - <mark>\\-\\-name (no alias)</mark>: Assign a name to the container, to easily recognize containers.\n",
    "    - <mark>grafana\\/grafana:latest</mark> means \"publisher\\/image:anyTag\" : The last argument is the full name of the docker image. Usually, tags include version numbers.\n",
    "- [ ] Check the available docker containers by typing <mark>docker ps</mark>"
   ]
  },
  {
   "cell_type": "markdown",
   "id": "e247f5f5-3640-4e9d-9d92-3acd27bb6a56",
   "metadata": {},
   "source": [
    "### 1.3 What actually happens after executing the \"docker run\" command? (used in 1-b)\n",
    "\n",
    "- The Docker app checked if the requested image (grafana/grafana:latest) already exists in our host machine. \n",
    "- If it is not available, it tries to download it from **Docker Hub** by searching for the same image name.\n",
    "\n",
    "- [ ] Visit the Docker Hub page and search for our image manually:\n",
    "  - https://hub.docker.com\n",
    "- You can optionally search for any docker image on the command line:\n",
    "  - <mark>docker search grafana</mark>\n",
    "- Check the available docker images in the host machine:\n",
    "  - <mark>docker image ls</mark>\n",
    "\n",
    "![1300 docker hub](../images/exr5/1300_docker_hub.png)"
   ]
  },
  {
   "cell_type": "markdown",
   "id": "059c4d9c-af2b-48f9-b8e6-5ffb69680c02",
   "metadata": {},
   "source": [
    "### 1.4 How to remove/delete docker images from the instance? (Optional)\n",
    "\n",
    "- [ ] Try deleting the image:\n",
    "  - <mark>docker rmi grafana/grafana:latest</mark>\n",
    "- [ ] When an image is referenced to a container, the terminal will show an error and the container may still be running. So what we need to do is first stop the running container and then remove the referenced container:\n",
    "  - <mark>docker stop \\<CONTAINER_NAME\\></mark>\n",
    "  - or alternatively use the container ID shown in\n",
    "    - Type <mark>docker container list</mark> (same as \"ps\" command) to see container IDs and names.\n",
    "    - <mark>docker stop \\<CONTAINER_ID\\></mark>\n",
    "- [ ] Check existing containers with the -all option:\n",
    "  - <mark>docker ps \\-\\-all</mark>\n",
    "- [ ] Remove the container:\n",
    "- <mark>docker rm grafana</mark>\n",
    "  - or alternatively with Container ID:\n",
    "    - <mark>docker rm 829224beac3f</mark> (container IDs are not fixed numbers, try find your container's ID and replace with given one)\n",
    "- [ ] Finally, remove the image from your instance:\n",
    "  - <mark>docker rmi grafana\\/grafana:latest</mark>"
   ]
  },
  {
   "cell_type": "markdown",
   "id": "b0fa5a35-3005-4c49-b2c5-27c9b441de91",
   "metadata": {
    "jp-MarkdownHeadingCollapsed": true
   },
   "source": [
    "### 1.5 Docker Cheatsheet and the Relevance between linux commands (used in 1-b)\n",
    "\n",
    "Many command abbreviations are inherited from Linux/Unix-based systems. These long command names can be used, for example, to make it easier to memorize abbreviated commands:\n",
    "- cp : Copy\n",
    "- rm : Remove\n",
    "- exec : Execute\n",
    "- cd : Change Directory\n",
    "- ls : List\n",
    "- ps : Processes\n",
    "- diff : Difference\n",
    "\n",
    "> TIP: However, one of the best ways to learn these commands is not to memorize them but to use a \"Cheatsheet\" document as an aid during the exercises. If you want to use such a document, visit this page: [Docker CLI Cheat Sheet](https://docs.docker.com/get-started/docker_cheatsheet.pdf)"
   ]
  },
  {
   "cell_type": "markdown",
   "id": "7cc43784-9c1c-449b-9b1d-38cb4752a330",
   "metadata": {},
   "source": [
    "### 1.6 Access to the Grafana Dashboard (used in 1-b)\n",
    "\n",
    "- [ ] If you have already removed the container and image while following the instructions in section 1.4, start from scratch and start the docker container with the same command given earlier:\n",
    "  - <mark>docker run -d -p 3000:3000 --name=grafana \\-e \"GF_INSTALL_PLUGINS=iosb-sensorthings-datasource\" grafana/grafana:latest</mark>\n",
    "- [ ] Now click the **Open Port** button at the top of the page and specify port **3000**. If your forwarded/published port is different, check the actual port number by typing <mark>docker ps</mark>.\n",
    "- [ ] Type \"admin\" as username and password.\n",
    "- [ ] Grafana will ask for a new password on the next page, type any password.\n",
    "- If everything is OK, the Grafana start page will be shown.\n",
    "\n",
    "![1600 garanfana](../images/exr5/1600_grafana.png)"
   ]
  },
  {
   "cell_type": "markdown",
   "id": "1855d6f2-3c22-45b3-9d72-8438c7bf9e20",
   "metadata": {},
   "source": [
    "### 1.7 Find and check the online datasource\n",
    "\n",
    "- Now you need to select a **FROST Server** stream as the data source (remember that we started the Grafana container with the corresponding plugin)\n",
    "- [ ] Visit page: [iot.hamburg.de](https://iot.hamburg.de/)\n",
    "- [ ] Click for **SensorThingsApi v1.1**\n",
    "> TIP: You can check the same data source with the **Online API Testing Tool** [reqbin.com](https://reqbin.com/) or other alternative online testing tools. (Try requesting for this URL: iot.hamburg.de/v1.1 )"
   ]
  },
  {
   "cell_type": "markdown",
   "id": "4edaddc9-8e15-497b-ad1f-053701375b05",
   "metadata": {},
   "source": [
    "### 1.8 Connect to a specific dataset from SensorThings API\n",
    "\n",
    "- [ ] Return to the Grafana page running on localhost, expand the left side menu and go to **Connections**.\n",
    "- [ ] Search for **\"FROST SensorThings API Plugin\"** and click on the listed plugin name. Click to **\"Add new datasource\"** button.\n",
    "- [ ] Copy and paste the following address as URL value: <mark>https://iot.hamburg.de/v1.1</mark>\n",
    "- [ ] Click to **Save and test**\n",
    "- [ ] If you see <mark>Success</mark> message, expand the left menu pane again and go to **Dashboards**.\n",
    "- [ ] Click **Create Dashboard**\n",
    "- [ ] Click to **Add Visualization**\n",
    "  - Note that your default data source is automatically selected as Frost SensorThings API.\n",
    "- [ ] Select **\"iosb-sensorthings-datasource\"** as data source, if it is not selected automatically.\n",
    "- [ ] Select Entry Point at the bottom of the page as **Things**.\n",
    "- [ ] Type **\"Verkehrszählstelle\"** (Vehicle Counting Unit) just below the column **name** and find any sernsor datastream.\n",
    "- [ ] Select the data source with the name \"Kfz-Aufkommen an Verkehrszählstelle ... im 15-Min-Intervall\" (The number of motor vehicles computed with the infrared camera at 15 minutes intervals) or another dataream with different time interval.\n",
    "- [ ] If you see \"No Data\" on the graph widget, select another datastream.\n",
    "- [ ] If you see \"Data is missing a time field\", go to the **Advanced** tab, and set the phenomenonTime Field type as \"Time\". Then you can select a time interval from the top-right edge of the graph widget.\n",
    "- [ ] When you click to the **\"Open Visiualization Suggestions\"**, you will see a list of compatible graph types with your selected data.\n",
    "- [ ] Select \"**Bar Chart**\".\n",
    "- Click to **Apply** at top right corner of the page.\n",
    "\n",
    "![1800 grafana entrypoint](../images/exr5/1800_grafana_entrypoint.png)"
   ]
  },
  {
   "cell_type": "markdown",
   "id": "5f20fe75-f9b0-4b00-a782-22bf81119ebd",
   "metadata": {},
   "source": [
    "### 1.9 Customize the graph panel in Grafana\n",
    "\n",
    "- The chart's axes will be set automatically since the data stream provides the \"time\" and \"results\" columns.\n",
    "- If you want to customize your chart panel, check the right pane. (or click on the small arrow near the chart name at top right side of the page to expand the menu)\n",
    "- Here you can change the chart's orientation, set the text sizes, show or hide the legend, show the result number on the chart, etc.\n",
    "- A time interval selection button allows you to decrease or increase the time interval shown on the chart (in the upper right corner of the chart).\n",
    "- Another functional panel can be the \"Transform Data\" tab, which can transform existing data by applying some functions or queries.\n",
    "\n",
    "![1900 grafana graph](../images/exr5/1900_grafana_graph.png)"
   ]
  },
  {
   "attachments": {},
   "cell_type": "markdown",
   "id": "a158c2a8-b1c0-4fe1-9ddf-ea08cef7071d",
   "metadata": {
    "editable": true,
    "slideshow": {
     "slide_type": ""
    },
    "tags": []
   },
   "source": [
    "## 2. Build the app on local computer with Docker Desktop and CLI commands\n",
    "\n",
    "In this section you will try to prepare all the requirements of the web application described in the \"Aim of the Exercise\" section. This workflow includes installing Docker Desktop, using CLI commands, running a geoserver container, publishing a wms service, and integrating the WMS service with Grafana Dashboard."
   ]
  },
  {
   "cell_type": "markdown",
   "id": "bb67e1eb-5c29-49b6-bda8-ab013cf1f375",
   "metadata": {},
   "source": [
    "### 2.1 Docker Desktop Installation on Windows systems (optional) (used in 1-b)\n",
    "\n",
    "![windows features](../images/exr5/2-1_windows_properties.png)\n",
    "\n",
    "Check this step if you want to download and install the Docker Desktop or CLI tool on your personal computer\n",
    "\n",
    "- If this is your first time downloading and installing Docker Desktop, it may be more effective to enable the **WSL2* option in Docker Settings.\n",
    "- Search for \"**Windows Properties**\" and try to enable \"**Windows Subsystem**\". It is mandatory to enable **Hyper-V**. Hyper-V is a virtualization support that might be provided by your computer's CPU hardware. If it is not possible to enable it, you should check the BIOS configuration and look for a virtualization support option (it is usually on the \"Advanced\" page or tab).\n",
    "- Enable Windows Subsystem \n",
    "- Click on the gear icon in the top right corner and go to **Resources > WSL Integration**.\n",
    "- At the first start of the Docker Desktop app, log in to Docker Hub using the Login button in the top right corner.\n",
    "- You will continue using the CLI (Command Line Interface) tool, but you can still check the Desktop App to view the containers, images etc.\n",
    "\n",
    "![wsl2 option](../images/exr5/2-1_wsl2_option.png)"
   ]
  },
  {
   "cell_type": "markdown",
   "id": "77be8b61-9c1f-4b76-9671-555d4bd418cc",
   "metadata": {},
   "source": [
    "### 2.2 Serving a WMTS/TMS service from Geoserver as a Docker container\n",
    "\n",
    "To offer a Tiled Map Layer, we need to run a server that will render the given geographic data source in raster file format, taking into account defined coordinate reference systems. We have multiple software options to do this. MapServer, GeoServer, ArcGIS Server or QGIS Server are the most popular ones. You will create a server instance using a docker image containing Geoserver to publish a WMTS/TMS.\n",
    "\n",
    "> TIP: If you want to learn more about the WMTS and TMS visit the follwoing page:\n",
    "> [What are the differences between TMS, XYZ & WMTS](https://gis.stackexchange.com/questions/132242/what-are-the-differences-between-tms-xyz-wmts)\n",
    "> [Tile Map Specification](https://wiki.osgeo.org/wiki/Tile_Map_Service_Specification)\n",
    "\n",
    "- Check the Geopackage representing the \"StadtTeile\" (City Districts) of the city center of Hamburg. (This data was downloaded from https://geoportal-hamburg.de/sga/ and reprojected to EPSG:3857 / Pseudo Mercator. File is stored in **shared_w_geoserver/data_dir/datasets** directory.)\n",
    "- Extract or save directly to a subfolder under Documents. (Use always ASCII characters and underscore in the folder names, such as \"hamburg_wmts\". Do not use non-ASCII or special characters such as ä, ß, ü, < > (space) etc.)\n",
    "  - If neccessary, create two nested subfolders in this folder, name it \"**data_dir**\" and \"**datasets**\"and move the geopackage file into the \"datasets\" folder.\n",
    "- Copy the full path of the previously created folder and replace the relevant part of the following command:\n",
    "```bash\n",
    "docker run --detach --publish 8085:8080 ^\n",
    "--name geoserver ^\n",
    "--volume \"<FULL_PATH_HERE>\":/var/geoserver/datadir ^ \n",
    "geosolutionsit/geoserver\n",
    "```\n",
    "- Search for \"Eingabeaufforderung\" (Command Prompt) in the Windows Search bar and run it.\n",
    "> WARNING: If you can't execute the \"docker\" command in the command line interface that means the system environmental variable has not been set for your system. However, you can still run the command by finding the docker cli executable. For a windows machine, it is stored in \"C:\\Program Files\\Docker\\Docker\\resources\\bin\" with the name \"com.docker.cli.exe\". You can navigate into this folder by typing \"**cd C:\\Program Files\\Docker\\Docker\\resources\\bin**\" then execute the program simply by replacing the word \"docker\" in the commands with \"**com.docker.cli.exe**\". For Example: \"com.docker.cli.exe run --detach --publish 8085:8080 --name geoserver  --volume \"C:\\Users\\murat\\Documents\\geoserver_data\\datadir\":/var/geoserver/datadir geosolutionsit/geoserver\"\n",
    "\n",
    "> TIP: The character ^ (Caret) is used only to create multi-line command. It works like an escape character and escapes from the next (invisible) newline character. This way, we can write multi-line commands in the windows command line.\n",
    "\n",
    "For Example: \n",
    "```bash\n",
    "docker run --name geoserver --interactive --tty ^\n",
    "--publish 8085:8080 ^\n",
    "--volume \"./shared_w_geoserver/data_dir/datasets\":\"/opt/geoserver/data_dir/datasets\" ^\n",
    "-e GEOSERVER_ADMIN_USER=murat ^\n",
    "-e GEOSERVER_ADMIN_PASSWORD=password ^\n",
    "kartoza/geoserver\n",
    "```\n",
    "> TIP: Please note that the directions of the slash (/ or \\\\) characters are different in the -v (--volume) option values. This is because Windows and Linux systems use different types of slashes as directory separators (Windows: Backslash \"\\\\\", Linux/Unix: Forward Slash \"/\" )\n",
    "\n",
    "- Check the Docker containers again:\n",
    "  - <mark>docker ps</mark>\n",
    "- Open your web browser and go to [http://localhost:8085/geoserver](http://localhost:8085/geoserver)\n",
    "- To log in, enter \"admin\" as username and \"geoserver\" as password.\n",
    "- Change the language by using dropdown menu at top right side of the page.\n",
    "- Since Geoserver is being started for the first time, you must to add a new workspace. Click **Data > Workspaces** in the left pane. Click \"**Add New Workspace**\" and enter a descriptive name for your workspace and define a namespace URI. Use only ASCII characters in the namespace URI and not use special characters except underscore (_).\n",
    "- Click to **save**.\n",
    "- Click on the name of the workspace which you have created and enable **WMS and WMTS** options. Then click to Save again.\n",
    "- Click **Data > Stores** in the left pane and click \"**Add new store**\" at the top of the page.\n",
    "- Select one of the options under \"**Vector Data Sources**\": Geopackage.\n",
    "- Check if the workspace is automatically selected. \n",
    "- Specify a name for the datastore and select a data source using the **Browse** button below **Connection Parameters > database**.\n",
    "- Click to **save**.\n",
    "- Go to **Gridsets** in the left menu (under the **Tile Caching** section). Click to **Create a new gridset** and specify the coordinate reference system as EPSG:3857. You can try using **Find** button on the right side or simply type the exact name of the CRS. Click on the **Compute from maximum extent of CRS** link and manually add zoom levels from 0 to 24 by clicking on the **Add Zoom Level** link at the bottom of the page. Specify a name for the custom gridset and click to **Save**.\n",
    "- Go to the **WMTS** in the left menu (under the **Services** section). Select your workspace and **enable WMTS** using checkbox. Click to **Save**.\n",
    "  - If the workspace is not shown in the menu on WMTS page, go back to the workspace page, select the workspace you created and activate the WMTS option in workspace settings. Then try to activate WMTS service by repeating the previous step.\n",
    "- This is the last step to publish a WMTS/TMS service. Click **Data > Layers** in the left pane.\n",
    "- Click \"**Add a new Layer**\" and select your workspace:store package with the \"**Add Layer**\" drop-down menu item.\n",
    "- Click the \"**Publish**\" link and set a URI-like name for your WMS service layer (you can use non-ASCII characters and signs in the Title and Summary text boxes).\n",
    "- In the \"**Bounding Boxes**\" group, click both \"**Compute from Data**\" and \"**Compute from native bounds**\" links to automatically calculate the \"**Local Bounding Box**\" and \"**Aspect Bounding Box**\".\n",
    "- Switch to the next tab called \"**Publishing**\" and select \"**Polygon**\" from the Available Styles. Click the right arrow icon to apply it to the WMS layer as a style.\n",
    "- Check the \"**Tile Caching**\" tab to make sure about the tile. \"**Create a cached layer for this layer**\" and \"**Enable tile caching for this layer**\" should be enabled.\n",
    "- At the bottom side of the Tile Caching tab, there will be the gridset options. Find the drop-down menu near the **Add grid subset** option and select the gridset noted before or the gridset you created.\n",
    "- Click to **save**.\n",
    "\n",
    "![2200 geoserver layer](../images/exr5/2200_geoserver_layer.png)"
   ]
  },
  {
   "cell_type": "markdown",
   "id": "ef9ce47c-4dea-4f15-8955-befa6524f002",
   "metadata": {},
   "source": [
    "### 2.3 Test the Availability of WMTS/TMS services with QGIS\n",
    "\n",
    "Since both service standards are commonly used tiled map services, multiple methods exist to test their availability.\n",
    "\n",
    "![2300 geoserver preview](../images/exr5/2300_geoserver_preview.png)"
   ]
  },
  {
   "cell_type": "markdown",
   "id": "fc7ffd4a-0310-40d1-97c2-a747b83e5d8a",
   "metadata": {
    "jp-MarkdownHeadingCollapsed": true
   },
   "source": [
    "#### 2.3.1 Method 1: Use the Geoserver Preview option\n",
    "\n",
    "- Go to **Tile Layers** in the left menu of the Geoserver administrator page.\n",
    "- If you see the layer published before, there will be a preview option to see WMTS integrated with OpenLayers. Click on the drop-down menu under the **Preview** column and select the gridset configured with the CRS EPSG:3857.\n",
    "- Activate the **(Web) Developer Tool** by pressing Ctrl+Shift+C (or I) in the web browser.\n",
    "- Go to the Network tab and press the **Reload** button if needed.\n",
    "- Check the URL sources loaded from the Geoserver instance.\n",
    "- Copy one of the URL requests and take as note in somewhere. You will use the requested URL in next section to view the same service on QGIS."
   ]
  },
  {
   "cell_type": "markdown",
   "id": "089cbb52-6748-4ef5-9f8a-e0b261cff5cd",
   "metadata": {},
   "source": [
    "#### 2.3.2 Method 2: Use QGIS to test WMTS services\n",
    "\n",
    "- To use QGIS as a WMTS client, you need to detect the baseurl of the WMTS service. Go to the Welcome page of the Geoserver administrator page by clicking on the logo at the top left corner of the page. Find the **WMTS** box and click on the version number available in the box (The current version number for the WMTS is **1.1.1**).\n",
    "- This link will automatically forward the page to the GetCapabilities request. Copy the whole address except the part after the question mark (The following part specifies the parameters.).\n",
    "  - In our example, the base URL was: **http://localhost:8085/geoserver/gwc/service/wmts?**\n",
    "- Open QGIS software and navigate to **Layer \\> Add Layer \\> Add WMS/WMTS Layer** in the top menu.\n",
    "- Click the **New** button and paste the base URL into the URL textbox. Specify a custom name and Click **Ok**.\n",
    "- Click the **Connect** button and select the layer published with the gridset configured with EPSG:3857 CRS. Click the **Add** button."
   ]
  },
  {
   "cell_type": "markdown",
   "id": "2f20af49-0982-4ba1-8fd8-5fcc1512e46c",
   "metadata": {},
   "source": [
    "#### 2.3.3 Method 3: Use QGIS to test TMS service\n",
    "\n",
    "![2300 qgis with xyz](../images/exr5/2300_qgis_w_xyz.png)\n",
    "\n",
    "- Go to the Welcome page of the Geoserver by clicking on the logo at the top left corner of the page. Find the **TMS** box and click on the available version number in the same box (The current version number for the TMS is **1.0.0**).\n",
    "- This link will forward the page to the default page of a TMS service, which shows all available gridsets and their links. Copy the link belonging to the correct gridset with the CRS EPSG:3857.\n",
    "- Open a new project in QGIS and find the **XYZ Tiles** in the Browser pane (if it is not available, check the option in View \\> Panel \\> Browser). Right-click on the \"XYZ Tiles\" and select the option **New Connection**.\n",
    "- Paste the URL copied before and add the following string at the end of your URL:\n",
    "  - <mark>/{z}/{x}/{-y}.png</mark>\n",
    "  - The full link might be like this: <mark>http://localhost:8085/geoserver/gwc/service/tms/1.0.0/yerel%3Adistricts@EPSG3857_256x256@png/{z}/{x}/{-y}.png</mark>\n",
    "- Specify a custom name and click the **Ok** button.\n",
    "\n",
    "> TIP: We used {-y} as the tile row number (north-south axis) as the last coordinate parameter. This has to be specified because we published a TMS layer but accessed it as an XYZ layer. TMS and XYZ standards are quite similar services except for the definition of the Y axis. In the TMS, the Y axis identifies the vertical tile number from bottom to top, while XYZ identifies the Y axis reversely.\n",
    "\n",
    "> REMINDER: You can activate the \"**Debugging/Developer Tool**\" by navigating into View > Panels in the top menu. This tool is similar to the (Web) Developer Tool in the web browsers. Press the red circle button (Record icon) to see the requests in more detailed way."
   ]
  },
  {
   "cell_type": "markdown",
   "id": "9e27deb6-30de-4133-8f60-07d47a476063",
   "metadata": {},
   "source": [
    "### 2.4 Integrating Grafana Dashboard with the Tiled Map\n",
    "\n",
    "Usually, map-based JavaScript libraries support overlaying the map with WMS or WMTS layers. However, the map viewer plugins available in Grafana have limited functionality. There are currently five map plugins (NativePlugin:GeoMap, WorldMap Panel, Orchestra Cities Map, Mapgl, TrackMap) with different features, none of which support adding WMS layers yet. The only possibility to add a base map to these map plugins is to publish a TMS service and connect it like an XYZ service (Check the previous section 2.3.3). "
   ]
  },
  {
   "cell_type": "markdown",
   "id": "30023c8c-0570-435b-8c76-1911a315c1b4",
   "metadata": {},
   "source": [
    "#### 2.4.1 Start Grafana Dashboard and add the XYZ base map\n",
    "\n",
    "![2410 grafana with xyz](../images/exr5/2410_grafana_w_xyz.png)\n",
    "\n",
    "- Start a new docker container by typing:\n",
    "```bash\n",
    "docker run --detach --publish 3000:3000 ^\n",
    "--name=grafana ^\n",
    "--env \"GF_INSTALL_PLUGINS=iosb-sensorthings-datasource\" ^\n",
    "grafana/grafana:latest\n",
    "```\n",
    "- Visit the page [localhost:3000](http://localhost:3000). Enter \"admin\" as username and password.\n",
    "- The next page in Grafana prompts for a new password, type any password.\n",
    "- Go to **Connections** in the left menu (Click to three dash icon on the top left corner) and search for \"FROST Sensorthings API Plugin\" (iosb-sensorthings-datasource).\n",
    "-  Click on the plugin and set the URL as \"**https://iot.hamburg.de/v1.1**\". Click to **Save & test** button to check if everything works well.\n",
    "- Go to the **Dashboards** in the left menu and click on the **Add visualization** button.\n",
    "- Select the **iosb-sensorthings-datasource** as data source.\n",
    "- Change the visiualization type as **Geomap** (The native map library of Grafana Dashboard) from the top right corner.\n",
    "- Go to the **Map View** tab in the right menu and change the **View** option as **Coordinates**\n",
    "- Set Latitude, Longitude and Zoom level as following values: 53.56, 9.97, 10 (This configuration sets up the map view to cover Hamburg's city center.)\n",
    "- Navigate to **Basemap layer** in the right menu.\n",
    "  - Alternatively, you can add XYZ tile layer as **Map layer**. This option will overlay your XYZ layer over the default XYZ base map and will let to set up the transparency of your XYZ layer. If you want to apply this option, go to **Map Layers** and apply similar steps described below.\n",
    "- Click to **Layer Type** and select the **XYZ Tile Layer** option. This selection will add the default XYZ tile layer which is an ArcGIS service publicly available.\n",
    "- Copy and paste the XYZ service URL, which you already tested in the section 2.3.3\n",
    "\n",
    "![2410 grafana with xyz](../images/exr5/2410_grafana_w_xyz.png)"
   ]
  },
  {
   "cell_type": "markdown",
   "id": "7422b1d9-30bd-46a0-8996-e0f26d99418a",
   "metadata": {
    "jp-MarkdownHeadingCollapsed": true
   },
   "source": [
    "#### 2.4.2 Set up a data source to show on the map\n",
    "\n",
    "- You specified the data source in the previous steps, but it has not been used yet. Now you can use it by specifying the attribution.\n",
    "- Go to the **Query** pane at the left bottom and expand the first query \"A\" if it is collapsed.\n",
    "- Click on the **Advanced** tab to specify the attributes and coordinates of a dataset.\n",
    "- In the **Sensorthings API** URL, you need to specify the relative path of a specific dataset. Also note that the first part of the URL (base URL) was given during the setup of the data source (https://iot.hamburg.de/v1.1). For Example, The collection of the sensor with ID 5647 shows the infrared camera installations used to detect vehicles, including cars and bicycles. [https://iot.hamburg.de/v1.1/Sensors(5647)](https://iot.hamburg.de/v1.1/Sensors(5647)) If you check the Datastreams available within this collection, you will reach the datastream connections with given attributes and coordinates as a large array. You should specify a limit for the downloaded array elements to increase the network performance. To do this, you can specify a limit by typing <mark>\\$top\\=100</mark>. So the Sensorthings URL will be as <mark>/Sensors\\(5647\\)/Datastreams\\?\\$top\\=100</mark> in our example.\n",
    "- Check the dataset manually in your web browser and try to find some attributes available in the responses. For example, try to find the position of the **phenomenonTime** and the coordinates.\n",
    "- Expand the tab called **Manually Assign Fields**.\n",
    "- Go to the textboxes called **Field**, remove the default field \"\\$\\.value\\[\\*\\].result\" may appear  and add the first attribute by typing <mark>\\$.value\\[\\*\\].phenomenonTime</mark>. This query notation represents the nested structure of the JSON file downloaded as a response from FROST server. **Current Document \\(\\$\\)** > **Any element in Array \\[\\*\\]** > **Attributes or Sub-Objects**\n",
    "- Type \"Time\" for the phenomenonTime field as an alias and click on the plus (+) icon on the right side.\n",
    "- Type <mark>\\$\\.value\\[\\*\\]\\.observedArea\\.coordinates\\[0\\]</mark> to specify the longitude value available in the current dataset. Change the data type to **Number** and set the alias as \"longitude\" or \"long\". Also, note that the position of the coordinate values might differ if you used a different data source.\n",
    "- Finally, type <mark>$.value\\[*\\].observedArea.coordinates\\[1\\]</mark> to specify the latitude. Change the data type to \"**Number**\" and set the alias as \"latitude\" or \"lat\". Unfortunately, there is no descriptive information in the JSON file to determine which element is longitude and which is latitude. You need to use your geographic knowledge about the focused area.\n",
    "- Go to the **Map Layers** tab on the right pane. Let the layer type as default \"Markers\" and change the **Location Mode** to \"Coords\". Then select the longitude/latitude or long/lat fields per each drop-down box.\n",
    "- Go to the top right corner of the map view and select the period as \"**Last 2 Year**\".\n",
    "\n",
    "![2420 grafana aio](../images/exr5/2420_grafana_aio.png)"
   ]
  }
 ],
 "metadata": {
  "kernelspec": {
   "display_name": "Python 3 (ipykernel)",
   "language": "python",
   "name": "python3"
  },
  "language_info": {
   "codemirror_mode": {
    "name": "ipython",
    "version": 3
   },
   "file_extension": ".py",
   "mimetype": "text/x-python",
   "name": "python",
   "nbconvert_exporter": "python",
   "pygments_lexer": "ipython3",
   "version": "3.12.3"
  },
  "title": "Exercise 5 - Virtualization and Containers, Cloud Computing"
 },
 "nbformat": 4,
 "nbformat_minor": 5
}
