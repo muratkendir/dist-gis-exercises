{
 "cells": [
  {
   "cell_type": "markdown",
   "id": "e8909cee",
   "metadata": {},
   "source": [
    "# Geospatial Web Services & Web Mapping in 2D / 3D"
   ]
  },
  {
   "cell_type": "markdown",
   "id": "5d61d6d8-121e-47a3-b7b6-653eb5a2d7db",
   "metadata": {
    "slideshow": {
     "slide_type": ""
    },
    "tags": []
   },
   "source": [
    "<img align=\"right\" width=100 height=190 src=\"./images/TUM_Logo_blau_rgb_p.png\"/>\n",
    "<blockquote>\n",
    "Munich Technical University || Chair of Geoinformatics </br></br>\n",
    "Murat Kendir, Prof. Thomas Kolbe || murat.kendir@tum.de\n",
    "</blockquote>"
   ]
  },
  {
   "cell_type": "markdown",
   "id": "0afdaa1b-c537-40d0-a99d-9589361b0d12",
   "metadata": {
    "slideshow": {
     "slide_type": ""
    },
    "tags": []
   },
   "source": [
    "- In this exercise, you will learn how to use geospatial web services in your applications or web views and how to use the operations supported by the web service. \n",
    "- In the previous exercise, we selected a few web map services from the given Spatial Data Infrastructures (SDIs) and examined the responses using GIS software. \n",
    "- Now you will learn how to connect to and interact with geospatial web services with the help of some popular libraries. Additionally, you will learn how to use 2D and 3D JavaScript libraries which supports and visualize 2D or 3D datasets or web services."
   ]
  },
  {
   "cell_type": "markdown",
   "id": "22c23c4b-ddbc-491f-be1a-8d4803c08dc5",
   "metadata": {},
   "source": [
    "## 1) Accessing WMS service with Python\n",
    "\n",
    "OWSLib is one of the OGC compliant web service client and it supports OGC interface standards.\n",
    "Before using the OWSLib consider the following steps:\n",
    "- If you are not working wholetale.org, please install OWSLib to your current python environment using : **pip install OWSLib**\n",
    "- Then you need to import the OWSLib library into your code.\n",
    "- Check the following site to get more information about the OWSLib:\n",
    "  - [https://owslib.readthedocs.io/en/latest/](https://owslib.readthedocs.io/en/latest/) "
   ]
  },
  {
   "cell_type": "code",
   "execution_count": 1,
   "id": "4944ab2a-570d-4b2b-854e-71b77875a4f3",
   "metadata": {},
   "outputs": [],
   "source": [
    "import owslib"
   ]
  },
  {
   "cell_type": "markdown",
   "id": "9e8c8c93-6301-479c-8f00-3b12f1e91a99",
   "metadata": {},
   "source": [
    "- [ ] Check available contents (packages + classes) in the library with following code:\n",
    "```help(owslib)```"
   ]
  },
  {
   "cell_type": "markdown",
   "id": "1a9ddc7d-1048-4b9d-b8a1-d564e5252c73",
   "metadata": {},
   "source": [
    "You can specify a class or package to reduce the loaded library content in your code.\n",
    "There are multiple ways to do so:\n",
    "- First Option: ```from owslib import wms```\n",
    "  - Imports only wms module from owslib package\n",
    "  - Type: ```help(wms)```\n",
    "- Second Option: ```import owslib.wms```\n",
    "  - Again, it calls only wms module from owslib package\n",
    "  - Type: ```help(owslib.wms)```\n",
    "- Another option to import only the relevant function: ```from owslib.wms import WebMapService as any_shorten_form```\n",
    "  - Imports only WebMapService function in the wms module and assigns a custom alias to it.\n",
    "  - Type: ```help(any_shorten_form)```"
   ]
  },
  {
   "cell_type": "markdown",
   "id": "cd5ea8f8-af14-4691-a2be-dee3989648ec",
   "metadata": {},
   "source": [
    "### 1.1) Examine a WMS service with OWSLib\n",
    "Select any Web Map Service (WMS) from your previous work, or select a random WMS that covers the city of Hamburg in whole or in part. (If you want to add a random WMS, revisit the [Hamburg TransparenzPortal](https://transparenz.hamburg.de) or [geoportal.de](https://geoportal.de) or [INSPIRE Geoportal](https://inspire-geoportal.ec.europa.eu) websites to search for the appropriate web service.)"
   ]
  },
  {
   "cell_type": "code",
   "execution_count": 7,
   "id": "725cfc61-5a7b-48d9-a941-4157cf21fd8e",
   "metadata": {},
   "outputs": [],
   "source": [
    "# Decide a way to import the library. \n",
    "from owslib.wms import WebMapService as mywms\n",
    "# help(mywms)"
   ]
  },
  {
   "cell_type": "markdown",
   "id": "754a4e77-3a88-4387-80a2-a12447762151",
   "metadata": {},
   "source": [
    "If you type help(mywms), you will see an explanation of the function as below.\n",
    "  \n",
    "  WebMapService(**url**, version='1.1.1', xml=None, username=None, ...)\n",
    "\n",
    "Notice that only \"url\" parameter is not assigned to a value. This means that the only mandatory parameter is the \"url\" and all other parameters will be accepted with their default values unless their values are specified."
   ]
  },
  {
   "cell_type": "markdown",
   "id": "7ed50229-53cd-429d-8549-50fad491c1cf",
   "metadata": {},
   "source": [
    "Now, test your selected WMS with the imported WebMapService function."
   ]
  },
  {
   "cell_type": "code",
   "execution_count": 8,
   "id": "d7aa65cb-6cff-4219-a853-72c2161f7b4f",
   "metadata": {},
   "outputs": [],
   "source": [
    "# mytest = mywms('https://geodienste.hamburg.de/HH_WMS_DGM1')\n",
    "# The website serves the metadata of the WMS highlights that\n",
    "# the recommended version is \"1.3.0\". So we can specify that:\n",
    "mytest = mywms('https://geodienste.hamburg.de/HH_WMS_DGM1', version='1.3.0')"
   ]
  },
  {
   "cell_type": "markdown",
   "id": "e8fa1b15-f3fd-4b62-9be0-44571d50b71b",
   "metadata": {},
   "source": [
    "Now, you can use \"the built-in functions\" to know more about the returned object:\n",
    "```print(mytest)``` / ```type(mytest)``` / ```help(mytest)``` / ```dir(mytest)```\n",
    "If you are sure about the data is an iterable object (tuple, set, list, dictionary) then you can use also \"list\" function."
   ]
  },
  {
   "cell_type": "code",
   "execution_count": 3,
   "id": "d6cd7500-c548-409e-acea-bee6649f2eed",
   "metadata": {},
   "outputs": [
    {
     "data": {
      "text/plain": [
       "['HH_WMS_DGM1', 'WMS_DGM1_HAMBURG', 'WMS_DGM1_farbig', 'WMS_DGM1_farbig_10000']"
      ]
     },
     "execution_count": 3,
     "metadata": {},
     "output_type": "execute_result"
    }
   ],
   "source": [
    "list(mytest.contents)\n",
    "# Alternatively: print(mytest.contents.keys())"
   ]
  },
  {
   "cell_type": "markdown",
   "id": "b7600120-27f4-4ace-a2cc-c1a2fee7ebdc",
   "metadata": {},
   "source": [
    "- Check the available methods by typing dir(mytest).\n",
    "  - You may notice the \"operations\" method in the list."
   ]
  },
  {
   "cell_type": "code",
   "execution_count": 4,
   "id": "51bb1e6e-f5e7-4808-a590-770d522b39e8",
   "metadata": {},
   "outputs": [
    {
     "data": {
      "text/plain": [
       "[<owslib.map.wms130.OperationMetadata at 0x745d0c2c70e0>,\n",
       " <owslib.map.wms130.OperationMetadata at 0x745d0c2c7980>,\n",
       " <owslib.map.wms130.OperationMetadata at 0x745d0c2c7ad0>,\n",
       " <owslib.map.wms130.OperationMetadata at 0x745d0c2c7b60>,\n",
       " <owslib.map.wms130.OperationMetadata at 0x745d0c2c7bf0>,\n",
       " <owslib.map.wms130.OperationMetadata at 0x745d0c2c7c80>]"
      ]
     },
     "execution_count": 4,
     "metadata": {},
     "output_type": "execute_result"
    }
   ],
   "source": [
    "list(mytest.operations)"
   ]
  },
  {
   "cell_type": "markdown",
   "id": "d658f6ea-572a-4fc7-8c8d-191f5fac1961",
   "metadata": {},
   "source": [
    "- As operations stored as objects in a list (array), we can access them using list index (For Exp. mylist[0]). Then you can check the available methods or attributes in the class instance by typing ```dir(mytest.operations[0])```. "
   ]
  },
  {
   "cell_type": "code",
   "execution_count": 5,
   "id": "6cd78be7-1aea-4b38-83b1-2e33e140f167",
   "metadata": {},
   "outputs": [
    {
     "name": "stdout",
     "output_type": "stream",
     "text": [
      "<class 'owslib.map.wms130.OperationMetadata'>\n",
      "GetCapabilities\n",
      "GetMap\n",
      "GetFeatureInfo\n",
      "DescribeLayer\n",
      "GetLegendGraphic\n",
      "GetStyles\n"
     ]
    }
   ],
   "source": [
    "print( type(mytest.operations[0]) )\n",
    "print(mytest.operations[0].name)\n",
    "print(mytest.operations[1].name)\n",
    "print(mytest.operations[2].name)\n",
    "print(mytest.operations[3].name)\n",
    "print(mytest.operations[4].name)\n",
    "print(mytest.operations[5].name)\n",
    "# print(mytest.operations[0].formatOptions)\n",
    "# print(mytest.operations[0].methods)"
   ]
  },
  {
   "cell_type": "markdown",
   "id": "40577ac0-ba89-40e5-a65a-70722ba4f709",
   "metadata": {},
   "source": [
    "- Alternatively, you can inspect the webservice using the \"getServiceXML\" method. Please note that the result will be returned as a binary file in XML format. This means that you have to consider the binary format if you want to store or read the returned object as a file. For example, we specified the file mode as \"wb\" (Write + Binary) in the following code, because the object \"mytest.getServiceXML()\" was in bytes format, not a string. "
   ]
  },
  {
   "cell_type": "code",
   "execution_count": 6,
   "id": "00a6a7ac-9c75-46da-be18-f1399032b4e5",
   "metadata": {},
   "outputs": [],
   "source": [
    "# type(mytest.getServiceXML())\n",
    "# Specify your own relative or full path to save the XML file, if it is required.\n",
    "with open(\"responses/exr4/my_wms_servicexml.xml\", \"wb\") as my_wms_xml:\n",
    "        my_wms_xml.write(mytest.getServiceXML())"
   ]
  },
  {
   "cell_type": "markdown",
   "id": "8a09820e-3972-4d44-a406-7d96dfa7847f",
   "metadata": {},
   "source": [
    "- Check the saved XML file and try to find where the layers, bounding boxes or coordinate reference systems (CRSs) are defined.\n",
    "<blockquote> Reminder: Firefox and Google Chrome browsers have some extensions to visiualize XML files in a \"pretty\" way. Otherwise you can open the XML file with your favorite text editor and search for a \"pretty print\" solution. (For Example: XMLTools extension is available in the Notepad++ plugin repository.)\n",
    "</blockquote>\n",
    "\n",
    "- You can also send queries to get single images with predefined properties. To do that, you may need to expose more informaiton about the WMS service using following commands:"
   ]
  },
  {
   "cell_type": "code",
   "execution_count": 7,
   "id": "7840ff2e-e26b-475c-ac26-a2d3a619b750",
   "metadata": {},
   "outputs": [
    {
     "name": "stdout",
     "output_type": "stream",
     "text": [
      "['EPSG:25833', 'EPSG:4647', 'EPSG:4258', 'EPSG:31467', 'EPSG:3044', 'EPSG:4326', 'EPSG:3857', 'EPSG:25832', 'CRS:84'] \n",
      "\n",
      "(8.482047, 53.385591, 10.355638, 53.941383) \n",
      "\n",
      "{'default': {'title': 'default', 'legend': 'https://geodienste.hamburg.de/HH_WMS_DGM1?language=ger&version=1.3.0&service=WMS&request=GetLegendGraphic&sld_version=1.1.0&layer=WMS_DGM1_HAMBURG&format=image/png&STYLE=default', 'legend_width': '298', 'legend_height': '865', 'legend_format': 'image/png'}} \n",
      "\n",
      "['image/png', 'image/jpeg', 'image/png; mode=8bit', 'image/vnd.jpeg-png', 'image/vnd.jpeg-png8', 'application/x-pdf', 'image/svg+xml', 'image/tiff', 'application/vnd.google-earth.kml+xml', 'application/vnd.google-earth.kmz', 'application/vnd.mapbox-vector-tile', 'application/x-protobuf', 'application/json']\n"
     ]
    }
   ],
   "source": [
    "print(mytest['WMS_DGM1_HAMBURG'].crsOptions, '\\n')\n",
    "print(mytest['WMS_DGM1_HAMBURG'].boundingBox, '\\n')\n",
    "print(mytest['WMS_DGM1_HAMBURG'].styles, '\\n')\n",
    "print(mytest.getOperationByName('GetMap').formatOptions)"
   ]
  },
  {
   "cell_type": "markdown",
   "id": "d95f7b21-a07c-47c1-9c26-1c9a16655795",
   "metadata": {},
   "source": [
    "- So, you are aware of capability of the WMS service and you can use this data to get data from the server:\n",
    "<blockquote>Note that if you are using a different WMS service, you need to change the parameters given in the next example.</blockquote>"
   ]
  },
  {
   "cell_type": "code",
   "execution_count": 8,
   "id": "46968422-e756-478f-b51c-873fde703182",
   "metadata": {},
   "outputs": [
    {
     "data": {
      "image/jpeg": "[encoded data removed]",
      "text/plain": [
       "<IPython.core.display.Image object>"
      ]
     },
     "execution_count": 8,
     "metadata": {},
     "output_type": "execute_result"
    }
   ],
   "source": [
    "from IPython.display import Image\n",
    "\n",
    "img = mytest.getmap(\n",
    "    layers=['WMS_DGM1_HAMBURG'],\n",
    "    size=[300, 300],\n",
    "    srs=\"EPSG:4326\",\n",
    "    bbox=[9.5, 53.4, 10, 53.7],\n",
    "    format=\"image/jpeg\")\n",
    "\n",
    "Image(img.read())"
   ]
  },
  {
   "cell_type": "markdown",
   "id": "8cc025b5-216a-44a0-9357-dac2db3aab9f",
   "metadata": {},
   "source": [
    "### 1.2) Add a WMS layer to Jupyter Notebook using ipyLeaflet\n",
    "As you may know that leaflet is well known and simple-to-use web map library based on JavaScript. However, leaflet has also a widget implementation with Python Notebook which lets users to visualize their leaflet maps in notebook documents. To start using ipyleaflet, type ```pip install ipyleaflet``` in your python environment or follow the instructions to install ipyleaflet which are available in [this website](https://ipyleaflet.readthedocs.io/en/latest/installation/index.html)."
   ]
  },
  {
   "cell_type": "code",
   "execution_count": 1,
   "id": "63f6853d-91a0-4e60-b644-7f4575416fba",
   "metadata": {
    "slideshow": {
     "slide_type": ""
    },
    "tags": []
   },
   "outputs": [
    {
     "data": {
      "application/vnd.jupyter.widget-view+json": {
       "model_id": "cb032b0c9d9046d09bbe38a7e067d6a2",
       "version_major": 2,
       "version_minor": 0
      },
      "text/plain": [
       "Map(center=[53.547668, 9.985685], controls=(ZoomControl(options=['position', 'zoom_in_text', 'zoom_in_title', …"
      ]
     },
     "metadata": {},
     "output_type": "display_data"
    }
   ],
   "source": [
    "from ipyleaflet import Map\n",
    "\n",
    "center = (53.547668, 9.985685)\n",
    "map = Map(center=center, zoom=13)\n",
    "display(map)"
   ]
  },
  {
   "cell_type": "markdown",
   "id": "6a5ded24-96ea-4146-89fb-056be6c0018b",
   "metadata": {},
   "source": [
    "You can change the basemap by importing \"basemaps\" class into your code."
   ]
  },
  {
   "cell_type": "code",
   "execution_count": 23,
   "id": "6ace7df4-f7c4-4f2a-baf1-73f870b68954",
   "metadata": {
    "slideshow": {
     "slide_type": ""
    },
    "tags": []
   },
   "outputs": [
    {
     "data": {
      "text/html": [
       "\n",
       "        <iframe\n",
       "            width=\"100%\"\n",
       "            height=\"300px\"\n",
       "            src=\"raw_codes/exr4/ipyleaflet_basemap.html\"\n",
       "            frameborder=\"0\"\n",
       "            allowfullscreen\n",
       "            \n",
       "        ></iframe>\n",
       "        "
      ],
      "text/plain": [
       "<IPython.lib.display.IFrame at 0x7f86d8076420>"
      ]
     },
     "execution_count": 23,
     "metadata": {},
     "output_type": "execute_result"
    }
   ],
   "source": [
    "from ipyleaflet import Map, basemaps\n",
    "from ipywidgets.embed import embed_minimal_html\n",
    "import IPython\n",
    "\n",
    "\n",
    "center = (53.547668, 9.985685)\n",
    "map = Map(basemap=basemaps.CartoDB.Positron, center=center, zoom=13)\n",
    "#display(map)\n",
    "src = 'raw_codes/exr4/ipyleaflet_basemap.html'\n",
    "embed_minimal_html(src, views=[map])\n",
    "IPython.display.IFrame(src, width='100%', height='300px')"
   ]
  },
  {
   "cell_type": "markdown",
   "id": "580e6ae4-6c49-4d3a-9776-b85f9bc5cfa3",
   "metadata": {},
   "source": [
    "Now, we can add our WMS service to the leaflet widget by specifying the connectiond details."
   ]
  },
  {
   "cell_type": "code",
   "execution_count": 4,
   "id": "b75bf3b8-d99b-4efe-9c6c-8a35ffc7be0f",
   "metadata": {
    "slideshow": {
     "slide_type": ""
    },
    "tags": []
   },
   "outputs": [
    {
     "data": {
      "application/vnd.jupyter.widget-view+json": {
       "model_id": "eacebb8816084412baec209d80abefda",
       "version_major": 2,
       "version_minor": 0
      },
      "text/plain": [
       "Map(center=[53.547668, 9.985685], controls=(ZoomControl(options=['position', 'zoom_in_text', 'zoom_in_title', …"
      ]
     },
     "execution_count": 4,
     "metadata": {},
     "output_type": "execute_result"
    }
   ],
   "source": [
    "from ipyleaflet import Map, basemaps, WMSLayer\n",
    "center = (53.547668, 9.985685)\n",
    "map = Map(basemap=basemaps.CartoDB.Positron, center=center, zoom=13)\n",
    "wms = WMSLayer(\n",
    "    url='https://geodienste.hamburg.de/HH_WMS_DGM1',\n",
    "    layers='WMS_DGM1_HAMBURG',\n",
    "    format='image/png',\n",
    "    transparent=True\n",
    ")\n",
    "map.add(wms)\n",
    "map"
   ]
  },
  {
   "cell_type": "markdown",
   "id": "af1ff19a-cead-4d40-8a41-0babf2fdee97",
   "metadata": {},
   "source": [
    "Alternatively, you can call any WMS parameter including URL from the former OWSLib object."
   ]
  },
  {
   "cell_type": "code",
   "execution_count": 9,
   "id": "f1c0e831-ae00-4547-82b8-84d1d905dda0",
   "metadata": {
    "slideshow": {
     "slide_type": ""
    },
    "tags": []
   },
   "outputs": [
    {
     "data": {
      "application/vnd.jupyter.widget-view+json": {
       "model_id": "9f9d028093a7438aaf68accab5944597",
       "version_major": 2,
       "version_minor": 0
      },
      "text/plain": [
       "Map(center=[53.547668, 9.985685], controls=(ZoomControl(options=['position', 'zoom_in_text', 'zoom_in_title', …"
      ]
     },
     "execution_count": 9,
     "metadata": {},
     "output_type": "execute_result"
    }
   ],
   "source": [
    "center = (53.547668, 9.985685)\n",
    "map = Map(basemap=basemaps.CartoDB.Positron, center=center, zoom=13)\n",
    "\n",
    "# print(mytest.url) # Shows the URL of WMS Server\n",
    "# list(mytest.items()) # Lists the available layers\n",
    "# print(mytest.items()[0][0]) # Exposes one of the layers in WMS Server\n",
    "# print(mytest['HH_WMS_DGM1'].name) # Takes only the name of the specified layer \n",
    "# print(mytest.getOperationByName('GetMap').formatOptions[0]) \n",
    "    # Gives one of the possible image format\n",
    "\n",
    "wms = WMSLayer(\n",
    "    url= mytest.url,\n",
    "    layers=mytest.items()[0][0],\n",
    "    format= mytest.getOperationByName('GetMap').formatOptions[0],\n",
    "    transparent=True\n",
    ")\n",
    "map.add(wms)\n",
    "map"
   ]
  },
  {
   "cell_type": "markdown",
   "id": "35d37fc2-7c42-4071-9c80-c6d80654e3f7",
   "metadata": {},
   "source": [
    "- ipyLeaflet allows users to create some interactions on their notebooks. Incidentally, it should be noted that these interactions may be less than using the leaflet library in pure JavaScript. Here is one of the posssible interaction of ipyleaflet package, which is clearly described in the [documentation page](https://ipyleaflet.readthedocs.io/en/latest/controls/split_map_control.html)."
   ]
  },
  {
   "cell_type": "code",
   "execution_count": 10,
   "id": "7474129d-bc10-456c-a9c4-603e02a97589",
   "metadata": {
    "slideshow": {
     "slide_type": ""
    },
    "tags": []
   },
   "outputs": [
    {
     "data": {
      "application/vnd.jupyter.widget-view+json": {
       "model_id": "2386d7aebb8b4e91b7e8589b431c2c9f",
       "version_major": 2,
       "version_minor": 0
      },
      "text/plain": [
       "Map(center=[53.547668, 9.985685], controls=(ZoomControl(options=['position', 'zoom_in_text', 'zoom_in_title', …"
      ]
     },
     "execution_count": 10,
     "metadata": {},
     "output_type": "execute_result"
    }
   ],
   "source": [
    "from ipyleaflet import Map, basemaps, WMSLayer, SplitMapControl\n",
    "\n",
    "m = Map(basemap=basemaps.CartoDB.Positron, center=center, zoom=16)\n",
    "wms1 = WMSLayer(\n",
    "    url='https://geodienste.hamburg.de/HH_WMS_INSPIRE_Gebaeude_2D_ALKIS',\n",
    "    layers='BU.Building',\n",
    "    format='image/png',\n",
    "    transparent=True\n",
    ")\n",
    "\n",
    "wms2 = WMSLayer(\n",
    "    url='https://geodienste.hamburg.de/HH_WMS_INSPIRE_Flurstuecke',\n",
    "    layers='CadastralParcels',\n",
    "    format='image/png',\n",
    "    transparent=True\n",
    ")\n",
    "\n",
    "right_layer = wms1\n",
    "left_layer = wms2\n",
    "\n",
    "control = SplitMapControl(left_layer=left_layer, right_layer=right_layer)\n",
    "m.add(control)\n",
    "\n",
    "m"
   ]
  },
  {
   "cell_type": "markdown",
   "id": "1907da39-ef70-4583-a1f1-6020ddb1324f",
   "metadata": {
    "slideshow": {
     "slide_type": ""
    },
    "tags": []
   },
   "source": [
    "- You might be wondering what happens to the console (or terminal window) after running the leaflet widget. The console is still there. All you need to show it again is to enable the console by going to View > Show Log Console in the python notebook window.\n",
    "\n",
    "![Show Log Console](images/exr4/python_show_log_console.png)\n",
    "\n",
    "- In the next exercise you will experience how to drag a marker on the map and then send/print its coordinates to the console."
   ]
  },
  {
   "cell_type": "code",
   "execution_count": 11,
   "id": "b77d8d9a-0011-48f9-99e4-2aefc9db7f45",
   "metadata": {
    "slideshow": {
     "slide_type": ""
    },
    "tags": []
   },
   "outputs": [
    {
     "data": {
      "application/vnd.jupyter.widget-view+json": {
       "model_id": "0826e1db9921430581146aaec2a38ec1",
       "version_major": 2,
       "version_minor": 0
      },
      "text/plain": [
       "Map(center=[53.547668, 9.985685], controls=(ZoomControl(options=['position', 'zoom_in_text', 'zoom_in_title', …"
      ]
     },
     "metadata": {},
     "output_type": "display_data"
    }
   ],
   "source": [
    "from ipyleaflet import Map, basemaps, WMSLayer, Marker\n",
    "\n",
    "def on_location_changed(event):\n",
    "    # Do some computation given the new marker location, accessible from `event['new']`\n",
    "    #print(event)\n",
    "    marker = Marker(location=event['new'], draggable=True)\n",
    "    print(marker.location)\n",
    "    pass\n",
    "\n",
    "center = (53.547668, 9.985685)\n",
    "marker = Marker(location=center, draggable=True)\n",
    "marker.observe(on_location_changed, 'location')\n",
    "\n",
    "# help(marker.observe)\n",
    "map = Map(basemap=basemaps.CartoDB.Positron, center=center, zoom=13)\n",
    "map.add(marker)\n",
    "wms = WMSLayer(\n",
    "    url='https://geodienste.hamburg.de/HH_WMS_DGM1',\n",
    "    layers='WMS_DGM1_HAMBURG',\n",
    "    format='image/png',\n",
    "    transparent=True\n",
    ")\n",
    "map.add(wms)\n",
    "display(map)"
   ]
  },
  {
   "cell_type": "markdown",
   "id": "6a90f5db-5b15-474d-9818-530fa37cc129",
   "metadata": {},
   "source": [
    "- If you are interested in visualizing a 2D/3D map in a python notebook, ipyleaflet can be considered a good starting point in terms of learning curve. However, there are many different alternative python libraries that support 2D/3D geographic data visualization in python notebooks or in a python framework (Flask, Django etc). Take a glance over these libraries, if you want:\n",
    "  - [Folium](https://python-visualization.github.io/folium/latest/)\n",
    "  - [LeafMap](https://leafmap.org/)\n",
    "  - [MapboxGL](https://mapbox-mapboxgl-jupyter.readthedocs-hosted.com/en/latest/)\n",
    "  - [Plotly](https://plotly.com/python/)\n",
    "  - [pyDeck](https://deckgl.readthedocs.io/en/latest/index.html)\n",
    "  - [CesiumPy](https://cesiumpy.readthedocs.io/en/stable/)\n",
    " \n",
    "- If you are looking for more geospatial python libraries or resources, check out the following repository listing some well-known libraries and resources:\n",
    "  - [GeoPythonInfoTree](https://tum-gis.github.io/geoPythonInfoTree/)"
   ]
  },
  {
   "cell_type": "markdown",
   "id": "2135a62f-c6bd-45ab-8271-43e607971c2b",
   "metadata": {},
   "source": [
    "## 2) Accessing WMS services from JavaScript libraries\n",
    "\n",
    "There are many JavaScript libraries that support 2D or 3D map visualizations in web browsers, and sometimes these libraries are used internally as the base environment in desktop applications without resorting to any web browser. For example, threeJS is a JavaScript library that supports visualizing geospatial data on it, meanwhile it is used as a 3D Viewer in QGIS. "
   ]
  },
  {
   "cell_type": "markdown",
   "id": "4677c6ca-25f5-41dd-9005-7dce575a39af",
   "metadata": {
    "slideshow": {
     "slide_type": ""
    },
    "tags": []
   },
   "source": [
    "### 2.1) Adding WMS services to OpenLayers\n",
    "\n",
    "OpenLayers is one of the oldest and most advanced 2D map viewer libraries in JavaScript. When working in Python, you can search for a \"wrapper\" for these JavaScript libraries and import them into your code (For Exp. ipyleaflet was a python wrapper of leaflet JavaScript library). You also have another option to store these HTML+JavaScript packages in your directory and render them using the IPython package with the IFrame function (same with the iframe tag in HTML). This method will give you the chance to render HTML in a frame and access it from the Jupyter notebook as well. However, you can also run these standalone HTML files from your directory just by clicking on them."
   ]
  },
  {
   "cell_type": "code",
   "execution_count": 12,
   "id": "f88eb9a2-97a1-4a2d-8a76-906d159ba57d",
   "metadata": {
    "slideshow": {
     "slide_type": ""
    },
    "tags": []
   },
   "outputs": [
    {
     "data": {
      "text/html": [
       "\n",
       "        <iframe\n",
       "            width=\"100%\"\n",
       "            height=\"300px\"\n",
       "            src=\"raw_codes/exr4/openlayers_empty_viewer.html\"\n",
       "            frameborder=\"0\"\n",
       "            allowfullscreen\n",
       "            \n",
       "        ></iframe>\n",
       "        "
      ],
      "text/plain": [
       "<IPython.lib.display.IFrame at 0x7f86d3f16cf0>"
      ]
     },
     "execution_count": 12,
     "metadata": {},
     "output_type": "execute_result"
    }
   ],
   "source": [
    "import IPython\n",
    "\n",
    "src = 'raw_codes/exr4/openlayers_empty_viewer.html'\n",
    "\n",
    "IPython.display.IFrame(src, width='100%', height='300px')"
   ]
  },
  {
   "cell_type": "markdown",
   "id": "07677522-e354-4f79-967e-0ffb22893d97",
   "metadata": {},
   "source": [
    "- Alternatively, you can play with the file in a playground-like web applicaiton like fiddle:\n",
    "  - [Copy & Edit the HTML + JavaScript bundle in JSFiddle](https://jsfiddle.net/muratkendir/tokr36hf/2/)\n",
    "  - Notice that the OpenLayers JavaScript library is called from an external source here (Check \"URL Resources\" on left panel). "
   ]
  },
  {
   "cell_type": "markdown",
   "id": "489e6869-f366-46a2-af29-61e0ea2e6ff4",
   "metadata": {},
   "source": [
    "So, examine the JavaScript code here to understand fundamentals of OpenLayers:\n",
    "- \"ol\" is an abbreviation of OpenLayers here.\n",
    "  - \"map\" class called from this library and three subobjects specified.\n",
    "  - 1: target 2: layers 3: view\n",
    "    - \"target\" is the ID of the HTMLElement. Check <div> elements in HTML document.\n",
    "    - \"layers\" is the predefined layer objects in map view.\n",
    "    - \"view\" is the definition of the view pane.\n",
    "\n",
    "> TIP: If no coordinate reference system (CRS) is defined, pseudo-mercator (Web Mercator / EPSG:3857) is usually used as the default CRS.\n",
    "```JavaScript\n",
    "var map = new ol.Map({  \n",
    "        target: 'map',\n",
    "        layers: [\n",
    "          new ol.layer.Tile({\n",
    "            source: new ol.source.OSM()\n",
    "          })\n",
    "        ],\n",
    "        view: new ol.View({\n",
    "          center: [1287392,6123424],\n",
    "          zoom: 10\n",
    "        })\n",
    "      });\n",
    "```\n",
    "- Check following web documentation pages to investiage called classes in the code above.\n",
    "  - [ol.Map Class](https://openlayers.org/en/latest/apidoc/module-ol_Map-Map.html)\n",
    "  - [ol.layer.Tile Class](https://openlayers.org/en/latest/apidoc/module-ol_layer_Tile-TileLayer.html)\n",
    "  - [ol.View Class](https://openlayers.org/en/latest/apidoc/module-ol_View-View.html)"
   ]
  },
  {
   "cell_type": "markdown",
   "id": "c29e009d-de86-46f8-84b3-5ef01cc4c0d5",
   "metadata": {},
   "source": [
    "- Now, you can add a wms layer by adding following object to the layers. \n",
    "\n",
    "```JavaScript\n",
    "new ol.layer.Tile({\n",
    "      source: new ol.source.TileWMS({\n",
    "        url: 'https://sgx.geodatenzentrum.de/wms_basemapde',\n",
    "        params: {\n",
    "            'LAYERS': 'de_basemapde_web_raster_farbe',\n",
    "            'FORMAT': 'image/png',\n",
    "        }\n",
    "      })\n",
    "    }),\n",
    "```"
   ]
  },
  {
   "cell_type": "code",
   "execution_count": 13,
   "id": "6b6de670-907d-4f27-b501-3ba13a016521",
   "metadata": {
    "slideshow": {
     "slide_type": ""
    },
    "tags": []
   },
   "outputs": [
    {
     "data": {
      "text/html": [
       "\n",
       "        <iframe\n",
       "            width=\"100%\"\n",
       "            height=\"300px\"\n",
       "            src=\"raw_codes/exr4/openlayers_with_wms.html\"\n",
       "            frameborder=\"0\"\n",
       "            allowfullscreen\n",
       "            \n",
       "        ></iframe>\n",
       "        "
      ],
      "text/plain": [
       "<IPython.lib.display.IFrame at 0x7f86d82ba030>"
      ]
     },
     "execution_count": 13,
     "metadata": {},
     "output_type": "execute_result"
    }
   ],
   "source": [
    "import IPython\n",
    "\n",
    "src = 'raw_codes/exr4/openlayers_with_wms.html'\n",
    "\n",
    "IPython.display.IFrame(src, width='100%', height='300px')"
   ]
  },
  {
   "cell_type": "markdown",
   "id": "45b8864c-fbff-4d35-8749-6387b769241e",
   "metadata": {},
   "source": [
    "- Alternatively, you can play with the file in a playground-like web applicaiton like fiddle:\n",
    "  - [Copy & Edit the HTML + JavaScript bundle in JSFiddle](https://jsfiddle.net/muratkendir/7k1pxhsm/)\n",
    "  - Note that the basemap is still OSM, but all of Germany is covered by a WMS layer provided by basemap.de (zoom out until you see the European continent)"
   ]
  },
  {
   "cell_type": "markdown",
   "id": "66df5cc6-d7bf-4d3b-b54d-10068ccb04f6",
   "metadata": {},
   "source": [
    "- You can also check the different web service types, the API documentation of the supported classes and experience how OpenLayers supports these web services in the map view:\n",
    "  - \"Single Image WMS\" - [sample link](https://openlayers.org/en/latest/examples/wms-image.html) | [API Docs - ImageWMS](https://openlayers.org/en/latest/apidoc/module-ol_source_ImageWMS-ImageWMS.html)\n",
    "  - \"Tiled WMS layer\" - [sample link](https://openlayers.org/en/latest/examples/wms-tiled.html) | [API Docs - TileWMS](https://openlayers.org/en/latest/apidoc/module-ol_source_TileWMS-TileWMS.html)\n",
    "  - \"WMTS layer\" - [sample link](https://openlayers.org/en/latest/examples/wmts.html) | [API Docs - WMTS](https://openlayers.org/en/latest/apidoc/module-ol_source_WMTS-WMTS.html)\n",
    "  - \"WMS (1.3) with GetFeatureInfo function\" - [sample link](https://openlayers.org/en/latest/examples/getfeatureinfo-image.html) | (Check ImageWMS API Docs)\n",
    "  - \"WFS vector layer\" - [sample link](https://openlayers.org/en/latest/examples/vector-wfs.html) | [API Docs - VectorLayer](https://openlayers.org/en/latest/apidoc/module-ol_renderer_canvas_VectorLayer-CanvasVectorLayerRenderer.html)\n",
    "  - \"WFS vector layer with getFeature function\" - [sample link](https://openlayers.org/en/latest/examples/vector-wfs-getfeature.html) | [API Docs - WFS GetFeature](https://openlayers.org/en/latest/apidoc/module-ol_format_WFS-WFS.html)\n",
    "\n",
    "> TIP : You can start to play with the given codes by clicking to \"Edit\" button at right top corner."
   ]
  },
  {
   "cell_type": "markdown",
   "id": "cfd6e92c-7315-4d3d-bf8c-2b96e315629c",
   "metadata": {},
   "source": [
    "### 2.2) Adding WMS services to CesiumJS\n",
    "CesiumJS is a popular 3D Map view library that supports additional 3D assets (object collections) such as 3D Tiles, tiled terrain models, GLTF/GLB (3D) models, etc. However, as a common map display environment, CesiumJS continues to support widely used geospatial data formats and web services such as GeoJSON, WMS, WMTS, etc. Just like we did before for OpenLayers, you can call CesiumJS libraries from a remote repository and visualize them here as HTML views:"
   ]
  },
  {
   "cell_type": "code",
   "execution_count": 14,
   "id": "ed477532-34ea-4310-9f5a-49768302023d",
   "metadata": {},
   "outputs": [
    {
     "data": {
      "text/html": [
       "\n",
       "        <iframe\n",
       "            width=\"100%\"\n",
       "            height=\"400px\"\n",
       "            src=\"raw_codes/exr4/cesium_empty_viewer.html\"\n",
       "            frameborder=\"0\"\n",
       "            allowfullscreen\n",
       "            \n",
       "        ></iframe>\n",
       "        "
      ],
      "text/plain": [
       "<IPython.lib.display.IFrame at 0x7f86d3f191f0>"
      ]
     },
     "execution_count": 14,
     "metadata": {},
     "output_type": "execute_result"
    }
   ],
   "source": [
    "import IPython\n",
    "\n",
    "src = 'raw_codes/exr4/cesium_empty_viewer.html'\n",
    "\n",
    "IPython.display.IFrame(src, width='100%', height='400px')"
   ]
  },
  {
   "cell_type": "markdown",
   "id": "d298ff52-87d5-4fbd-8528-2a1eddfcd7a7",
   "metadata": {},
   "source": [
    "- Alternatively, you can play with the file in Sandcastle (a playground provided by CesiumJS):\n",
    "  - [Sample in Cesium Sandcastle](https://sandcastle.cesium.com/#c=dZLRb9owEMb/lRMvMCmzQQN1YhRNo6qG1KrT6PbEQ93kSE5zzpF9AbGp//tMQgZlW54ud9/3k++zAbSGJZOQsfQTQQqEBQaqS/hOuEMPxE3z8+P9HaDFEllgR1I03ae00S4ciyFG/wTLG7Xm1HEQ2LaAa2DcHaGqhQ76F75+Ar/WDM2n9beA8FAhr8Qjyr2pQjej0uTo91+821IW2dNz9ivL8rVy8AcPUHsbjf1CpApTrY0SsqhcdIfGXZpKOZ/rfmd5eZN05aa2NqRRxZ9qEcdT8TUCnJQf2jKmemv3TUapKdEbEAcrw3DrDacUUgdGmnFOW2SwjnOSOsMErJFjZTiDAikvRLXUNlHVEtXG7h/dabEMgxBHs+O43jGThfESK8Pv1Ma78gbzePYwGI3U5GqSjN+r0fAqgfFwODzt6DzFS+5AZ8EVaDLi/ES/N1IocV9j23AYDNUZBaAiSYv/it+OJ+fyl7ZoAuwlvVmQvcV5N/1IZeW8HK5uoJQWLKsYEwb9XKc/UFQaQpf8TJ9bZxltgbLrde/ixa17kFoTQpwc7nQVH/+6N5/pqP/Lal2z98MWvTX7g6wYze/aplJqpuPvv53inH02/oL8Gw)"
   ]
  },
  {
   "cell_type": "markdown",
   "id": "9fe7d63e-1364-4822-b597-0c85298bac93",
   "metadata": {},
   "source": [
    "- If you examine the code in the example, you will notice that a main object (viewer) is called to the scene:\n",
    "  - [viewer](https://cesium.com/learn/cesiumjs/ref-doc/Viewer.html)\n",
    "- Then one of the possible imagery provider class \"OpenStreetMap\" called into the DOM element called \"cesiumContainer\"\n",
    "  - [OpenStreetMapImageryProvider](https://cesium.com/learn/cesiumjs/ref-doc/OpenStreetMapImageryProvider.html?classFilter=imageryprovider)\n",
    "\n",
    "- Camera is a need to set an oblique view to the interested area. There are multiple techniques to set a view (check the [link](https://cesium.com/learn/cesiumjs-learn/cesiumjs-camera/)), but one of the most used method is setting heading-pitch-roll angles. If you are unfmailiar with heading-pitch-roll angles, visit following page: [Heading(Yaw)-Pitch-Roll](https://en.wikipedia.org/wiki/Aircraft_flight_dynamics).\n",
    "```JavaScript\n",
    "const viewer = new Cesium.Viewer('cesiumContainer', {\n",
    "  imageryProvider: new Cesium.OpenStreetMapImageryProvider({\n",
    "    url: 'https://a.tile.openstreetmap.org/'\n",
    "  }),\n",
    "  fullscreenButton: true\n",
    "});\n",
    "viewer.camera.flyTo({\n",
    "  destination: Cesium.Cartesian3.fromDegrees(11.575, 48.107, 4000),\n",
    "  orientation: {\n",
    "    heading: Cesium.Math.toRadians(0.0),\n",
    "    pitch: Cesium.Math.toRadians(-45.0),\n",
    "  }\n",
    "});\n",
    "```\n",
    "\n",
    ">TIP : OpenStreetMapImageryProvider is only one of the available options for adding image layers to CesiumJS. You can type \"ImageryProvider\" in the serarch box on the API documentation page to find out all the possibilities."
   ]
  },
  {
   "cell_type": "markdown",
   "id": "a5f6d966-53cc-47df-ad24-05945d123046",
   "metadata": {},
   "source": [
    "- Similarly to OpenLayers code, you can add WMS service as a basemap option to the Cesium scene by specifying the parameters.\n",
    "\n",
    "```JavaScript\n",
    "var geourl = 'https://sgx.geodatenzentrum.de/wms_basemapde';\n",
    "var imageryLayers = viewer.imageryLayers;\n",
    "var geoWmsLayer = new Cesium.WebMapServiceImageryProvider({\n",
    "                    url : geourl,\n",
    "                    parameters: {\n",
    "                        service : 'WMS',\n",
    "                        format : 'image/png',\n",
    "                    },   \n",
    "                    layers : 'de_basemapde_web_raster_farbe',\n",
    "                    EPSG: '4326'\n",
    "                    });\n",
    "\n",
    "viewer.scene.imageryLayers.removeAll();\n",
    "imageryLayers.addImageryProvider(geoWmsLayer);\n",
    "```\n",
    "\n",
    "- If we combine this code block with the previous cesium code, we will get following scene:"
   ]
  },
  {
   "cell_type": "code",
   "execution_count": 15,
   "id": "65feff20-ed5d-4667-91b0-30325acd2ace",
   "metadata": {},
   "outputs": [
    {
     "data": {
      "text/html": [
       "\n",
       "        <iframe\n",
       "            width=\"100%\"\n",
       "            height=\"400px\"\n",
       "            src=\"raw_codes/exr4/cesium_with_wms.html\"\n",
       "            frameborder=\"0\"\n",
       "            allowfullscreen\n",
       "            \n",
       "        ></iframe>\n",
       "        "
      ],
      "text/plain": [
       "<IPython.lib.display.IFrame at 0x7f86d3f19100>"
      ]
     },
     "execution_count": 15,
     "metadata": {},
     "output_type": "execute_result"
    }
   ],
   "source": [
    "import IPython\n",
    "\n",
    "src = 'raw_codes/exr4/cesium_with_wms.html'\n",
    "\n",
    "IPython.display.IFrame(src, width='100%', height='400px')"
   ]
  },
  {
   "cell_type": "markdown",
   "id": "e9792a4c-fc01-4f65-8b71-6e345f7d60f7",
   "metadata": {
    "slideshow": {
     "slide_type": ""
    },
    "tags": []
   },
   "source": [
    "- Also check the following samples and related API documentations to learn more about the possibilities in CeisumJS:\n",
    "    - [Imagery Layers](https://sandcastle.cesium.com/?src=Imagery%20Layers.html&label=Beginner) | [API Docs - ImageryProvider](https://cesium.com/learn/cesiumjs/ref-doc/ImageryProvider.html)\n",
    "    - [WMTS layer with Time dimension](https://sandcastle.cesium.com/?src=Web%20Map%20Tile%20Service%20with%20Time.html&label=Beginner) | [WebMapTileServiceImageryProvider](https://cesium.com/learn/cesiumjs/ref-doc/WebMapTileServiceImageryProvider.html)\n",
    "    - [WMS GetFeatureInfo](https://sandcastle.cesium.com/?src=Web%20Map%20Service%20(WMS).html&label=Beginner) | (Check the ImageryProvider page)\n",
    "    - [OSM 3D Buildings Dataset](https://sandcastle.cesium.com/?src=Cesium%20OSM%20Buildings.html&label=Beginner) | [createOSMBuildings](https://cesium.com/learn/cesiumjs/ref-doc/global.html#createOsmBuildings)\n",
    "    - [Point Clouds as 3D Tiles](https://sandcastle.cesium.com/?src=3D%20Tiles%20Point%20Cloud.html&label=3D%20Tiles) | [Cesium3DTileset](https://cesium.com/learn/cesiumjs/ref-doc/Cesium3DTileset.html)\n",
    "    - [Segmented Point Clouds as 3D Tiles](https://sandcastle.cesium.com/?src=3D%20Tiles%20Point%20Cloud%20Classification.html&label=3D%20Tiles) | [Cesium3DTileStyle](https://cesium.com/learn/cesiumjs/ref-doc/Cesium3DTileStyle.html)"
   ]
  },
  {
   "cell_type": "markdown",
   "id": "d7f1dbaa-1139-45f6-bde8-cf96dfd26949",
   "metadata": {},
   "source": [
    "### 2.3) Using OGC Feature API as GeoJSON source in Cesium\n",
    "\n",
    "One of the natively supported formats in CesiumJS is the \"GeoJSON\" data format. GeoJSON is quite similar to JSON files, but is standardized to support geospatial objects with a defined coordinate reference system and geometry property. This means that any OGC Feature API service that provides GeoJSON files can be easily adapted with CesiumJS scenes. The easiest way to import the OGC Feature API is to predefine the query and format in the URL and reference the URL as if calling a GeoJSON file from a repository.\n",
    "\n",
    "```JavaScript\n",
    "// Set a viewer\n",
    "const viewer = new Cesium.Viewer(\"cesiumContainer\", {});\n",
    "```\n",
    "\n",
    "- Prepare the URL refers to OGC Feature API\n",
    "  - Example taken from the following data source:\n",
    "    - https://suche.transparenz.hamburg.de/dataset/grundwassergleichen-min11\n",
    "  - Query parameters specifies following filtering options:\n",
    "    - First 10 (limit=10) of ground water sources which have 20 meters level (gw_stand_in_meter_nhn=20)\n",
    "      \n",
    "```JavaScript\n",
    "feature_api_query = 'https://api.hamburg.de/datasets/v1/grundwassergleichen_min/collections/u12_l_gleichenplan_min/items?limit=10&gw_stand_in_meter_nhn=20'\n",
    "const dataSource = Cesium.GeoJsonDataSource.load(feature_api_query);\n",
    "```\n",
    "\n",
    "- Now, you can add the data source  to the viewer and set the viewer extend to cover loaded geojson data source.\n",
    "\n",
    "```JavaScript\n",
    "viewer.dataSources.add(dataSource);\n",
    "viewer.zoomTo(dataSource);\n",
    "```"
   ]
  },
  {
   "cell_type": "code",
   "execution_count": 16,
   "id": "a26c5f05-b619-444e-b0b6-312469044f3a",
   "metadata": {},
   "outputs": [
    {
     "data": {
      "text/html": [
       "\n",
       "        <iframe\n",
       "            width=\"100%\"\n",
       "            height=\"400px\"\n",
       "            src=\"raw_codes/exr4/cesium_with_geojson.html\"\n",
       "            frameborder=\"0\"\n",
       "            allowfullscreen\n",
       "            \n",
       "        ></iframe>\n",
       "        "
      ],
      "text/plain": [
       "<IPython.lib.display.IFrame at 0x7f86d3f19130>"
      ]
     },
     "execution_count": 16,
     "metadata": {},
     "output_type": "execute_result"
    }
   ],
   "source": [
    "import IPython\n",
    "\n",
    "src = 'raw_codes/exr4/cesium_with_geojson.html'\n",
    "\n",
    "IPython.display.IFrame(src, width='100%', height='400px')"
   ]
  },
  {
   "cell_type": "markdown",
   "id": "84f35995-db3f-4a7e-a75f-5e84bbd45d96",
   "metadata": {},
   "source": [
    "## 3) Fundamentals of 3D Visualization in CesiumJS\n",
    "\n",
    "We have already added a WMS layer to the 3D map environment using the CesiumJS JavaScript library. Adding 2D overlays (GeoJSON, WMTS, WMS, XYZ basemaps etc) to the 3D map environment is not an outdated or unpopular method, but it is just one step in creating a well-designed 3D map. Generally, the steps required to create a 3D map environment can be summarized as follows: Adding 3D models, adding a 3D terrain model, overlaying the terrain with a coverage and finally adjusting the view to focus on the area of interest. In this step, we will try to follow these instructions one by one and experience 3D assets."
   ]
  },
  {
   "cell_type": "markdown",
   "id": "21e22276-5c86-41ac-b189-f8b3be534430",
   "metadata": {},
   "source": [
    "### 3.1) Adding 3D Buildings to the Cesium viewer\n",
    "\n",
    "There are multiple ways to add 3D Tiles to a Cesium map. First of all, we need to consider that 3D Tiles are a set of binary files defined in JSON format and stored in a hierarchy.\n",
    "Therefore, to add a 3D Tile to the Cesium map, all that is needed is to find a suitable 3DTiles dataset and reference the main JSON file (usually named as \"tileset.json\") that stands at the top in the hierarchy. \n",
    "\n",
    "Another way to add 3DTiles to a Cesium map is using Cesium Ion and it's datasets which are available to use with or without an access token. OSMBuildings is one of these datasets and it is able to use without an access token.\n",
    "\n",
    "If you want to discover more about the available datasets, visit the webpage [CesiumIon](https://ion.cesium.com) and check the \"Asset Depot\" tab after logging in."
   ]
  },
  {
   "cell_type": "markdown",
   "id": "432c8ac1-22b0-4a2d-bed7-f0c626d57c30",
   "metadata": {},
   "source": [
    "Add these codes at the end of your previously code (In section 2.2) and refresh the web page if needed.\n",
    "```JavaScript\n",
    "const buildingsTileset = await Cesium.createOsmBuildingsAsync();\n",
    "viewer.scene.primitives.add(buildingsTileset);\n",
    "```"
   ]
  },
  {
   "cell_type": "code",
   "execution_count": 21,
   "id": "4690cdf4-722e-4d47-8194-61b7d67cda1e",
   "metadata": {},
   "outputs": [
    {
     "data": {
      "text/html": [
       "\n",
       "        <iframe\n",
       "            width=\"100%\"\n",
       "            height=\"400px\"\n",
       "            src=\"raw_codes/exr4/cesium_with_wms_with_osm.html\"\n",
       "            frameborder=\"0\"\n",
       "            allowfullscreen\n",
       "            \n",
       "        ></iframe>\n",
       "        "
      ],
      "text/plain": [
       "<IPython.lib.display.IFrame at 0x7f86d3f19640>"
      ]
     },
     "execution_count": 21,
     "metadata": {},
     "output_type": "execute_result"
    }
   ],
   "source": [
    "import IPython\n",
    "\n",
    "src = 'raw_codes/exr4/cesium_with_wms_with_osm.html'\n",
    "\n",
    "IPython.display.IFrame(src, width='100%', height='400px')"
   ]
  },
  {
   "cell_type": "markdown",
   "id": "4aa8486a-8b56-4b2b-90e3-8ddf0872d477",
   "metadata": {},
   "source": [
    "As you may notice, the predefined 3D building dataset (based on OpenStreetMap extruded buildings, check [OSMBuildings](https://osmbuildings.org) ) is loaded into the scene, but there is a serious problem. The buildings appear to float several hundred meters above the ground. This is because there is no terrain defined yet (a 3d model showing the current heights of the ground) and therefore Cesium works on an artificial surface based on an ellipsoidal geometry (i.e. the WGS84 ellipsoid)."
   ]
  },
  {
   "cell_type": "markdown",
   "id": "d5d0a72e-429f-4a67-aa21-d53425ffa162",
   "metadata": {},
   "source": [
    "## 3.2) Adding terrain to the Cesium viewer\n",
    "We can add a globally available terrain by adding these codes into our code. Please consider that, terrain object must be defined in CesiumContainer widget as an option.\n",
    "```JavaScript\n",
    "const viewer = new Cesium.Viewer('cesiumContainer', {\n",
    "        terrain: Cesium.Terrain.fromWorldTerrain(),\n",
    "    });\n",
    "```"
   ]
  },
  {
   "cell_type": "code",
   "execution_count": 22,
   "id": "c2ac2071-d808-4c41-a658-ae3b7e7039a2",
   "metadata": {},
   "outputs": [
    {
     "data": {
      "text/html": [
       "\n",
       "        <iframe\n",
       "            width=\"100%\"\n",
       "            height=\"400px\"\n",
       "            src=\"raw_codes/exr4/cesium_with_wms_with_osm_with_terrain.html\"\n",
       "            frameborder=\"0\"\n",
       "            allowfullscreen\n",
       "            \n",
       "        ></iframe>\n",
       "        "
      ],
      "text/plain": [
       "<IPython.lib.display.IFrame at 0x7f86d3f19c40>"
      ]
     },
     "execution_count": 22,
     "metadata": {},
     "output_type": "execute_result"
    }
   ],
   "source": [
    "import IPython\n",
    "\n",
    "src = 'raw_codes/exr4/cesium_with_wms_with_osm_with_terrain.html'\n",
    "\n",
    "IPython.display.IFrame(src, width='100%', height='400px')"
   ]
  },
  {
   "cell_type": "markdown",
   "id": "52ae92d6-7740-4ca9-a7c8-35ab5a1573c2",
   "metadata": {},
   "source": [
    "Just like 3D Tiles, terrain models can also be called from external sources. In this way, it is possible to provide moew accurate and precise terrain models which is a need especially when visualizing smaller buildings on bumpy areas (For example click to search button at right top side of the cesium widget and type \"Neuschwanstein Castle\").  "
   ]
  },
  {
   "cell_type": "markdown",
   "id": "762f3387-455d-4f4d-9bc6-6aa55204a805",
   "metadata": {},
   "source": [
    "### 3.3) Adding custom terrain models, 3DTiles and WMS services to Cesium\n",
    "\n",
    "As mentioned earlier, it is possible to add custom-built 3D Tiles and terrain models to Cesium. As these datasets are usually very large and expensive, there are not many publicly available datasets yet. Most of the time, these datasets are provided by an authority with a requirement to use a token or authentication method.\n",
    "\n",
    "Let's start building another example from scratch and add custom (and publicly available) terrain models, 3DTiles and a WMS or WMTS service to the Cesium scene."
   ]
  },
  {
   "cell_type": "markdown",
   "id": "1c1ac196-c6a6-4f2b-9eb8-f38c86492ae2",
   "metadata": {},
   "source": [
    "Remove all previous code and add the following lines to the \\<script\\> tag.\n",
    "\n",
    "```JavaScript\n",
    "// Add following code to activate Cesium viewer with terrain model provided by\n",
    "// swisstopo team and coumented here: https://api3.geo.admin.ch/services/sdiservices.html\n",
    "const viewer = new Cesium.Viewer(\"cesiumContainer\", {\n",
    "      terrain: new Cesium.Terrain(Cesium.CesiumTerrainProvider.fromUrl(\"https://3d.geo.admin.ch/1.0.0/ch.swisstopo.terrain.3d/default/20200520/4326/\"))\n",
    "});\n",
    "```\n",
    "\n",
    "In the next step, define the interested area, in which you want to see both terrain and the buildings together. \n",
    "```JavaScript\n",
    "//Geographic coordinates of famous place Zermatt in Switzerland\n",
    "var center = Cesium.Cartesian3.fromDegrees(7.6594, 45.9904);\n",
    "var heading = Cesium.Math.toRadians(0.0);\n",
    "var pitch = Cesium.Math.toRadians(-90.0);\n",
    "var range = 5000;\n",
    "var hpr = new Cesium.HeadingPitchRange(heading, pitch, range);\n",
    "viewer.camera.lookAt(center, hpr);\n",
    "```\n",
    "\n",
    "Add the 3D Buildings or vegetation objects, which has provided as 3DTiles in this [website](https://api3.geo.admin.ch/services/sdiservices.html#d-tiles).\n",
    "```JavaScript\n",
    "// Add 3D Buildings or Vegetation objects by using 3DTiles links in following site:\n",
    "// https://api3.geo.admin.ch/services/sdiservices.html#d-tiles\n",
    "const buildingsTileset = await Cesium.Cesium3DTileset.fromUrl(\n",
    "     \"https://vectortiles.geo.admin.ch/3d-tiles/ch.swisstopo.swisstlm3d.3d/20201020/tileset.json\"\n",
    ");\n",
    "viewer.scene.primitives.add(buildingsTileset);\n",
    "```\n",
    "> TIP: You can experiment with a 3DTiles dataset that provides LOD2/3 buildings in Munich using following tileset : \"https://bvv3d21.bayernwolke.de/3d-data/latest/lod23d/tileset.json\"\n",
    "\n",
    "Finally add the WMS layer similar to the previous steps.\n",
    "\n",
    "```JavaScript\n",
    "var geourl = 'https://wms.geo.admin.ch/';\n",
    "    var imageryLayers = viewer.imageryLayers;\n",
    "    var geoWmsLayer = new Cesium.WebMapServiceImageryProvider({\n",
    "            url : geourl,\n",
    "            parameters: {\n",
    "                service : 'WMS',\n",
    "            format : 'image/png',\n",
    "            },\n",
    "     \n",
    "        layers : 'ch.swisstopo.swisstlm3d-karte-farbe',\n",
    "            EPSG: '4326'\n",
    "            });\n",
    "\n",
    "    viewer.scene.imageryLayers.removeAll();\n",
    "    imageryLayers.addImageryProvider(geoWmsLayer);\n",
    "```"
   ]
  },
  {
   "cell_type": "code",
   "execution_count": 19,
   "id": "bd0df106-e875-450f-89af-d483365c51b8",
   "metadata": {},
   "outputs": [
    {
     "data": {
      "text/html": [
       "\n",
       "        <iframe\n",
       "            width=\"100%\"\n",
       "            height=\"400px\"\n",
       "            src=\"raw_codes/exr4/cesium_with_everything_custom.html\"\n",
       "            frameborder=\"0\"\n",
       "            allowfullscreen\n",
       "            \n",
       "        ></iframe>\n",
       "        "
      ],
      "text/plain": [
       "<IPython.lib.display.IFrame at 0x7f86d3f17dd0>"
      ]
     },
     "execution_count": 19,
     "metadata": {},
     "output_type": "execute_result"
    }
   ],
   "source": [
    "import IPython\n",
    "\n",
    "src = 'raw_codes/exr4/cesium_with_everything_custom.html'\n",
    "\n",
    "IPython.display.IFrame(src, width='100%', height='400px')"
   ]
  }
 ],
 "metadata": {
  "author": [
   {
    "name": "Murat Kendir"
   },
   {
    "name": "Prof. Thomas Kolbe"
   }
  ],
  "kernelspec": {
   "display_name": "Python 3 (ipykernel)",
   "language": "python",
   "name": "python3"
  },
  "language_info": {
   "codemirror_mode": {
    "name": "ipython",
    "version": 3
   },
   "file_extension": ".py",
   "mimetype": "text/x-python",
   "name": "python",
   "nbconvert_exporter": "python",
   "pygments_lexer": "ipython3",
   "version": "3.12.3"
  },
  "title": "Exercise4 - Geospatial Web Services & Web Mapping in 2D/3D"
 },
 "nbformat": 4,
 "nbformat_minor": 5
}
