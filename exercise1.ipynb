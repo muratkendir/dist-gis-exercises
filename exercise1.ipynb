{
 "cells": [
  {
   "cell_type": "markdown",
   "id": "1148c2d8-22c1-4c50-8def-611e69daf64c",
   "metadata": {},
   "source": [
    "# Distributed Systems, Computer Networks & Internet"
   ]
  },
  {
   "cell_type": "markdown",
   "id": "6c8f2883-26f8-4379-96d8-eb59aa713f41",
   "metadata": {},
   "source": [
    "<img align=\"right\" width=100 height=190 src=\"docs/images/TUM_Logo_blau_rgb_p.png\"/>\n",
    "<blockquote>\n",
    "Munich Technical University || Chair of Geoinformatics </br></br>\n",
    "Murat Kendir, Prof. Thomas Kolbe || murat.kendir@tum.de\n",
    "</blockquote>"
   ]
  },
  {
   "cell_type": "markdown",
   "id": "da933365-8a89-4547-9e60-a6e6dc0e8041",
   "metadata": {},
   "source": [
    "## 1) Thin-Client & Fat-Client Architectures in the Web Applications\n",
    "\n",
    "n this step,  we will learn how to observe some interactions on different web sites using “web developer tools” (in Firefox) or “Developer Tools” (Chrome). We will discuss which interactions are based on a Fat-Client or Thin-Client architecture in relation to our observations (Relevant Presentation: 01 - System Architectures / page 17)."
   ]
  },
  {
   "cell_type": "markdown",
   "id": "260c5a6f-07ed-4b6a-82b5-3211bbe82efe",
   "metadata": {},
   "source": [
    "### 1.a) Preparation for the Next Discussion about Tiers (Web Developer Tool / Developer Tool)\n",
    "\n",
    " - Open Firefox or Google Chrome web browser.\n",
    " - Simply navigate to the relevant page shown in the next topic ( [IRIS Seismic Monitor](https://ds.iris.edu/seismon/index.phtml) ) or go to a random web site.\n",
    " - Press Ctrl + Shift + C buttons together or Ctrl + Shift + I / Alternatively, you can navigate from menu:\n",
    " - For Firefox: Menu > More Tools > Web Developer Tool\n",
    " - For Chrome: Menu > More Tools > Developer Tool\n",
    " - Navigate to the Network tab and press reload button. / Alternatively, you can press F5 key for refreshing the page. (If you want to refresh the web page by clearing the cache, press Ctrl + F5)\n",
    " - Enable “Disable Cache” by checking the box.\n",
    " - Observe at a quick glance which files have been successfully downloaded and which have not. Download status is exposed as “status codes” in the first column of the Network tab. If you want to learn more about status codes, visit the page: [HTTP Status Codes](https://developer.mozilla.org/en-US/docs/Web/HTTP/Status) or search for “HTTP status codes”\n",
    " - Right-click on the column headers in the Network Pane and enable the Start Time, End Time, Response Time and Duration columns. All these temporal attributes will be visualized in the Timeline (called Waterfall in the Chrome browser) section in the Network Pane. (The same attributes are available in the Waterfall column in the Chrome browser. If you cannot see the Waterfall column, right-click on one of the column headers and enable it).\n",
    " - It is now possible to see loaded resources in ascending or descending time order. This is very useful for detecting the latest loaded resources on a web page.\n",
    " - Simply click on a row to view methods for these resources (GET/POST or DELETE) and header attributes (such as MIME types, and charset).\n",
    " - You can use the “Raw” switch to see raw data in the Response tab.\n",
    "\n",
    "On Chrome: Clear panel, filter requests by requested data type.\n",
    "\n",
    "![Chrome Filter Requests](docs/images/exr1/chrome_filter_requests.png)\n",
    "\n",
    "On Chrome: Read the request header and the corresponding response, check the detailed data type (MIME type and character encoding / charset).\n",
    "\n",
    "![Chrome Check Details](docs/images/exr1/chrome_check_details.png)\n",
    "\n",
    "On Chrome: You can sort requests by clicking on the column names and it is also possible to sort by start time, end time, response time, etc. These are not displayed directly as separate columns, but you can find them in the “Timeline”/“Waterfall”.\n",
    "\n",
    "![Chrome Waterfall](docs/images/exr1/chrome_waterfall.png)\n",
    "\n",
    "On Firefox: Clear panel, filter requests by type of requested data\n",
    "\n",
    "![Firefox Data Type](docs/images/exr1/firefox_data_type.png)\n",
    "\n",
    "On Firefox: By clicking on a row, you can also view the details of a request and corresponding response. Also it’s possible to sort requests by start time, end time, etc. in Firefox.\n",
    "\n",
    "![Firefox Timings](docs/images/exr1/firefox_timings.png)\n"
   ]
  },
  {
   "cell_type": "markdown",
   "id": "2354b950-7187-4d86-b976-1dd3dc7659ba",
   "metadata": {},
   "source": [
    "### 1.b) Discussion about the Tiers in Layered Architectures\n",
    "\n",
    "Examine the following web sites by using the “Web Developer Tools” / “Developer Tools” as described above and try to answer questions:\n",
    "- [ ] A) What kind of tiers might the web applications have? (Application-Interface, Application, Data)\n",
    "- [ ] B) Are the parts/files represented on the web app downloaded automatically or is the download triggered by an interaction?\n",
    "- [ ] C) Is the web site in Thin-Client Architecture or Fat-Client Architecture?\n"
   ]
  },
  {
   "cell_type": "markdown",
   "id": "03ec8b86-35de-4f7a-9129-f58215113056",
   "metadata": {},
   "source": [
    "#### 1.b.i) Seismic Monitor (IRIS)\n",
    "\n",
    "[https://ds.iris.edu/seismon/index.phtml](https://ds.iris.edu/seismon/index.phtml)\n",
    "\n",
    "- 1) Do the HTML, CSS and image files represent the application interface?\n",
    "\n",
    "![IRIS Web Contents](docs/images/exr1/iris_dom_contents.png)\n",
    "\n",
    "- 2)  After clicking on a point on the map, the World Seismic Map changed. Thus, the click event triggered the app to download another data from the server.\n",
    "\n",
    "![IRIS Interaction](docs/images/exr1/iris_interaction.png)\n",
    "\n",
    "This website is a very old but working example of a web mapping application. It is a good example of a \"thin client\" architecture as data is always downloaded from the server by requests.\n"
   ]
  },
  {
   "cell_type": "markdown",
   "id": "66813e37-6edf-4870-874e-03fe38375553",
   "metadata": {},
   "source": [
    "#### 1.b.ii) Geoportal Bayern\n",
    "\n",
    "[https://geoportal.bayern.de/bayernatlas](https://geoportal.bayern.de/bayernatlas)\n",
    "\n",
    "In the bottom right corner, select the base map to be loaded on the screen.\n",
    "\n",
    "![BayernAtlas Basemap](docs/images/exr1/bayernatlas_basemap.png)\n",
    "\n",
    "To load bike paths (Radwege), a cycling map, activate the Hiking and cycling trails layers (Freizeit in Bayern > Wander- und Radwege > Radwege). Once activated, you will see a green network on the map.\n",
    "\n",
    "![BayernAtlas Overlay](docs/images/exr1/bayernatlas_overlay.png)\n",
    "\n",
    "This individual biking trail net is retrieved from the server and is displayed as a transparent image. Let’s assume you need this image for another purpose, while you don’t see any button that allows you to directly download it. In this case, Web Developer Tool might be helpful.\n",
    "Open Web Developer Tool, refresh the page, you will see a list of requests with image data. In order not to spend time on previewing each image, you can filter requests by “Name”. In our case, we search for “radwege” data, therefore we type “radwege” in Filter textbox.\n",
    "\n",
    "![bayernatlas_radwege](docs/images/exr1/bayernatlas_radwege.png)\n",
    "\n",
    "Double-click on the relevant row and you will see a png file on a separate web page and you can easily save this bike path image.\n",
    "\n",
    "![bayernatlas_radwege response](docs/images/exr1/bayernatlas_radwege_response.png)\n"
   ]
  },
  {
   "cell_type": "markdown",
   "id": "aeb23063-599e-41a8-aae8-3cf7e3cc840c",
   "metadata": {},
   "source": [
    "#### 1.b.iii) TURF JS (Advanced geospatial analysis for browsers)\n",
    "\n",
    "[https://turfjs.org/](https://turfjs.org/)\n",
    "\n",
    "TurfJS is a JavaScript library that supports dealing with geospatial datasets in browsers and manipulating them using some spatial functions. It usually loads JS packages into the browser in compressed or linearized format like the other JS libraries.\n",
    "\n",
    "> Tip: You can use [prettier.io](https://prettier.io/) web application to see these files in a “pretty printed” format.\n",
    "\n",
    "![turf_js_packages](docs/images/exr1/turf_js_packages.png)\n",
    "\n",
    "Clear the available requests in the network pane and try to select an operation on the main web page (For example select “Voronoi”).\n",
    "\n",
    "![turf_js_packages](docs/images/exr1/turf_voronoi.png)\n",
    "\n",
    "Try to zoom in and zoom out on one of the map (input or output widget).\n",
    "\n",
    "![turf_js_zoom_in_out](docs/images/exr1/turf_zoomin_out.png)\n"
   ]
  },
  {
   "cell_type": "markdown",
   "id": "f4c1bb36-19b3-4e2d-848d-d6bbce2fce54",
   "metadata": {},
   "source": [
    "## 2) Creating a Sequence Diagram using a Sample Request – Response Example\n",
    "\n",
    "In this step, you will observe an interaction that takes place in the BayernAtlas web app. This interaction is a simple routing / navigation application that provides a route for specified leisure activity.\n",
    "You will then create a sequence diagram taking into account this interaction and possible web services working in the background.\n",
    "\n",
    "> Note: Do not consider timings (start time, duration etc.) of the requests.\n"
   ]
  },
  {
   "cell_type": "markdown",
   "id": "bb84ea3b-e03d-428f-8709-7af6d5175977",
   "metadata": {},
   "source": [
    "### 2.a) Review the requests and responses before and after creating a route for mountain bikes (freizeitwege) in the BayernAtlas web app\n",
    "\n",
    "Choose a routing mode. Such as “hiking” (wandern)  as shown in the first icon. Select the start point and end point on the map, a route will be created and a profile showing the elevation along the route.\n",
    "\n",
    "![bayernatlas_routing](docs/images/exr1/bayernatlas_routing.png)\n",
    "\n",
    "![bayernatlas_mountain_bike](docs/images/exr1/bayernatlas_mountain_bike.png)\n",
    "\n",
    "The “route” and “profile” are created using data from the server. We can also download them as JSON files from the Web Developer Tool.\n",
    "\n",
    "![bayernatlas_profile](docs/images/exr1/bayernatlas_profile.png)\n",
    "\n",
    "Clear the network pane before routing interaction and then observe the requests and responses triggered by this interaction.\n",
    "\n",
    "![bayernatlas_clear_requests](docs/images/exr1/bayernatlas_clear_requests.png)\n",
    "\n",
    "Check the “method” of the “profile” request and check both of the request and response tabs in the detailed information pane for this service. \n",
    "\n",
    "![bayernatlas_profile_response](docs/images/exr1/bayernatlas_profile_response.png)\n",
    "\n",
    "Just as we did before, open Web Developer Tool, refresh webpage, and filter requests by “route” and “profile” respectively. \n",
    "By clicking the “route” cell, you can view formatted response JSON. \n",
    "Look into them respectively, figure out what information is stored in them.\n",
    "\n",
    "![bayernatlas_route_json](docs/images/exr1/bayernatlas_route_json.png)\n",
    "\n",
    "If you are familiar with creating files with file extensions as well as changing file extensions in Windows system, you can skip the following file saving experiment.\n",
    "Let’s assume we need these JSON data for another purposes. But unlike image files, which can be directly saved, this JSON data cannot be directly saved by right clicking on the panel. Therefore, we need to create a file with extension on local, copy the whole JSON data and paste it into the file you created. Make sure that the file you created has an extension “.json”, if you don’t see file extensions, check “File name extensions” in File Explore.\n",
    "\n",
    "![windows_enable_extensions](docs/images/exr1/windows_enable_extensions.png)\n",
    "\n",
    "In the end, you will get a “route.json” file and a “profile.json” file."
   ]
  },
  {
   "cell_type": "markdown",
   "id": "45449973-7910-4e89-b033-f4747ec978f2",
   "metadata": {},
   "source": [
    "### 2.b) Creating a Sequence Diagram to Describe the Process Happened in the Previous Step (2.a)\n",
    "\n",
    "You can create UML diagram on [Diagrams Net](https://app.diagrams.net/)\n",
    "\n",
    "Choose the location where you want to save your diagram. We suggest saving it in your local device, thus you don’t need to log in or register an account.\n",
    "You can start drawing by creating a blank diagram.\n",
    "\n",
    "![diagrams_choose_type](docs/images/exr1/diagrams_choose_type.png)\n",
    "\n",
    "As you start drawing, a panel will appear on the left side, where you can select UML shapes. Find those relevant shapes and use them to create your sequence diagram. You can refer to the lecture slides and see which shapes are relevant.\n",
    "\n",
    "![diagrams_uml_shapes](docs/images/exr1/diagrams_uml_shapes.png)\n",
    "\n",
    "> Tip: In the application you can use the shapes named “Actor”, “Lifeline”, “Activation Bar”, “Self Call”, “Message” and “Return”. If you have forgotten the notations of the UML sequence diagram, check the slides 31-39  of the presentation “01 – System architectures”. \n",
    "\n",
    "If you find it difficult to draw the diagram, this tutorial can help you: [Visiual Paradigm - UML Tutorial](https://guides.visual-paradigm.com/creating-sequence-diagrams-in-uml-a-comprehensive-tutorial/)"
   ]
  },
  {
   "cell_type": "markdown",
   "id": "303a1f08-3dd7-4fab-acee-8319ea15e32c",
   "metadata": {},
   "source": [
    "## 3) Examining the Network & Internet Infrastructure\n",
    "\n",
    "In this step, we will learn how to diagnose some network connections using Command Prompt (Eingabeaufforderung), Powershell or some web tools."
   ]
  },
  {
   "cell_type": "markdown",
   "id": "2c51e4ca-c32c-46ee-bd75-9854ce18e04c",
   "metadata": {},
   "source": [
    "### 3.a) What is the current local IPv4 address for your machine? [ipconfig (Windows) / ifconfig (Linux) / ip address show (Linux) command]\n",
    "\n",
    "![windows_cmd_ip4](docs/images/exr1/windows_cmd_ip4.png)\n"
   ]
  },
  {
   "cell_type": "markdown",
   "id": "36e94c2b-70fd-4c2d-a021-6db5e4012f71",
   "metadata": {},
   "source": [
    "### 3.b) What is the current IPv6 address?\n",
    "\n",
    "![windows_cmd_ip6](docs/images/exr1/windows_cmd_ip6.png)\n"
   ]
  },
  {
   "cell_type": "markdown",
   "id": "81616418-ade5-4236-8417-319ef93a2afc",
   "metadata": {},
   "source": [
    "### 3.c) What is the current external IPV4 address of your local network/router?\n",
    "\n",
    "![windows_powershell_external_ip](docs/images/exr1/windows_powershell_external_ip.png)\n",
    "\n",
    "or visit the web page: [whatismyipaddress.com](www.whatismyipaddress.com)\n"
   ]
  },
  {
   "cell_type": "markdown",
   "id": "4bf7647c-eb3d-473e-9623-80369532cb19",
   "metadata": {},
   "source": [
    "### 3.d) What is the current IP-based geolocation?\n",
    "\n",
    "![geolocation](docs/images/exr1/geolocation.png)\n"
   ]
  },
  {
   "cell_type": "markdown",
   "id": "f5c9fb69-e3dd-49bb-99c3-88644b035327",
   "metadata": {},
   "source": [
    "### 3.e) What is the IP address of a selected website? (command: nslookup)\n",
    "\n",
    "![nslookup](docs/images/exr1/nslookup.png)"
   ]
  },
  {
   "cell_type": "markdown",
   "id": "c5d12215-8e4d-4c3e-8d89-0a56786d3a79",
   "metadata": {},
   "source": [
    "### 3.f) What is happening after “Reverse Lookup” for the previous ip address? (nslookup -X)\n",
    "\n",
    "What is the TLD (Top Level Domain) authority for this IP address?\n",
    "\n",
    "![nslookup-x](docs/images/exr1/nslookup-x.png)\n"
   ]
  },
  {
   "cell_type": "markdown",
   "id": "de918e2e-49bb-4c4c-b2a6-89bd74fd4ff0",
   "metadata": {},
   "source": [
    "### 3.g) Internal structure of a web server and it's relation with the ip address\n",
    "\n",
    "If you know the internal structure of a web server (web server configuration),you can still reach the web site using that IP address and the path you know.\n",
    "\n",
    "To experiment with this, try querying ( [neredekaliyor.com](neredekaliyor.com), [109.232.216.62](109.232.216.62)) using nslookup and visit the page [109.232.216.62/~neredek2](109.232.216.62/\\~neredek2) with your browser (Ip address might be changed, check it first with nslookup command).\n",
    "\n",
    "![neredekaliyor_internal_structure](docs/images/exr1/neredekaliyor_internal_structure.png)"
   ]
  },
  {
   "cell_type": "markdown",
   "id": "b6da40dd-4910-4958-b8c3-f929e4be323e",
   "metadata": {},
   "source": [
    "### 3.h) Routing Domain or Subdomain (DNS)\n",
    "\n",
    "Visit the page [mxtoolbox.com](https://mxtoolbox.com) or [dnstools.ch](https://dnstools.ch) website to query DNS\n",
    "records for the selected domains.\n",
    "\n",
    "![network-tools_web](docs/images/exr1/network-tools_web.png)\n"
   ]
  },
  {
   "cell_type": "markdown",
   "id": "6bfaf241-7edc-4982-9ddc-fd7716a66e15",
   "metadata": {},
   "source": [
    "### 3.i) Checking DNS records with nslookup command\n",
    "\n",
    "Type “nslookup –type=MX” (or –type=A/CNAME/SOA/NS/TXT) for the selected domain to see results at the command prompt and compare results from network tool web applications.\n",
    "\n",
    "![dns_records_with_nslookup](docs/images/exr1/dns_records_with_nslookup.png)"
   ]
  },
  {
   "cell_type": "markdown",
   "id": "40d32862-e013-4b48-b94a-0247794a2ebe",
   "metadata": {},
   "source": [
    "### 3.j) Using ping command for web sites from different regions\n",
    "\n",
    "Type “ping -n amazon.DOMAIN_SUFFIX” for different countries that may be near or far from the current country. (For Exp. COM / DE / AU / NZ / CN )\n",
    "\n",
    "![ping_australia](docs/images/exr1/ping_australia.png)\n"
   ]
  },
  {
   "cell_type": "markdown",
   "id": "d4986080-b612-4c6a-9a25-0e2ea80905de",
   "metadata": {},
   "source": [
    "### 3.k) Use ping command for toher web sites\n",
    "\n",
    "Repeat the same tasks with different domain suffixes on the network-tool or dnstools web site.\n",
    "\n",
    "![ping_others](docs/images/exr1/ping_others.png)\n"
   ]
  },
  {
   "cell_type": "markdown",
   "id": "4b87a5f4-9c5c-4b5d-a276-33f027e1efe0",
   "metadata": {},
   "source": [
    "### 3.l) Using traceroute command\n",
    "\n",
    "Select the domain with the most delayed ping response and use “traceroute” command in web apps to query it. Check the records of the sites with the least and most delay.\n",
    "\n",
    "![using_traceroute](docs/images/exr1/using_traceroute.png)\n"
   ]
  },
  {
   "cell_type": "markdown",
   "id": "83020ff4-be7e-488b-9713-c0cbf1c4dd2f",
   "metadata": {},
   "source": [
    "## 4) Python Request Script for a Known Public Web Service\n",
    "\n",
    "Sample python code to run and request a source from internet with a specified URL.\n"
   ]
  },
  {
   "cell_type": "markdown",
   "id": "1344e41e-a3e4-4726-995e-fb12de9d7c20",
   "metadata": {},
   "source": [
    "### 4.a) Method 1 (Request Library):\n"
   ]
  },
  {
   "cell_type": "code",
   "execution_count": 4,
   "id": "adb7faa8-93cf-4dc9-a6c2-cb6edee79821",
   "metadata": {},
   "outputs": [
    {
     "name": "stdout",
     "output_type": "stream",
     "text": [
      "Request has been made, check this path:  responses/exr1/myfile.png\n"
     ]
    }
   ],
   "source": [
    "import requests\n",
    "# Detailed Information about Requests here: https://pypi.org/project/requests\n",
    " \n",
    "def get_one_file(custom_url, custom_file_name):\n",
    "    \"\"\"This function requests a single source from a public service over internet.\"\"\"\n",
    "    req = requests.get(custom_url)\n",
    "    with open(custom_file_name, \"wb\") as my_file:\n",
    "        my_file.write(req.content)\n",
    " \n",
    "#Specify yhe URL here:\n",
    "my_service_url = \"https://geoservices.bayern.de/wms/v1/ogc_freizeitwege_oa.cgi?SERVICE=WMS&VERSION=1.1.1&REQUEST=GetMap&FORMAT=image%2Fpng&TRANSPARENT=true&LAYERS=by_fzw_radwege&LANG=de&SRS=EPSG%3A31468&STYLES=&WIDTH=2000&HEIGHT=819&BBOX=4464822%2C5336201%2C4468822%2C5337839\"\n",
    "#Specify the File Name here:\n",
    "my_file_name = \"myfile\"\n",
    "file_extension= \".png\"\n",
    "relative_path_of_file = \"responses/exr1/\" + my_file_name + file_extension\n",
    "\n",
    "#Function executed here\n",
    "get_one_file(my_service_url, relative_path_of_file)\n",
    "print(\"Request has been made, check this path: \", relative_path_of_file)"
   ]
  },
  {
   "cell_type": "markdown",
   "id": "ef787064-2080-42e4-bff0-413a7e7157bd",
   "metadata": {},
   "source": [
    "### 4.b) Method 2 (Using CURL) :\n"
   ]
  },
  {
   "cell_type": "code",
   "execution_count": 5,
   "id": "24caf1f7-c79b-468f-9bfe-92ad22455b69",
   "metadata": {},
   "outputs": [
    {
     "name": "stdout",
     "output_type": "stream",
     "text": [
      "Request has been made, check this path : responses/exr1/myfile2.png\n"
     ]
    },
    {
     "name": "stderr",
     "output_type": "stream",
     "text": [
      "  % Total    % Received % Xferd  Average Speed   Time    Time     Time  Current\n",
      "                                 Dload  Upload   Total   Spent    Left  Speed\n",
      "100   196  100   196    0     0   2989      0 --:--:-- --:--:-- --:--:--  3015\n"
     ]
    }
   ],
   "source": [
    "import os\n",
    "# Detailed information about OS library is here: https://docs.python.org/3/library/os.html\n",
    "\n",
    "def get_one_file(custom_url, custom_file_name):\n",
    "    \"\"\"This function requests a single source from a public service over internet.\"\"\"\n",
    "    command='curl -X GET \"' + custom_url + '\" >' + custom_file_name\n",
    "    os.system(command)\n",
    " \n",
    "#Specify yhe URL here: \n",
    "my_service_url = \"https://geoservices.bayern.de/wms/v1/ogc_freizeitwege_oa.cgi?SERVICE=WMS&VERSION=1.1.1&REQUEST=GetMap&FORMAT=image%2Fpng&TRANSPARENT=true&LAYERS=by_fzw_radwege&LANG=de&SRS=EPSG%3A31468&STYLES=&WIDTH=2000&HEIGHT=819&BBOX=4464822%2C5336201%2C4468822%2C5337839\"\n",
    "#Specify the File Name here: \n",
    "my_file_name = \"myfile2\"\n",
    "file_extension= \".png\"\n",
    "relative_path_of_file = \"responses/exr1/\" + my_file_name + file_extension\n",
    " \n",
    "get_one_file(my_service_url, relative_path_of_file)\n",
    "print(f\"Request has been made, check this path : {relative_path_of_file}\")"
   ]
  }
 ],
 "metadata": {
  "author": [
   {
    "name": "Murat Kendir"
   },
   {
    "name": "Prof. Thomas Kolbe"
   }
  ],
  "kernelspec": {
   "display_name": "Python 3 (ipykernel)",
   "language": "python",
   "name": "python3"
  },
  "language_info": {
   "codemirror_mode": {
    "name": "ipython",
    "version": 3
   },
   "file_extension": ".py",
   "mimetype": "text/x-python",
   "name": "python",
   "nbconvert_exporter": "python",
   "pygments_lexer": "ipython3",
   "version": "3.12.3"
  },
  "title": "Exercise1 - Distributed Systems, Compter Networks and Internet"
 },
 "nbformat": 4,
 "nbformat_minor": 5
}
