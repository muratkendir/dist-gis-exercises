{
 "cells": [
  {
   "cell_type": "markdown",
   "id": "fe3ce17c",
   "metadata": {
    "editable": true,
    "slideshow": {
     "slide_type": ""
    },
    "tags": []
   },
   "source": [
    "#  Spatial Data Infrastructures (SDI)"
   ]
  },
  {
   "cell_type": "markdown",
   "id": "b280c0ca-9b87-48da-9ab6-4f8a143ed747",
   "metadata": {
    "editable": true,
    "slideshow": {
     "slide_type": ""
    },
    "tags": []
   },
   "source": [
    "<img align=\"right\" width=100 height=190 src=\"./images/TUM_Logo_blau_rgb_p.png\"/>\n",
    "<blockquote>\n",
    "Munich Technical University || Chair of Geoinformatics </br></br>\n",
    "Murat Kendir, Prof. Thomas Kolbe || murat.kendir@tum.de\n",
    "</blockquote>"
   ]
  },
  {
   "cell_type": "markdown",
   "id": "9a3a25c2",
   "metadata": {
    "editable": true,
    "slideshow": {
     "slide_type": ""
    },
    "tags": []
   },
   "source": [
    "- In the previous exercise we explored the python programming language and tried to create a simple application to request geospatial data using the requests library.\n",
    "- In this tutorial, you will learn how to search for a geospatial dataset using different levels (regional, city scale, etc.) of “Spatial Data Infrastructures” (SDIs). \n",
    "  - You will explore multiple SDI websites that provide some geospatial datasets in different formats or as different types of web services.\n",
    "  - You will then learn how to combine and represent these datasets in popular GIS platforms such as QGIS and ArcGIS Pro.\n",
    "  - Finally, you will create a small python application that connects and utilizes the selected geospatial data for a specific purpose."
   ]
  },
  {
   "cell_type": "markdown",
   "id": "df99baf1-4e6a-4403-832a-b720c77ee013",
   "metadata": {},
   "source": [
    "## 0) Reminders\n",
    "\n",
    "### What we have learned in the previous exercise?\n",
    "\n",
    "- A python program can be executed simply by calling it with the python **interpreter** by simply typing ```python my_first_python_program.py```. \n",
    "- Python uses **indentation** to highlight the blocks of code.\n",
    "- Python applications can be run in **virtual environments** with all necessary libraries pre-installed.\n",
    "- Python have many **libraries** to support main applications with predefined classes, functions and data types (e.g. os, json, requests etc) and they can be implemented with **import** command.\n",
    "- **```if / elif / else```** is a conditonal statement.\n",
    "- **```for x in array```** creates a sequence to iterate in an array-like (iterative) object.\n",
    "- There are useful built-in functions (which you can list all with ```dir(__builtins__)```) to investigate an object in python such as **type, dir, help, print, vars**.\n",
    "- A function can be set with the **def** (stands for DEFinition) command and mandatory and optional parameters can be specified in parentheses. For example: ```def save_somebody(name, surname, species=\"Homo Sapiens\"):```\n",
    "- A file can be manipulated by specifiying file path and file permission. For example: ```with open(\"current_folder/relative_file_path.txt\", \"w\") as myfile:```\n",
    "- A python **dictionary** is a bit different from a **JSON** object and they can be converted to eachother with json.load(s) and json.dump(s) functions of json library.\n",
    "- A questionnaire can be set with **```input(\"Enter a custom name\")```** function."
   ]
  },
  {
   "cell_type": "markdown",
   "id": "90aa547f-d5a1-4a4e-909d-b20e6a757e3f",
   "metadata": {},
   "source": [
    "## 1) Finding the datasets\n",
    "\n",
    "Global Sea Level is rising at an increasing rate every year, causing floods to occur more frequently all over the world. This forces local (or regional) governments to take measures against future floods. <b>Suppose you are responsible for preparing a disaster management application in Hamburg.</b> This application will calculate the flood risk for a specific building and generate a report with information on the extent of the risk and the relevant land parcel number. For this purpose, you need to find the most suitable geographic data services using the <a href=\"https://inspire-geoportal.ec.europa.eu\">INSPIRE Geoportal</a>, <a href=\"https://geoportal.de\">geoportal.de</a> and <a href=\"https://transparenz.hamburg.de\">Hamburg TransparenzPortal</a>. Imagine that these datasets should contain the following data layers: \n",
    "<ul>\n",
    "    <li>Buildings footprints (DE: Gebeaude Grundstücke) | (will be searched for in the Section 3a)</li>\n",
    "    <li>Land Parcels (DE: Flurstück)</li>\n",
    "    <li>Digital Elevation Model / DEM (DE: Höhenmodell / DHM)</li>\n",
    "    <li>Flood Risk Zones (DE: Hochwasserrisikos)</li>\n",
    "</ul>\n",
    "<div align=center>\n",
    "<figure style=\"width:282px;padding:10px;background-color:#dad7cb;\">\n",
    "    <img src=\"./images/exr3/hamburg_1962.jpg\" width=282 height=200/>\n",
    "    <figcaption>During the catastrophic flood of 1962, boats were used to rescue Hamburg residents from flooded buildings.\n",
    "            <a href=\"https://www.bloomberg.com/news/features/2023-11-20/the-design-history-of-london-s-mansion-block-apartment-buildings\"> Source</a>\n",
    "    </figcaption>\n",
    "</figure>\n",
    "</div>"
   ]
  },
  {
   "cell_type": "markdown",
   "id": "e8a3c563-25a0-4bd9-8186-7b554ec5eda3",
   "metadata": {},
   "source": [
    "## 2 a) A short preparation - Creating a \"Service Selection Tool\"\n",
    "Before you start examining the given Spatial Data Infrastructures (SDIs), you will set up a function in python that makes it easy to store the names, links and additional information of the services."
   ]
  },
  {
   "cell_type": "code",
   "execution_count": 16,
   "id": "cbad39bc-dbf3-44c8-9066-a215786852f2",
   "metadata": {},
   "outputs": [],
   "source": [
    "# In Python, there is no need to specify the variable data type.\n",
    "# However, you can still use type conversion methods or shortcuts to specify the data type.\n",
    "# For Exp. '{}' is a shortcut to create a python dictionary.\n",
    "\n",
    "#Create an empty dictionary.\n",
    "my_services = {} \n",
    "\n",
    "# !Remember the role of indentation in python.\n",
    "def add_to_store(service_id, name, url, wms_url):\n",
    "# Here, you set a complex data in python dictionary data type.\n",
    "    my_services[service_id] = { \"name\" : name\n",
    "        , \"url\" : url\n",
    "        , \"WMS_URL\" : wms_url}\n",
    "    print(my_services)\n",
    "\n",
    "#Extras for checking the dictionary data type and result of the function:\n",
    "# type(my_services)\n",
    "# help(my_services)\n",
    "# add_to_store(\"service_1\", \"my_fav\", \"https://sdi.com\", \"https://wms.sdi.com/my_city?\")\n",
    "# print(my_services.get(\"service_1\"))\n",
    "# my_services.clear()\n",
    "# print(my_services.get(\"service_1\"))\n"
   ]
  },
  {
   "cell_type": "markdown",
   "id": "4ef6f30e-e9c6-4601-b620-c176d1f8a237",
   "metadata": {},
   "source": [
    "<blockquote style=\"background-color:ivory;\"> TIP : You may have noticed that the square brackets <b>[ ]</b> we use to set a new item in the dictionary are\n",
    "also a shortcut. You can also find this information in related hidden functions like <b>__getitem__()</b> or\n",
    "<b>__setitem__()</b>. Type <i><b>dir(my_services)</i></b> or <i><b>dir(dict())</i></b> to reveal them.</blockquote>"
   ]
  },
  {
   "cell_type": "markdown",
   "id": "b5039b44-ef68-4e45-8226-560883880c3b",
   "metadata": {},
   "source": [
    "Now, suppose that you want to use the function in an interactive way to let other users also add the found services into the dictionary.\n",
    "To do that, we can implement another function which runs an input command for every instance in the dictionary:"
   ]
  },
  {
   "cell_type": "code",
   "execution_count": 40,
   "id": "3804e1e8-6c5a-42b1-89a0-e9fe50e8eea3",
   "metadata": {},
   "outputs": [],
   "source": [
    "# You can now define another function to interactively ask and store the knowledge data in your dictionary.\n",
    "\n",
    "keys = [\"name\", \"Url of SDI\", \"URL of WMS Service\"]\n",
    "\n",
    "my_services = {}\n",
    "\n",
    "# Following line adds only the keys defined above. \n",
    "# These kind of inline functions called as comprehensions in Python.\n",
    "my_services[0] = {key: None for key in keys}\n",
    "# print(my_services) \n",
    "\n",
    "def add_to_store(service_id, name, sdi_url, wms_url):\n",
    "    # Here, you set a complex data in python dictionary data type.\n",
    "    my_services[service_id] = { keys[0] : name, keys[1] : sdi_url , keys[2] : wms_url}\n",
    "    print(my_services)\n",
    "\n",
    "def found_service():\n",
    "    service_id = input(\"Give an ID (number or unique value)...\")\n",
    "    service_data = [] # Created a list to save the values temporarily\n",
    "    for i in range(3): # Meet another object here: range\n",
    "        questionnaire = \"Please specify the \" + keys[i]\n",
    "        service_data.append(input(questionnaire))\n",
    "        i+=1\n",
    "    #Note that a list index is very similar to range, but always starts from 0.\n",
    "    add_to_store(service_id, service_data[0], service_data[1], service_data[2])\n",
    "\n",
    "# found_service()\n",
    "# my_services.clear()"
   ]
  },
  {
   "cell_type": "markdown",
   "id": "51353264-048f-4ea4-a0a5-758a656af382",
   "metadata": {},
   "source": [
    "- [ ] **Save the code** above as \"service_selection.py\" into \"/raw_codes/exr3\" directory."
   ]
  },
  {
   "cell_type": "markdown",
   "id": "36e303fa-5ea3-40e4-bd88-094ddbd3276d",
   "metadata": {},
   "source": [
    "## 2 b) Use the created program in another python program\n",
    "\n",
    "- [ ] Check if the file exists in the \"/raw_codes/exr3\" folder.\n",
    "- [ ] Start a new code and import the functions and variables defined in the previously created python file."
   ]
  },
  {
   "cell_type": "code",
   "execution_count": 52,
   "id": "eb3aea61-fcba-4eaf-887e-f83a597dc7da",
   "metadata": {},
   "outputs": [],
   "source": [
    "# When you save a python file contains classes, functions and variables into another folder\n",
    "# , this folder with its contents can be called as a \"python module\".\n",
    "\n",
    "# Note that importing a module is enough to access to the functions and variables.\n",
    "# The contents of the modules are only accessible with dot (.) operator.\n",
    "\n",
    "# Method 1\n",
    "from raw_codes.exr3 import service_selection as srv\n",
    "#print(srv.keys)\n",
    "\n",
    "# Method 2\n",
    "# from raw_codes.exr3.service_selection import keys, my_services, add_to_store, found_service\n",
    "# print(keys)\n",
    "\n",
    "# Now you can call your program to save the data about the found geospatial services:\n",
    "# srv.found_service() \n",
    "# srv.my_services.clear()"
   ]
  },
  {
   "cell_type": "markdown",
   "id": "c2d3dd1a-6ac6-4d24-8a61-ea4f94080ca3",
   "metadata": {},
   "source": [
    "<blockquote style=\"background-color:ivory;\"> TIP : You may notice that importing a library into existing python code is very similar to importing an additional python program. This is so because the import command looks for multiple sources in a order. First it tries to find a python file, then it looks for the corresponding python file in the directories defined as the PYTHONPATH environment variable. To see the defined paths in your system import the library <b>sys</b> and print out <b>sys.path</b> object.</blockquote>"
   ]
  },
  {
   "cell_type": "markdown",
   "id": "7d0910d8-43d7-4bba-bfef-88c6847d79b0",
   "metadata": {},
   "source": [
    "### 3 a) Building Footprints (Grundstück)\n",
    "\n",
    "\n",
    "\n",
    "Visit the web site [Hamburg TransparenzPortal](https://transparenz.hamburg.de) and search for the **building footprints** available for Hamburg city. Try to search with following possible words / tags:\n",
    "- Administrative Unit (Verwaltungseinheiten) \n",
    "- House Coordinates (Hauskoordinaten) \n",
    "- ALKIS \n",
    "- Land Parcel (Flurstück) \n",
    "- Building (Gebaeude)\n",
    "\n",
    "\n",
    "Explore possible answers to the following questions:\n",
    "- [ ] Which one is the correct data for your purpose?\n",
    "- [ ] What kind of data it is? Is it a web service or static file?\n",
    "- [ ] How current is the data you find?\n",
    "- [ ] Where is the metadata of the service or file?\n",
    "\n",
    "Finally: \n",
    "- [ ] If you think you have found a web service that suits your purpose, run the “**found_service()**” function in the code (created in section 2b) and save the relevant information.\n",
    "<div align=\"center\">\n",
    "<img src=\"./images/exr3/grundstuecke_service.png\" width=250 height=250 align=center style=\"padding:10px;background-color:#dad7cb;\"/>\n",
    "</div>"
   ]
  },
  {
   "cell_type": "markdown",
   "id": "ad77367c-784a-42e9-9f80-8f71b705b93a",
   "metadata": {},
   "source": [
    "### 3 b) Land Parcels (Flurstücke)\n",
    "\n",
    "Visit the web site [geoportal.de](https://geoportal.de) and search for the **land parcels** available for Hamburg city. \n",
    "> TIP: If you can not find the land parcels for the Hamburg city try adding \"HH\" to your keywords. \"HH\" is the city code for Hamburg used on license plates and it is possible to find relevant datasets using these codes. More information can be found on this [site](https://en.wikipedia.org/wiki/Vehicle_registration_plates_of_Germany).\n",
    "\n",
    "Find the metadata of the dataset and explore possible answers to the following questions:\n",
    "- [ ] What is the base coordinate system for land parcels according to the metadata?\n",
    "- [ ] Who or which organization is responsible for the dataset?\n",
    "\n",
    "Find the XML responses of WMS or WFS services to the \"GetCapabilities\" operation and explore possible answers to the following questions:\n",
    "- [ ] Is the service response from the same domain? (Check the URL)\n",
    "- [ ] Are multiple coordinate systems supported for publishing?\n",
    "- [ ] How many layers does a selected web service consists of?\n",
    "- [ ] Can the layers be used for querying?\n",
    "- [ ] What other possible operations can be requested besides \"GetCapabilities\"?\n",
    "\n",
    "Finally: \n",
    "- [ ] If you think you have found a web service that suits your purpose, run the “**found_service()**” function.\n",
    "\n",
    "<div align=\"center\">\n",
    "<img src=\"./images/exr3/flurstuecke_service.png\" width=250 height=250 align=\"center\" style=\"padding:10px;background-color:#dad7cb;\"/>\n",
    "</div>"
   ]
  },
  {
   "cell_type": "markdown",
   "id": "c4b41fc1-96f8-49d5-968d-1fb1dd2220ae",
   "metadata": {},
   "source": [
    "### 3 c) Digital Elevation Model / DEM (Höhenmodell)\n",
    "\n",
    "Visit the web site [INSPIRE Geoportal](https://inspire-geoportal.ec.europa.eu) and search for the **Digital Elevation Model** available for the Hamburg city.\n",
    "- Click to \"Browse INSPIRE Thematic Datasets\".\n",
    "- Click to \"INSPIRE Data Themes\"\n",
    "- Find the relevant theme on this page and select the country on the following web page.\n",
    "\n",
    "Explore possible answers to the following questions:\n",
    "- [ ] Where is the service URL? (Please find the “Copy” icon under the “Preview Dataset” button.)\n",
    "- [ ] What kind of services are available in the theme? \n",
    "- [ ] Can TANDEM-X datasets be useful for our project? If not, why?\n",
    "- [ ] Is the selected dataset also available on **geoportal.de** ?\n",
    "- [ ] Is the selected dataset also available on **Hamburg Transparenzportal**?\n",
    "- [ ] Are all domain names in the service URLs the same?\n",
    "\n",
    "Finally: \n",
    "- [ ] If you think you have found a web service that suits your purpose, run the “**found_service()**” function.\n",
    "\n",
    "<div align=\"center\">\n",
    "<img src=\"./images/exr3/hohemodell_service.png\" width=250 height=250 align=\"center\" style=\"padding:10px;background-color:#dad7cb;\"/>\n",
    "</div>"
   ]
  },
  {
   "cell_type": "markdown",
   "id": "1fe5111d-0615-4e52-8332-17641af17210",
   "metadata": {},
   "source": [
    "### 3 d) Flood Risk Zones\n",
    "\n",
    "Visit the web site [INSPIRE Geoportal](https://inspire-geoportal.ec.europa.eu) again and search for the **flood risk zones** available for the Hamburg city.\n",
    "\n",
    "- Click to \"Browse Priority Data Sets\".\n",
    "- Click to \"Environmental Domains\".\n",
    "- Click to \"Water\".\n",
    "- Select the country and search with following possible words / tags:\n",
    "  - Wasserrahmenrichtlinie (Water Framework Directive)\n",
    "  - Gewässer (Water Bodies)\n",
    "  - Hochwasserrisikos (Flood Risks)\n",
    "  - Fließgewässern (Watercourses)\n",
    "\n",
    "<blockquote style=\"background-color:ivory;\">TIP: Please find the “Copy” icon under the “Preview Dataset” button to find the service URLs.</blockquote>\n",
    "\n",
    "Finally: \n",
    "- [ ] If you think you have found a web service that suits your purpose, run the “**found_service()**” function.\n",
    "\n",
    "<div align=\"center\">\n",
    "<img src=\"./images/exr3/flood_risk_service.png\" width=250 height=250 align=\"center\" style=\"margin:10px;padding:10px;background-color:#dad7cb;\"/>\n",
    "</div>"
   ]
  },
  {
   "cell_type": "markdown",
   "id": "3626e5d1-2303-4f18-9575-7b52f1fff211",
   "metadata": {},
   "source": [
    "## 4) Adding Services to GIS Software\n",
    "\n",
    "In this chapter, you will learn how to add web services or datasets to a GIS software. You probably don't know what \"web service\" actually means or how to use it correctly, but you don't need to have a deep understanding of web services right now. You may need to recognize the type of web service, but nothing more.\n",
    "\n",
    "### 4 a) Adding Services to QGIS\n",
    "\n",
    "#### 4a i) Add XYZ Basemap\n",
    "- Start by adding a basemap with global coverage and simple styling. \"Carto Positron\" would be a good option for this purpose. (If you want to try other XYZ basemap services, visit [Klas Karlsson's github repository](https://github.com/klakar/QGIS_resources/blob/master/collections/Geosupportsystem/python/qgis_basemaps.py) or search online.\n",
    "  - [ ] Find XYZ Tiles in browser panel on the left side and right click to add a new connection.\n",
    "  - [ ] Copy and paste [https://cartodb-basemaps-a.global.ssl.fastly.net/light_all/{z}/{x}/{y}.png](https://cartodb-basemaps-a.global.ssl.fastly.net/light_all/{z}/{x}/{y}.png) link to the URL textbox and give any name as you want. Click Ok button.\n",
    "  - [ ] Find the city center of Hamburg on the map and zoom in until the canvas covers only some buildings. Alternatively, at the bottom of the QGIS window you can set the scale to 1:2000 or larger.\n",
    "> TIP: Sometimes you need to zoom in on your area of interest to avoid long loading times or just to make sure that the layer is visible in the area.\n",
    "<div align=\"center\">\n",
    "<img src=\"./images/exr3/qgis_adding_xyz.png\" width=250 height=auto align=\"center\"  style=\"margin:10px;padding:10px;background-color:#dad7cb;\"/>\n",
    "</div>\n",
    "- Check the coordinate system of the active map canvas (map widget in the software). If it is defined as OGC:CRS84, change it to EPSG:4326 Coordinate Reference System (CRS). You will notice some distortion on the map canvas, this is normal because EPSG:4326 (aka WGS84) is a geographic coordinate system, not a projected coordinate system. You may need to use this coordinate system from time to time because it is one of the most widely supported CRS by web services.\n",
    "- Check the type of web services you noted in section 1) and add them considering the type of web services.\n",
    "> TIP: There are multiple ways to check the type of web services. One could be to check the categories or filters available on the SDI website. The other method could be to check the metadata to find the type. Finally, if you segment the request URL, you might see a query parameter like \"service=WMS\" or \"service=WFS\".\n",
    "\n",
    "<div align=\"center\">\n",
    "<img src=\"./images/exr3/qgis_crs.png\" width=250 height=auto align=\"center\" style=\"padding:10px;background-color:#dad7cb;\"/>\n",
    "</div>\n",
    "\n",
    "#### 4a ii) Add WMS Service\n",
    "  - [ ] Go to **Layer > Add Layer > Add WMS/WMTS Layer** in the menu bar.\n",
    "  - [ ] To create a new connection, click the New button and copy & paste the URL you noted in part 1). Click OK and then click the Connect button.\n",
    "  - [ ] Click to any available layer in the service, check the coordinate system and click to Add Button.\n",
    "\n",
    "<div align=\"center\">\n",
    "<img src=\"./images/exr3/qgis_wms.png\" width=250 height=auto align=\"center\" style=\"padding:10px;background-color:#dad7cb;\"/>\n",
    "</div>\n",
    "\n",
    "#### 4a iii) Add WFS Service\n",
    "  > **IMPORTANT NOTE** Some servers provide Complex Data Features with WFS services, which makes it difficult to add these services to GIS software. So, if you notice such a WFS with complex data, avoid adding this service.\n",
    "  - [ ] Go to **Layer > Add Layer > Add WFS / OGC API - Features Layer** in the menu bar. To create a new connection, click the New button and copy and paste the URL you noted in part 1). Specify the \"Max. number of features\" as 200 or less. Click OK and then click the Connect button.\n",
    "  - [ ] Click to any available layer in the service, check the coordinate system and click to Add Button.\n",
    "  - [ ] Select only a few features from the screen or press Ctrl + F6 buttons. Take a glance on existing attributes and values for the features.\n",
    "  > Tip: Sometimes features can be presented as overlapping polygons in the same data service.\n",
    "If you are in doubt about overlapping polygons, simply change the symbology of the layer in the properties window to transparent fill to reveal the overlapping polygons.\n"
   ]
  },
  {
   "cell_type": "markdown",
   "id": "c846bc40-4192-4991-85b2-425b85b6194d",
   "metadata": {},
   "source": [
    "### 4 b) Adding Services to ArcGIS Pro\n",
    "\n",
    "- ArcGIS Pro collects all the data services in the “Servers” section.\n",
    "- [ ] Navigate to Connections > Server > New WMS Server from the Insert tab.      \n",
    "- [ ] Copy & Paste WMS address into “Server URL” text box. Specify user authentication if it is needed.\n",
    "\n",
    "<div align=\"center\">\n",
    "<img src=\"./images/exr3/arcgis_pro_add_connection.png\" width=300 height=auto align=\"center\" style=\"margin:10px;padding:10px;background-color:#dad7cb;\"/>\n",
    "</div>\n",
    "\n",
    "- [ ] If the server has been successfully added, it can be added into map canvas from Add Data menu. Right Click on “Map” in the left Contents pane and select Add Data.\n",
    "- [ ] Go to Servers and find the WMS Server connection set up in the previous step.\n",
    "- [ ] Select the WMS Server and click to Ok.\n",
    "- [ ] Select the layers of interest from the WMS layers tree.\n",
    "- [ ] If the WMS server connection is \"queryable\", you can query features in the WMS layers by clicking directly on them. Zoom in on a specific feature and find the \"Locate\" icon on the Map tab. Then click on the feature.\n",
    "\n",
    "<div align=\"center\">\n",
    "<img src=\"./images/exr3/arcgis_pro_locate.png\" width=300 height=auto align=\"center\" style=\"margin:10px;padding:10px;background-color:#dad7cb;\"/>\n",
    "</div>\n",
    "- You will see feature information in a pop-up window in the right pane. If there are multiple features on the map canvas, you may see multiple WMS layers and multiple feature information windows in the popup.\n",
    "- [ ] Press Ctrl+Alt+M or go to Help > Performance > Diagnostic Monitor to\n",
    "examine the requests send by ArcGIS Pro.\n",
    "- Now you can combine all the layers in your selected GIS software.\n",
    "- You can now manually inspect land parcels and buildings that intersect flood zones.\n",
    "- This point can be considered as an outline of a Disaster Management Application apart from the need for\n",
    "automation.\n",
    "\n",
    "<div align=\"center\">\n",
    "<img src=\"./images/exr3/arcgis_pro_wms_added.png\" width=300 height=auto align=\"center\" style=\"margin:10px;padding:10px;background-color:#dad7cb;\"/>\n",
    "</div>"
   ]
  },
  {
   "cell_type": "markdown",
   "id": "48bab69d-7d4b-4fe9-ba6f-26dfa67140f6",
   "metadata": {},
   "source": [
    "### 4 c) Adding a WMS Service in FME\n",
    "\n",
    "- There are multiple ways to use web services in FME. One of the simplest is to use the WMS as a background map in the “Visual Preview” window/widget.\n",
    "\n",
    "#### 4c i) Adding a WMS Service to FME as Background Map\n",
    "\n",
    "- [ ] To use a WMS layer as a background map, find “FME Options” in the menu under Tools. Select the “Background Maps” tab.\n",
    "- [ ] Visit the website [geoservice.dlr.de](https://geoservice.dlr.de) and search for the service called “TanDEM-X 30m DEM”. Find the endpoint (WMS URL of the service) of one of the Hillshade layers in the service.\n",
    "- [ ] Go back to FME and click on the plus icon (+) at the bottom left in the Background Maps window.\n",
    "\n",
    "<div align=\"center\">\n",
    "<img src=\"./images/exr3/fme_fme_options.png\" width=300 height=auto align=\"center\" style=\"margin:10px;padding:10px;background-color:#dad7cb;\"/>\n",
    "</div>\n",
    "\n",
    "- [ ] Select “OGC WMS (Web Map Service)” from the “Source” menu.\n",
    "- [ ] Enter any custom name for the web service.\n",
    "- [ ] Copy and paste the WMS URL (endpoint) of the selected layer into the “URL” text box in the \"WMS Connection\" group.\n",
    "- [ ] Click the three dots (...) button next to the “Layers” text box and select the shorten name of the desired layer.\n",
    "- [ ] If everything went well, you will be able to select the background map as the selected WMS service.\n",
    "\n",
    "<div align=\"center\">\n",
    "<img src=\"./images/exr3/fme_background_map.png\" width=300 height=auto align=\"center\" style=\"margin:10px;padding:10px;background-color:#dad7cb;\"/>\n",
    "</div>\n",
    "\n"
   ]
  },
  {
   "cell_type": "markdown",
   "id": "4d595b7d-a174-48b4-8d32-6d14ef900780",
   "metadata": {},
   "source": [
    "#### 4c ii) Adding a WMS Service to FME as Reader\n",
    "\n",
    "- You can also add the WMS service as a data source (Reader) in FME. This procedure can be useful for tasks related to raster images.\n",
    "  - To do that, just type \"OGC WMS\" in an empty area on the main pane of FME Workbench. \n",
    "- “PointOnRasterValueExtractor” can be one of the useful transformers that can select the band color value of a raster image using point coordinates.\n",
    "\n",
    "<div align=\"center\">\n",
    "<img src=\"./images/exr3/fme_tandex_featureinfo.png\" width=200 height=auto align=\"center\" style=\"margin:10px;padding:10px;background-color:#dad7cb;\"/>\n",
    "</div>\n",
    "\n",
    "#### 4c iii) Using GetFeatureInfo request in FME (Optional Step)\n",
    "\n",
    "- Since, the service operation \"GetFeatureInfo\" is not a mandatory in the WMS satndard, there is no a built-in tool to do use it. (You can search in the [Community Hub](https://hub.safe.com/) for such a function)\n",
    "- [ ] If you need to implement such a function in FME, then you might be interested with the following tutorial video:\n",
    "  - [youtube.com/watch?v=kNeMNr2fAtM](https://www.youtube.com/watch?v=kNeMNr2fAtM)"
   ]
  },
  {
   "cell_type": "markdown",
   "id": "6e05ef28-978f-4039-a370-4e9a54cd3994",
   "metadata": {},
   "source": [
    "## 5) Accessing WMS services with OWSLib Python Library\n",
    "OWSLib is one of the OGC compliant web service client and it supports OGC interface standards.\n",
    "Before using the OWSLib consider the following steps:\n",
    "- If you are on working in online environment, please install OWSLib to your current python environment using : **pip install OWSLib**\n",
    "- Then you need to import the OWSLib library into your code.\n",
    "- Check the following site to get more information about the OWSLib:\n",
    "  - [https://owslib.readthedocs.io/en/latest/](https://owslib.readthedocs.io/en/latest/) "
   ]
  },
  {
   "cell_type": "code",
   "execution_count": null,
   "id": "42101ca0-7dce-413b-8220-9196563ded7c",
   "metadata": {},
   "outputs": [],
   "source": [
    "import owslib"
   ]
  },
  {
   "cell_type": "markdown",
   "id": "90b995b8-084e-4e1e-a43c-158fb94cc34d",
   "metadata": {},
   "source": [
    "- [ ] Check available contents (packages + classes) in the library with following code:\n",
    "```help(owslib)```\n",
    "\n",
    "You can specify a class or package to reduce the loaded library content in your code.\n",
    "There are multiple ways to do so:\n",
    "- First Option: ```from owslib import wms```\n",
    "  - Imports only wms module from owslib package\n",
    "  - Type: ```help(wms)```\n",
    "- Second Option: ```import owslib.wms```\n",
    "  - Again, it calls only wms module from owslib package\n",
    "  - Type: ```help(owslib.wms)```\n",
    "- Another option to import only the relevant function: ```from owslib.wms import WebMapService as any_shorten_form```\n",
    "  - Imports only WebMapService function in the wms module and assigns a custom alias to it.\n",
    "  - Type: ```help(any_shorten_form)```"
   ]
  },
  {
   "cell_type": "markdown",
   "id": "33dc9648-a62a-492e-8515-fecfb7df1be5",
   "metadata": {},
   "source": [
    "### 5 a) Examine a WMS service with OWSLib\n",
    "Select any Web Map Service (WMS) from your previous work, or select a random WMS that covers the city of Hamburg in whole or in part. (If you want to add a random WMS, revisit the [Hamburg TransparenzPortal](https://transparenz.hamburg.de) or [geoportal.de](https://geoportal.de) or [INSPIRE Geoportal](https://inspire-geoportal.ec.europa.eu) websites to search for the appropriate web service.)"
   ]
  },
  {
   "cell_type": "code",
   "execution_count": 5,
   "id": "32e28d95-2ba8-4600-992b-0f6090677f72",
   "metadata": {},
   "outputs": [],
   "source": [
    "# Decide a way to import the library. \n",
    "from owslib.wms import WebMapService as wms\n",
    "# help(mywms)"
   ]
  },
  {
   "cell_type": "markdown",
   "id": "b9182c25-d499-4745-9029-52201f752753",
   "metadata": {},
   "source": [
    "If you type help(mywms), you will see an explanation of the function as below.\n",
    "  \n",
    "  WebMapService(**url**, version='1.1.1', xml=None, username=None, ...)\n",
    "\n",
    "Notice that only \"url\" parameter is not assigned to a value. This means that the only mandatory parameter is the \"url\" and all other parameters will be accepted with their default values unless their values are specified.\n",
    "\n",
    "- [ ] Now, test your selected WMS with the imported WebMapService function."
   ]
  },
  {
   "cell_type": "code",
   "execution_count": 6,
   "id": "68c215ee-f63b-4556-8f27-7e36db0aa599",
   "metadata": {},
   "outputs": [],
   "source": [
    "# mytest = mywms('https://geodienste.hamburg.de/HH_WMS_DGM1')\n",
    "# The website serves the metadata of the WMS highlights that\n",
    "# the recommended version is \"1.3.0\". So we can specify that:\n",
    "mytest = wms('https://geodienste.hamburg.de/HH_WMS_DGM1', version='1.3.0')"
   ]
  },
  {
   "cell_type": "markdown",
   "id": "88160cdb-4937-4a68-9bf1-d9f430ad0464",
   "metadata": {},
   "source": [
    "- [ ] Now, you can use \"the built-in functions\" to know more about the returned object:\n",
    "```print(mytest)``` / ```type(mytest)``` / ```help(mytest)``` / ```dir(mytest)```\n",
    "If you are sure about the data is an iterable object (tuple, set, list, dictionary) then you can use also \"list\" function."
   ]
  },
  {
   "cell_type": "code",
   "execution_count": 4,
   "id": "c36872fe-101a-4e0f-aa2e-55e648ce49a8",
   "metadata": {},
   "outputs": [
    {
     "data": {
      "text/plain": [
       "['HH_WMS_DGM1', 'WMS_DGM1_HAMBURG', 'WMS_DGM1_farbig', 'WMS_DGM1_farbig_10000']"
      ]
     },
     "execution_count": 4,
     "metadata": {},
     "output_type": "execute_result"
    }
   ],
   "source": [
    "list(mytest.contents)\n",
    "# Alternatively: print(mytest.contents.keys())"
   ]
  },
  {
   "cell_type": "markdown",
   "id": "e8549479-03d6-4504-857a-cdacfa3ac127",
   "metadata": {},
   "source": [
    "- [ ] Check the available methods by typing dir(mytest).\n",
    "  - You may notice the \"operations\" method in the list."
   ]
  },
  {
   "cell_type": "code",
   "execution_count": 5,
   "id": "8c53b7ba-b614-4a10-baaa-f0d9f71206dd",
   "metadata": {},
   "outputs": [
    {
     "data": {
      "text/plain": [
       "[<owslib.map.wms130.OperationMetadata at 0x702a34394ad0>,\n",
       " <owslib.map.wms130.OperationMetadata at 0x702a34396de0>,\n",
       " <owslib.map.wms130.OperationMetadata at 0x702a34394290>,\n",
       " <owslib.map.wms130.OperationMetadata at 0x702a34394230>,\n",
       " <owslib.map.wms130.OperationMetadata at 0x702a343941d0>,\n",
       " <owslib.map.wms130.OperationMetadata at 0x702a343943b0>]"
      ]
     },
     "execution_count": 5,
     "metadata": {},
     "output_type": "execute_result"
    }
   ],
   "source": [
    "list(mytest.operations)"
   ]
  },
  {
   "cell_type": "markdown",
   "id": "2313eb71-9bc7-48b9-a55c-9e67876cfb4f",
   "metadata": {},
   "source": [
    "- [ ] As operations stored as objects in a list (array), we can access them using list index (For Exp. mylist[0]). Then you can check the available methods or attributes in the class instance by typing ```dir(mytest.operations[0])```. "
   ]
  },
  {
   "cell_type": "code",
   "execution_count": 6,
   "id": "1b4e0e29-b241-47c0-a78f-1860920b4608",
   "metadata": {},
   "outputs": [
    {
     "name": "stdout",
     "output_type": "stream",
     "text": [
      "GetCapabilities\n",
      "GetMap\n",
      "GetFeatureInfo\n",
      "DescribeLayer\n",
      "GetLegendGraphic\n",
      "GetStyles\n"
     ]
    }
   ],
   "source": [
    "for x in mytest.operations:\n",
    "    print(x.name)"
   ]
  },
  {
   "cell_type": "markdown",
   "id": "78ae9923-3d88-420e-b0c1-25d457f19093",
   "metadata": {},
   "source": [
    "- Alternatively, you can inspect the webservice using the \"getServiceXML\" method. Please note that the result will be returned as a binary file in XML format. This means that you have to consider the binary format if you want to store or read the returned object as a file. For example, we specified the file mode as \"wb\" (Write + Binary) in the following code, because the object \"mytest.getServiceXML()\" was in bytes format, not a string. "
   ]
  },
  {
   "cell_type": "code",
   "execution_count": 7,
   "id": "133eecb2-738c-4441-abb9-85e87bc27066",
   "metadata": {},
   "outputs": [],
   "source": [
    "# type(mytest.getServiceXML())\n",
    "# Specify your own relative or full path to save the XML file, if it is required.\n",
    "with open(\"responses/exr3/my_wms_servicexml.xml\", \"wb\") as my_wms_xml:\n",
    "        my_wms_xml.write(mytest.getServiceXML())"
   ]
  },
  {
   "cell_type": "markdown",
   "id": "48216512-0ab6-4b31-ac2f-f59cd9052607",
   "metadata": {},
   "source": [
    "- Check the saved XML file and try to find where the layers, bounding boxes or coordinate reference systems (CRSs) are defined.\n",
    "<blockquote style=\"background-color:ivory;\"> Reminder: Firefox and Google Chrome browsers have some extensions to visiualize XML files in a \"pretty\" way. Otherwise you can open the XML file with your favorite text editor and search for a \"pretty print\" solution. (For Example: XMLTools extension is available in the Notepad++ plugin repository.)\n",
    "</blockquote>\n",
    "\n",
    "- You can also send queries to get single images with predefined properties. To do that, you may need to expose more informaiton about the WMS service using following commands:"
   ]
  },
  {
   "cell_type": "code",
   "execution_count": 11,
   "id": "0016883d-115d-4305-a6f4-32bed3d28880",
   "metadata": {},
   "outputs": [
    {
     "name": "stdout",
     "output_type": "stream",
     "text": [
      "CRS Options :  ['EPSG:25832', 'EPSG:3857', 'EPSG:4258', 'CRS:84', 'EPSG:3044', 'EPSG:25833', 'EPSG:4326', 'EPSG:31467', 'EPSG:4647'] \n",
      "\n",
      "Bounding Box :  (8.482047, 53.385591, 10.355638, 53.941383) \n",
      "\n",
      "Layer Style :  {'default': {'title': 'default', 'legend': 'https://geodienste.hamburg.de/HH_WMS_DGM1?language=ger&version=1.3.0&service=WMS&request=GetLegendGraphic&sld_version=1.1.0&layer=WMS_DGM1_HAMBURG&format=image/png&STYLE=default', 'legend_width': '298', 'legend_height': '865', 'legend_format': 'image/png'}} \n",
      "\n",
      "Supported Formats :  ['image/png', 'image/jpeg', 'image/png; mode=8bit', 'image/vnd.jpeg-png', 'image/vnd.jpeg-png8', 'application/x-pdf', 'image/svg+xml', 'image/tiff', 'application/vnd.google-earth.kml+xml', 'application/vnd.google-earth.kmz', 'application/vnd.mapbox-vector-tile', 'application/x-protobuf', 'application/json']\n"
     ]
    }
   ],
   "source": [
    "print('CRS Options : ',mytest['WMS_DGM1_HAMBURG'].crsOptions, '\\n')\n",
    "print('Bounding Box : ', mytest['WMS_DGM1_HAMBURG'].boundingBox, '\\n')\n",
    "print('Layer Style : ', mytest['WMS_DGM1_HAMBURG'].styles, '\\n')\n",
    "print('Supported Formats : ', mytest.getOperationByName('GetMap').formatOptions)"
   ]
  },
  {
   "cell_type": "markdown",
   "id": "44c4579f-c8fd-418d-b71a-216a1ddac1fc",
   "metadata": {},
   "source": [
    "- So, you are aware of capability of the WMS service and you can use this data to get data from the server:\n",
    "<blockquote style=\"background-color:ivory\"><b>Note</b>: Note that if you are using a different WMS service, you need to change the parameters given in the next example.</blockquote>"
   ]
  },
  {
   "cell_type": "code",
   "execution_count": 12,
   "id": "053801fc-1826-4c43-bbf2-90494e700ec5",
   "metadata": {},
   "outputs": [
    {
     "data": {
      "image/jpeg": "[encoded data removed]",
      "text/plain": [
       "<IPython.core.display.Image object>"
      ]
     },
     "execution_count": 12,
     "metadata": {},
     "output_type": "execute_result"
    }
   ],
   "source": [
    "from IPython.display import Image\n",
    "\n",
    "img = mytest.getmap(\n",
    "    layers=['WMS_DGM1_HAMBURG'],\n",
    "    size=[300, 300],\n",
    "    srs=\"EPSG:4326\",\n",
    "    bbox=[9.5, 53.4, 10, 53.7],\n",
    "    format=\"image/jpeg\")\n",
    "\n",
    "Image(img.read())"
   ]
  },
  {
   "cell_type": "markdown",
   "id": "c3eb608e-7702-43a8-9114-f82272ef1abf",
   "metadata": {},
   "source": [
    "## 6) Using ipyleaflet to show the web services\n",
    "\n",
    "ipyleaflet is a Jupyter / Leaflet bridge enabling interactive maps in the Jupyter notebook."
   ]
  },
  {
   "cell_type": "code",
   "execution_count": 3,
   "id": "88247492-863e-4ea3-90cf-6721e3cd3cf1",
   "metadata": {},
   "outputs": [
    {
     "data": {
      "application/vnd.jupyter.widget-view+json": {
       "model_id": "f726629d811b46e1aa03a7a4b4fe452b",
       "version_major": 2,
       "version_minor": 0
      },
      "text/plain": [
       "Map(center=[53.5452, 9.9777], controls=(ZoomControl(options=['position', 'zoom_in_text', 'zoom_in_title', 'zoo…"
      ]
     },
     "metadata": {},
     "output_type": "display_data"
    }
   ],
   "source": [
    "from ipyleaflet import Map, Marker\n",
    "\n",
    "# Add a center point to your map using latitude, longitude values\n",
    "my_center = (53.5452, 9.9777)\n",
    "\n",
    "# Add a map object by specifying a zoom level and using the center point\n",
    "my_map = Map(center=my_center, zoom=10)\n",
    "\n",
    "# Define a marker object using the defined center point\n",
    "my_marker = Marker(location=my_center)\n",
    "\n",
    "# Add the marker object to the map\n",
    "my_map.add(my_marker);\n",
    "\n",
    "display(my_map)"
   ]
  },
  {
   "cell_type": "markdown",
   "id": "c15ca3d7-e2a1-4b67-98d0-dc83c9e26107",
   "metadata": {},
   "source": [
    "### Add a WMS layer into the leaflet map"
   ]
  },
  {
   "cell_type": "code",
   "execution_count": 34,
   "id": "1d1aab33-bdfa-4e24-8e49-77944b2d327c",
   "metadata": {},
   "outputs": [
    {
     "data": {
      "application/vnd.jupyter.widget-view+json": {
       "model_id": "a96058146457471487f6872cc9a828f4",
       "version_major": 2,
       "version_minor": 0
      },
      "text/plain": [
       "Map(center=[53.5452, 9.9777], controls=(ZoomControl(options=['position', 'zoom_in_text', 'zoom_in_title', 'zoo…"
      ]
     },
     "metadata": {},
     "output_type": "display_data"
    }
   ],
   "source": [
    "from ipyleaflet import Map, Marker, WMSLayer, basemaps\n",
    "\n",
    "\n",
    "# Add one of the WMS service that you found in the sections above.\n",
    "my_wms = WMSLayer(\n",
    "    url=mytest.url,\n",
    "    layers='WMS_DGM1_HAMBURG', # Check mytest.contents\n",
    "    format='image/png', #Check mytest.getOperationByName('GetMap').formatOptions\n",
    "    transparent=True, # Check the value for mytest['WMS_DGM1_HAMBURG'].opaque\n",
    ")\n",
    "\n",
    "my_center = (53.5452, 9.9777)\n",
    "\n",
    "# Change the following assignment to add a simple basemap for a better visualization\n",
    "my_map = Map(basemap=basemaps.CartoDB.Positron, center=my_center, zoom=10)\n",
    "\n",
    "my_marker = Marker(location=my_center)\n",
    "\n",
    "# Add the WMS service into the map\n",
    "my_map.add(my_wms)\n",
    "my_map.add(my_marker);\n",
    "\n",
    "\n",
    "display(my_map)"
   ]
  },
  {
   "cell_type": "markdown",
   "id": "db154871-7ed1-412f-9979-c11938dff6de",
   "metadata": {},
   "source": [
    "### Add a GeoJSON data into the leaflet map using a OGC API - Features connection"
   ]
  },
  {
   "cell_type": "code",
   "execution_count": 66,
   "id": "676d7277-9d6c-447d-b807-a4c43f05e04c",
   "metadata": {},
   "outputs": [
    {
     "data": {
      "application/vnd.jupyter.widget-view+json": {
       "model_id": "e9cc842fe30e4ffc83163d2a081b6222",
       "version_major": 2,
       "version_minor": 0
      },
      "text/plain": [
       "Map(center=[53.5452, 9.9777], controls=(ZoomControl(options=['position', 'zoom_in_text', 'zoom_in_title', 'zoo…"
      ]
     },
     "metadata": {},
     "output_type": "display_data"
    }
   ],
   "source": [
    "from ipyleaflet import Map, Marker, basemaps, GeoJSON\n",
    "\n",
    "# Add \"OGC API - Features\" class of the OWSLib\n",
    "# Alternative Solution: Use requests library to get data directly.\n",
    "from owslib.ogcapi.features import Features\n",
    "\n",
    "# Add json library to convert dictionaries to json\n",
    "import json\n",
    "\n",
    "my_api = Features('https://api.hamburg.de/datasets/v1/solarpotenzialanalyse/')\n",
    "\n",
    "# Check following methods or attributes supported by OWSLib:\n",
    "# my_api.collections, my_api.collection_queryables, my_api.collection_items\n",
    "my_items = my_api.collection_items('gebaeude', bbox=[9.9767,53.5442,9.9787,53.5462], limit=100 )\n",
    "\n",
    "my_json = json.dumps(my_items)\n",
    "\n",
    "# Write the request as a json file, preferably with \".geojson\" file extension.\n",
    "with open('responses/exr3/my_api.geojson', 'w') as f:\n",
    "    f.write(my_json)\n",
    "\n",
    "# Check the file and read as geojson to laod into map\n",
    "with open('responses/exr3/my_api.geojson', 'r') as f:\n",
    "    my_data = json.load(f)\n",
    "\n",
    "# Specify some styles to the geojson data:\n",
    "my_geojson = GeoJSON(\n",
    "    data=my_data,\n",
    "    style={\n",
    "        'opacity': 1, 'dashArray': '9', 'fillOpacity': 0.1, 'weight': 1, 'color': 'red'\n",
    "    }\n",
    ")\n",
    "\n",
    "my_center = (53.5452, 9.9777)\n",
    "\n",
    "# Increase the zoom level to not overload the \"Features\" request\n",
    "my_map = Map(basemap=basemaps.CartoDB.Positron, center=my_center, zoom=15)\n",
    "\n",
    "my_marker = Marker(location=my_center)\n",
    "\n",
    "# Add the geojson file into the map\n",
    "my_map.add(my_geojson);\n",
    "\n",
    "my_map.add(my_marker);\n",
    "\n",
    "\n",
    "display(my_map)"
   ]
  }
 ],
 "metadata": {
  "CodeCellConfig": {
   "lineWrapping": true
  },
  "MarkdownCellConfig": {
   "lineWrapping": true
  },
  "authors": [
   {
    "name": "Murat Kendir"
   },
   {
    "name": "Prof. Thomas Kolbe"
   }
  ],
  "kernelspec": {
   "display_name": "Python 3 (ipykernel)",
   "language": "python",
   "name": "python3"
  },
  "language_info": {
   "codemirror_mode": {
    "name": "ipython",
    "version": 3
   },
   "file_extension": ".py",
   "mimetype": "text/x-python",
   "name": "python",
   "nbconvert_exporter": "python",
   "pygments_lexer": "ipython3",
   "version": "3.12.3"
  },
  "title": "Spatial Data Infrastructures (SDI)"
 },
 "nbformat": 4,
 "nbformat_minor": 5
}
