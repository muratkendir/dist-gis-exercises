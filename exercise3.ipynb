{
 "cells": [
  {
   "cell_type": "markdown",
   "id": "fe3ce17c",
   "metadata": {
    "editable": true,
    "slideshow": {
     "slide_type": ""
    },
    "tags": []
   },
   "source": [
    "#  Spatial Data Infrastructures (SDI)"
   ]
  },
  {
   "cell_type": "markdown",
   "id": "40c5ff5e-c166-4c71-a03e-3c3102291636",
   "metadata": {
    "editable": true,
    "slideshow": {
     "slide_type": ""
    },
    "tags": []
   },
   "source": [
    "<img align=\"right\" width=100 height=190 src=\"./images/TUM_Logo_blau_rgb_p.png\"/>\n",
    "<blockquote>\n",
    "Munich Technical University || School of Engineering & Design || Aerospace & Geodesy || Chair of Geoinformatics </br>\n",
    "Murat Kendir, Prof. Thomas Kolbe || murat.kendir@tum.de\n",
    "</blockquote>"
   ]
  },
  {
   "cell_type": "markdown",
   "id": "9a3a25c2",
   "metadata": {
    "editable": true,
    "slideshow": {
     "slide_type": ""
    },
    "tags": []
   },
   "source": [
    "- In the previous exercise we explored the python programming language and tried to create a simple application to request geospatial data using the requests library.\n",
    "- In this tutorial, you will learn how to search for a geospatial dataset using different levels (regional, city scale, etc.) of “Spatial Data Infrastructures” (SDIs). \n",
    "  - You will explore multiple SDI websites that provide some geospatial datasets in different formats or as different types of web services.\n",
    "  - You will then learn how to combine and represent these datasets in popular GIS platforms such as QGIS and ArcGIS Pro.\n",
    "  - Finally, you will create a small python application that connects and utilizes the selected geospatial data for a specific purpose."
   ]
  },
  {
   "cell_type": "markdown",
   "id": "df99baf1-4e6a-4403-832a-b720c77ee013",
   "metadata": {},
   "source": [
    "## 0) Reminders\n",
    "\n",
    "### What we have learned in the previous exercise?\n",
    "\n",
    "- A python program can be executed simply by calling it with the python **interpreter** by simply typing ```python my_first_python_program.py```. \n",
    "- Python uses **indentation** to highlight the blocks of code.\n",
    "- Python applications can be run in **virtual environments** with all necessary libraries pre-installed.\n",
    "- Python have many **libraries** to support main applications with predefined classes, functions and data types (e.g. os, json, requests etc) and they can be implemented with **import** command.\n",
    "- **```if / elif / else```** is a conditonal statement.\n",
    "- **```for x in array```** creates a sequence to iterate in an array-like (iterative) object.\n",
    "- There are useful built-in functions (which you can list all with ```dir(__builtins__)```) to investigate an object in python such as **type, dir, help, print, vars**.\n",
    "- A function can be set with the **def** (stands for DEFinition) command and mandatory and optional parameters can be specified in parentheses. For example: ```def save_somebody(name, surname, species=\"Homo Sapiens\"):```\n",
    "- A file can be manipulated by specifiying file path and file permission. For example: ```with open(\"current_folder/relative_file_path.txt\", \"w\") as myfile:```\n",
    "- A python **dictionary** is a bit different from a **JSON** object and they can be converted to eachother with json.load(s) and json.dump(s) functions of json library.\n",
    "- A questionnaire can be set with **```input(\"Enter a custom name\")```** function."
   ]
  },
  {
   "cell_type": "markdown",
   "id": "90aa547f-d5a1-4a4e-909d-b20e6a757e3f",
   "metadata": {},
   "source": [
    "## 1) Finding the datasets\n",
    "<figure style=\"float:right;width:282px;padding:10px;background-color:#dad7cb;\">\n",
    "    <img src=\"./images/exr3/hamburg_1962.jpg\" width=282 height=200/>\n",
    "    <figcaption>During the catastrophic flood of 1962, boats were used to rescue Hamburg residents from flooded buildings.\n",
    "            <a href=\"https://www.bloomberg.com/news/features/2023-11-20/the-design-history-of-london-s-mansion-block-apartment-buildings\"> Source</a>\n",
    "    </figcaption>\n",
    "</figure>\n",
    "Global Sea Level is rising at an increasing rate every year, causing floods to occur more frequently all over the world. This forces local (or regional) governments to take measures against future floods. <b>Suppose you are responsible for preparing a disaster management application in Hamburg.</b> This application will calculate the flood risk for a specific building and generate a report with information on the extent of the risk and the relevant land parcel number. For this purpose, you need to find the most suitable geographic data services using the <a href=\"https://inspire-geoportal.ec.europa.eu\">INSPIRE Geoportal</a>, <a href=\"https://geoportal.de\">geoportal.de</a> and <a href=\"https://transparenz.hamburg.de\">Hamburg TransparenzPortal</a>. Imagine that these datasets should contain the following data layers: \n",
    "<ul>\n",
    "    <li>Buildings footprints (DE: Gebeaude Grundstücke) | (will be searched for in the Section 3a)</li>\n",
    "    <li>Land Parcels (DE: Flurstück)</li>\n",
    "    <li>Digital Elevation Model / DEM (DE: Höhenmodell / DHM)</li>\n",
    "    <li>Flood Risk Zones (DE: Hochwasserrisikos)</li>\n",
    "</ul>"
   ]
  },
  {
   "cell_type": "markdown",
   "id": "e8a3c563-25a0-4bd9-8186-7b554ec5eda3",
   "metadata": {},
   "source": [
    "## 2 a) A short preparation - Creating a \"Service Selection Tool\"\n",
    "Before you start examining the given Spatial Data Infrastructures (SDIs), you will set up a function in python that makes it easy to store the names, links and additional information of the services."
   ]
  },
  {
   "cell_type": "code",
   "execution_count": 16,
   "id": "cbad39bc-dbf3-44c8-9066-a215786852f2",
   "metadata": {},
   "outputs": [],
   "source": [
    "# In Python, there is no need to specify the variable data type.\n",
    "# However, you can still use type conversion methods or shortcuts to specify the data type.\n",
    "# For Exp. '{}' is a shortcut to create a python dictionary.\n",
    "\n",
    "#Create an empty dictionary.\n",
    "my_services = {} \n",
    "\n",
    "# !Remember the role of identation in python.\n",
    "def add_to_store(service_id, name, url, wms_url):\n",
    "# Here, you set a complex data in python dictionary data type.\n",
    "    my_services[service_id] = { \"name\" : name\n",
    "        , \"url\" : url\n",
    "        , \"WMS_URL\" : wms_url}\n",
    "    print(my_services)\n",
    "\n",
    "#Extras for checking the dictionary data type and result of the function:\n",
    "# type(my_services)\n",
    "# help(my_services)\n",
    "# add_to_store(\"service_1\", \"my_fav\", \"https://sdi.com\", \"https://wms.sdi.com/my_city?\")\n",
    "# print(my_services.get(\"service_1\"))\n",
    "# my_services.clear()\n",
    "# print(my_services.get(\"service_1\"))\n"
   ]
  },
  {
   "cell_type": "markdown",
   "id": "4ef6f30e-e9c6-4601-b620-c176d1f8a237",
   "metadata": {},
   "source": [
    "<blockquote style=\"background-color:ivory;\"> TIP : You may have noticed that the square brackets <b>[ ]</b> we use to set a new item in the dictionary are\n",
    "also a shortcut. You can also find this information in related hidden functions like <b>__getitem__()</b> or\n",
    "<b>__setitem__()</b>. Type <i><b>dir(my_services)</i></b> or <i><b>dir(dict())</i></b> to reveal them.</blockquote>"
   ]
  },
  {
   "cell_type": "markdown",
   "id": "b5039b44-ef68-4e45-8226-560883880c3b",
   "metadata": {},
   "source": [
    "Now, suppose that you want to use the function in an interactive way to let other users also add the found services into the dictionary.\n",
    "To do that, we can implement another function which runs an input command for every instance in the dictionary:"
   ]
  },
  {
   "cell_type": "code",
   "execution_count": 40,
   "id": "3804e1e8-6c5a-42b1-89a0-e9fe50e8eea3",
   "metadata": {},
   "outputs": [],
   "source": [
    "# You can now define another function to interactively ask and store the knowledge data in your dictionary.\n",
    "\n",
    "keys = [\"name\", \"Url of SDI\", \"URL of WMS Service\"]\n",
    "\n",
    "my_services = {}\n",
    "\n",
    "# Following line adds only the keys defined above. \n",
    "# These kind of inline functions called as comprehensions in Python.\n",
    "my_services[0] = {key: None for key in keys}\n",
    "# print(my_services) \n",
    "\n",
    "def add_to_store(service_id, name, sdi_url, wms_url):\n",
    "    # Here, you set a complex data in python dictionary data type.\n",
    "    my_services[service_id] = { keys[0] : name, keys[1] : sdi_url , keys[2] : wms_url}\n",
    "    print(my_services)\n",
    "\n",
    "def found_service():\n",
    "    service_id = input(\"Give an ID (number or unique value)...\")\n",
    "    service_data = [] # Created a list to save the values temporarily\n",
    "    for i in range(3): # Meet another object here: range\n",
    "        questionnaire = \"Please specify the \" + keys[i]\n",
    "        service_data.append(input(questionnaire))\n",
    "        i+=1\n",
    "    #Note that a list index is very similar to range, but always starts from 0.\n",
    "    add_to_store(service_id, service_data[0], service_data[1], service_data[2])\n",
    "\n",
    "# found_service()\n",
    "# my_services.clear()"
   ]
  },
  {
   "cell_type": "markdown",
   "id": "51353264-048f-4ea4-a0a5-758a656af382",
   "metadata": {},
   "source": [
    "- [ ] **Save the code** above as \"service_selection.py\" into \"/raw_codes/exr3\" directory."
   ]
  },
  {
   "cell_type": "markdown",
   "id": "36e303fa-5ea3-40e4-bd88-094ddbd3276d",
   "metadata": {},
   "source": [
    "## 2 b) Use the created program in another python program\n",
    "\n",
    "- [ ] Check if the file exists in the \"/raw_codes/exr3\" folder.\n",
    "- [ ] Start a new code and import the functions and variables defined in the previously created python file."
   ]
  },
  {
   "cell_type": "code",
   "execution_count": 52,
   "id": "eb3aea61-fcba-4eaf-887e-f83a597dc7da",
   "metadata": {},
   "outputs": [],
   "source": [
    "# When you save a python file contains classes, functions and variables into another folder\n",
    "# , this folder with its contents can be called as a \"python module\".\n",
    "\n",
    "# Note that importing a module is enough to access to the functions and variables.\n",
    "# The contents of the modules are only accessible with dot (.) operator.\n",
    "\n",
    "# Method 1\n",
    "from raw_codes.exr3 import service_selection as srv\n",
    "#print(srv.keys)\n",
    "\n",
    "# Method 2\n",
    "# from raw_codes.exr3.service_selection import keys, my_services, add_to_store, found_service\n",
    "# print(keys)\n",
    "\n",
    "# Now you can call your program to save the data about the found geospatial services:\n",
    "# srv.found_service() \n",
    "# srv.my_services.clear()"
   ]
  },
  {
   "cell_type": "markdown",
   "id": "c2d3dd1a-6ac6-4d24-8a61-ea4f94080ca3",
   "metadata": {},
   "source": [
    "<blockquote style=\"background-color:ivory;\"> TIP : You may notice that importing a library into existing python code is very similar to importing an additional python program. This is so because the import command looks for multiple sources in a order. First it tries to find a python file, then it looks for the corresponding python file in the directories defined as the PYTHONPATH environment variable. To see the defined paths in your system import the library <b>sys</b> and print out <b>sys.path</b> object.</blockquote>"
   ]
  },
  {
   "cell_type": "markdown",
   "id": "7d0910d8-43d7-4bba-bfef-88c6847d79b0",
   "metadata": {},
   "source": [
    "### 3 a) Building Footprints (Grundstück)\n",
    "\n",
    "<img src=\"./images/exr3/grundstuecke_service.png\" width=250 height=250 align=\"right\" style=\"margin:10px;padding:10px;background-color:#dad7cb;\"/>\n",
    "\n",
    "Visit the web site [Hamburg TransparenzPortal](https://transparenz.hamburg.de) and search for the **building footprints** available for Hamburg city. Try to search with following possible words / tags:\n",
    "- Administrative Unit (Verwaltungseinheiten) \n",
    "- House Coordinates (Hauskoordinaten) \n",
    "- ALKIS \n",
    "- Land Parcel (Flurstück) \n",
    "- Building (Gebaeude)\n",
    "\n",
    "\n",
    "Explore possible answers to the following questions:\n",
    "- [ ] Which one is the correct data for your purpose?\n",
    "- [ ] What kind of data it is? Is it a web service or static file?\n",
    "- [ ] How current is the data you find?\n",
    "- [ ] Where is the metadata of the service or file?\n",
    "\n",
    "Finally: \n",
    "- [ ] If you think you have found a web service that suits your purpose, run the “**found_service()**” function in the code (created in section 2b) and save the relevant information."
   ]
  },
  {
   "cell_type": "markdown",
   "id": "ad77367c-784a-42e9-9f80-8f71b705b93a",
   "metadata": {},
   "source": [
    "### 3 b) Land Parcels (Flurstücke)\n",
    "\n",
    "<img src=\"./images/exr3/flurstuecke_service.png\" width=250 height=250 align=\"right\" style=\"margin:10px;padding:10px;background-color:#dad7cb;\"/>\n",
    "\n",
    "Visit the web site [geoportal.de](https://geoportal.de) and search for the **land parcels** available for Hamburg city. \n",
    "> TIP: If you can not find the land parcels for the Hamburg city try adding \"HH\" to your keywords. \"HH\" is the city code for Hamburg used on license plates and it is possible to find relevant datasets using these codes. More information can be found on this [site](https://en.wikipedia.org/wiki/Vehicle_registration_plates_of_Germany).\n",
    "\n",
    "Find the metadata of the dataset and explore possible answers to the following questions:\n",
    "- [ ] What is the base coordinate system for land parcels according to the metadata?\n",
    "- [ ] Who or which organization is responsible for the dataset?\n",
    "\n",
    "Find the XML responses of WMS or WFS services to the \"GetCapabilities\" operation and explore possible answers to the following questions:\n",
    "- [ ] Is the service response from the same domain? (Check the URL)\n",
    "- [ ] Are multiple coordinate systems supported for publishing?\n",
    "- [ ] How many layers does a selected web service consists of?\n",
    "- [ ] Can the layers be used for querying?\n",
    "- [ ] What other possible operations can be requested besides \"GetCapabilities\"?\n",
    "\n",
    "Finally: \n",
    "- [ ] If you think you have found a web service that suits your purpose, run the “**found_service()**” function."
   ]
  },
  {
   "cell_type": "markdown",
   "id": "c4b41fc1-96f8-49d5-968d-1fb1dd2220ae",
   "metadata": {},
   "source": [
    "### 3 c) Digital Elevation Model / DEM (Höhenmodell)\n",
    "\n",
    "<img src=\"./images/exr3/hohemodell_service.png\" width=250 height=250 align=\"right\" style=\"margin:10px;padding:10px;background-color:#dad7cb;\"/>\n",
    "\n",
    "Visit the web site [INSPIRE Geoportal](https://inspire-geoportal.ec.europa.eu) and search for the **Digital Elevation Model** available for the Hamburg city.\n",
    "- Click to \"Browse INSPIRE Thematic Datasets\".\n",
    "- Click to \"INSPIRE Data Themes\"\n",
    "- Find the relevant theme on this page and select the country on the following web page.\n",
    "\n",
    "Explore possible answers to the following questions:\n",
    "- [ ] Where is the service URL?\n",
    "- [ ] What kind of services are available in the theme? \n",
    "- [ ] Can TANDEM-X datasets be useful for our project? If not, why?\n",
    "- [ ] Is the selected dataset also available on **geoportal.de** ?\n",
    "- [ ] Is the selected dataset also available on **Hamburg Transparenzportal**?\n",
    "- [ ] Are all domain names in the service URLs the same?\n",
    "\n",
    "Finally: \n",
    "- [ ] If you think you have found a web service that suits your purpose, run the “**found_service()**” function."
   ]
  },
  {
   "cell_type": "markdown",
   "id": "1fe5111d-0615-4e52-8332-17641af17210",
   "metadata": {},
   "source": [
    "### 3 d) Flood Risk Zones\n",
    "\n",
    "<img src=\"./images/exr3/flood_risk_service.png\" width=250 height=250 align=\"right\" style=\"margin:10px;padding:10px;background-color:#dad7cb;\"/>\n",
    "\n",
    "Visit the web site [INSPIRE Geoportal](https://inspire-geoportal.ec.europa.eu) again and search for the **flood risk zones** available for the Hamburg city.\n",
    "\n",
    "- Click to \"Browse Priority Data Sets\".\n",
    "- Click to \"Environmental Domains\".\n",
    "- Click to \"Water\".\n",
    "- Select the country and search with following possible words / tags:\n",
    "  - Wasserrahmenrichtlinie (Water Framework Directive)\n",
    "  - Gewässer (Water Bodies)\n",
    "  - Hochwasserrisikos (Flood Risks)\n",
    "  - Fließgewässern (Watercourses)\n",
    "  \n",
    "Finally: \n",
    "- [ ] If you think you have found a web service that suits your purpose, run the “**found_service()**” function."
   ]
  },
  {
   "cell_type": "markdown",
   "id": "3626e5d1-2303-4f18-9575-7b52f1fff211",
   "metadata": {},
   "source": [
    "## 4) Adding Services to GIS Software\n",
    "\n",
    "<img src=\"./images/exr3/qgis_adding_xyz.png\" width=250 height=auto align=\"right\"  style=\"margin:10px;padding:10px;background-color:#dad7cb;\"/>\n",
    "\n",
    "In this chapter, you will learn how to add web services or datasets to a GIS software. You probably don't know what \"web service\" actually means or how to use it correctly, but you don't need to have a deep understanding of web services right now. You may need to recognize the type of web service, but nothing more.\n",
    "\n",
    "### 4 a) Adding Services to QGIS\n",
    "\n",
    "#### 4a i) Add XYZ Basemap\n",
    "- Start by adding a basemap with global coverage and simple styling. \"Carto Positron\" would be a good option for this purpose. (If you want to try other XYZ basemap services, visit [Klas Karlsson's github repository](https://github.com/klakar/QGIS_resources/blob/master/collections/Geosupportsystem/python/qgis_basemaps.py) or search online.\n",
    "  - [ ] Find XYZ Tiles in browser panel on the left side and right click to add a new connection.\n",
    "  - [ ] Copy and paste [https://cartodb-basemaps-a.global.ssl.fastly.net/light_all/{z}/{x}/{y}.png](https://cartodb-basemaps-a.global.ssl.fastly.net/light_all/{z}/{x}/{y}.png) link to the URL textbox and give any name as you want. Click Ok button.\n",
    "  - [ ] Find the city center of Hamburg on the map and zoom in until the canvas covers only some buildings. Alternatively, at the bottom of the QGIS window you can set the scale to 1:2000 or larger.\n",
    "> TIP: Sometimes you need to zoom in on your area of interest to avoid long loading times or just to make sure that the layer is visible in the area.\n",
    "\n",
    "<img src=\"./images/exr3/qgis_crs.png\" width=250 height=auto align=\"right\" style=\"margin:10px;padding:10px;background-color:#dad7cb;\"/>\n",
    "\n",
    "- Check the coordinate system of the active map canvas (map widget in the software). If it is defined as OGC:CRS84, change it to EPSG:4326 Coordinate Reference System (CRS). You will notice some distortion on the map canvas, this is normal because EPSG:4326 (aka WGS84) is a geographic coordinate system, not a projected coordinate system. You may need to use this coordinate system from time to time because it is one of the most widely supported CRS by web services.\n",
    "- Check the type of web services you noted in section 1) and add them considering the type of web services.\n",
    "> TIP: There are multiple ways to check the type of web services. One could be to check the categories or filters available on the SDI website. The other method could be to check the metadata to find the type. Finally, if you segment the request URL, you might see a query parameter like \"service=WMS\" or \"service=WFS\".\n",
    "\n",
    "#### 4a ii) Add WMS Service\n",
    "  - [ ] Go to **Layer > Add Layer > Add WMS/WMTS Layer** in the menu bar.\n",
    "  - [ ] To create a new connection, click the New button and copy & paste the URL you noted in part 1). Click OK and then click the Connect button.\n",
    "  - [ ] Click to any available layer in the service, check the coordinate system and click to Add Button.\n",
    "\n",
    "<img src=\"./images/exr3/qgis_wms.png\" width=250 height=auto align=\"right\" style=\"margin:10px;padding:10px;background-color:#dad7cb;\"/>\n",
    "\n",
    "#### 4a iii) Add WFS Service\n",
    "  > **IMPORTANT NOTE** Some servers provide Complex Data Features with WFS services, which makes it difficult to add these services to GIS software. So, if you notice such a WFS with complex data, avoid adding this service.\n",
    "  - [ ] Go to **Layer > Add Layer > Add WFS / OGC API - Features Layer** in the menu bar. To create a new connection, click the New button and copy and paste the URL you noted in part 1). Specify the \"Max. number of features\" as 200 or less. Click OK and then click the Connect button.\n",
    "  - [ ] Click to any available layer in the service, check the coordinate system and click to Add Button.\n",
    "  - [ ] Select only a few features from the screen or press Ctrl + F6 buttons. Take a glance on existing attributes and values for the features.\n",
    "  > Tip: Sometimes features can be presented as overlapping polygons in the same data service.\n",
    "If you are in doubt about overlapping polygons, simply change the symbology of the layer in the properties window to transparent fill to reveal the overlapping polygons.\n"
   ]
  },
  {
   "cell_type": "markdown",
   "id": "c846bc40-4192-4991-85b2-425b85b6194d",
   "metadata": {},
   "source": [
    "### 4 b) Adding Services to ArcGIS Pro\n",
    "\n",
    "<img src=\"./images/exr3/arcgis_pro_add_connection.png\" width=200 height=auto align=\"right\" style=\"margin:10px;padding:10px;background-color:#dad7cb;\"/>\n",
    "\n",
    "- ArcGIS Pro collects all the data services in the “Servers” section.\n",
    "- [ ] Navigate to Connections > Server > New WMS Server from the Insert tab.\n",
    "- [ ] Copy & Paste WMS address into “Server URL” text box. Specify user authentication if it is needed.\n",
    "- [ ] If the server has been successfully added, it can be added into map canvas from Add Data menu. Right Click on “Map” in the left Contents pane and select Add Data.\n",
    "- [ ] Go to Servers and find the WMS Server connection set up in the previous step.\n",
    "- [ ] Select the WMS Server and click to Ok.\n",
    "- [ ] Select the layers of interest from the WMS layers tree.\n",
    "- [ ] If the WMS server connection is \"queryable\", you can query features in the WMS layers by clicking directly on them. Zoom in on a specific feature and find the \"Locate\" icon on the Map tab. Then click on the feature.\n",
    "\n",
    "<img src=\"./images/exr3/arcgis_pro_locate.png\" width=200 height=auto align=\"right\" style=\"margin:10px;padding:10px;background-color:#dad7cb;\"/>\n",
    "\n",
    "- You will see feature information in a pop-up window in the right pane. If there are multiple features on the map canvas, you may see multiple WMS layers and multiple feature information windows in the popup.\n",
    "- [ ] Press Ctrl+Alt+M or go to Help > Performance > Diagnostic Monitor to\n",
    "examine the requests send by ArcGIS Pro.\n",
    "- Now you can combine all the layers in your selected GIS software.\n",
    "- You can now manually inspect land parcels and buildings that intersect flood zones.\n",
    "- This point can be considered as an outline of a Disaster Management Application apart from the need for\n",
    "automation.\n",
    "\n",
    ".\n",
    "\n",
    "<img src=\"./images/exr3/arcgis_pro_wms_added.png\" width=200 height=auto align=\"right\" style=\"margin:10px;padding:10px;background-color:#dad7cb;\"/>"
   ]
  },
  {
   "cell_type": "markdown",
   "id": "48bab69d-7d4b-4fe9-ba6f-26dfa67140f6",
   "metadata": {},
   "source": [
    "### 4 c) Adding a WMS Service in FME\n",
    "\n",
    "<img src=\"./images/exr3/fme_fme_options.png\" width=200 height=auto align=\"right\" style=\"margin:10px;padding:10px;background-color:#dad7cb;\"/>\n",
    "\n",
    "- There are multiple ways to use web services in FME. One of the simplest is to use the WMS as a background map in the “Visual Preview” window/widget.\n",
    "\n",
    "#### 4c i) Adding a WMS Service to FME as Background Map\n",
    "\n",
    "- [ ] To use a WMS layer as a background map, find “FME Options” in the menu under Tools. Select the “Background Maps” tab.\n",
    "- [ ] Visit the website [geoservice.dlr.de](https://geoservice.dlr.de) and search for the service called “TanDEM-X 30m DEM”. Find the endpoint (WMS URL of the service) of one of the Hillshade layers in the service.\n",
    "- [ ] Go back to FME and click on the plus icon (+) at the bottom left in the Background Maps window.\n",
    "- [ ] Select “OGC WMS (Web Map Service)” from the “Source” menu.\n",
    "- [ ] Enter any custom name for the web service.\n",
    "- [ ] Copy and paste the WMS URL (endpoint) of the selected layer into the “URL” text box in the \"WMS Connection\" group.\n",
    "\n",
    "<img src=\"./images/exr3/fme_background_map.png\" width=200 height=auto align=\"right\" style=\"margin:10px;padding:10px;background-color:#dad7cb;\"/>\n",
    "\n",
    "- [ ] Click the three dots (...) button next to the “Layers” text box and select the shorten name of the desired layer.\n",
    "- [ ] If everything went well, you will be able to select the background map as the selected WMS service.\n",
    "\n"
   ]
  },
  {
   "cell_type": "markdown",
   "id": "4d595b7d-a174-48b4-8d32-6d14ef900780",
   "metadata": {},
   "source": [
    "#### 4c ii) Adding a WMS Service to FME as Reader\n",
    "\n",
    "<img src=\"./images/exr3/fme_tandex_featureinfo.png\" width=200 height=auto align=\"right\" style=\"margin:10px;padding:10px;background-color:#dad7cb;\"/>\n",
    "\n",
    "- You can also add the WMS service as a data source (Reader) in FME. This procedure can be useful for tasks related to raster images.\n",
    "  - To do that, just type \"OGC WMS\" in an empty area on the main pane of FME Workbench. \n",
    "- “PointOnRasterValueExtractor” can be one of the useful transformers that can select the band color value of a raster image using point coordinates.\n",
    "\n",
    "#### 4c iii) Using GetFeatureInfo request in FME (Optional Step)\n",
    "\n",
    "- Since, the service operation \"GetFeatureInfo\" is not a mandatory in the WMS satndard, there is no a built-in tool to do use it. (You can search in the [Community Hub](https://hub.safe.com/) for such a function)\n",
    "- [ ] If you need to implement such a function in FME, then you might be interested with the following tutorial video:\n",
    "  - [youtube.com/watch?v=kNeMNr2fAtM](https://www.youtube.com/watch?v=kNeMNr2fAtM)"
   ]
  }
 ],
 "metadata": {
  "CodeCellConfig": {
   "lineWrapping": true
  },
  "MarkdownCellConfig": {
   "lineWrapping": true
  },
  "authors": [
   {
    "name": "Murat Kendir"
   },
   {
    "name": "Prof. Thomas Kolbe"
   }
  ],
  "kernelspec": {
   "display_name": "Python 3 (ipykernel)",
   "language": "python",
   "name": "python3"
  },
  "language_info": {
   "codemirror_mode": {
    "name": "ipython",
    "version": 3
   },
   "file_extension": ".py",
   "mimetype": "text/x-python",
   "name": "python",
   "nbconvert_exporter": "python",
   "pygments_lexer": "ipython3",
   "version": "3.12.3"
  },
  "title": "Introduction to Python with an Example App Based on Geospatial Data"
 },
 "nbformat": 4,
 "nbformat_minor": 5
}
